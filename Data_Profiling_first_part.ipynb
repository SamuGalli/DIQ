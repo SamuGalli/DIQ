{
  "cells": [
    {
      "cell_type": "markdown",
      "metadata": {
        "colab_type": "text",
        "id": "view-in-github"
      },
      "source": [
        "<a href=\"https://colab.research.google.com/github/SamuGalli/DIQ/blob/main/Data_Profiling_first_part.ipynb\" target=\"_parent\"><img src=\"https://colab.research.google.com/assets/colab-badge.svg\" alt=\"Open In Colab\"/></a>"
      ]
    },
    {
      "cell_type": "markdown",
      "metadata": {
        "id": "w8ZQ94-883b2"
      },
      "source": [
        "# **2. DATA PROFILING**"
      ]
    },
    {
      "cell_type": "markdown",
      "metadata": {
        "id": "jBsQ_-zk8m-L"
      },
      "source": [
        "Import libraries:"
      ]
    },
    {
      "cell_type": "code",
      "execution_count": 1,
      "metadata": {
        "colab": {
          "base_uri": "https://localhost:8080/"
        },
        "collapsed": true,
        "id": "pdWSyiew9Rw3",
        "outputId": "c8b1ff3f-efe4-4d13-b8b7-caceb90a1493"
      },
      "outputs": [
        {
          "name": "stdout",
          "output_type": "stream",
          "text": [
            "Collecting sweetviz\n",
            "  Downloading sweetviz-2.3.1-py3-none-any.whl.metadata (24 kB)\n",
            "Collecting lux-api\n",
            "  Downloading lux-api-0.5.1.tar.gz (127 kB)\n",
            "     ---------------------------------------- 0.0/127.0 kB ? eta -:--:--\n",
            "     ------------------------------------ - 122.9/127.0 kB 3.6 MB/s eta 0:00:01\n",
            "     -------------------------------------- 127.0/127.0 kB 2.5 MB/s eta 0:00:00\n",
            "  Installing build dependencies: started\n",
            "  Installing build dependencies: finished with status 'done'\n",
            "  Getting requirements to build wheel: started\n",
            "  Getting requirements to build wheel: finished with status 'done'\n",
            "  Preparing metadata (pyproject.toml): started\n",
            "  Preparing metadata (pyproject.toml): finished with status 'done'\n",
            "Collecting autoviz\n",
            "  Downloading autoviz-0.1.905-py3-none-any.whl.metadata (14 kB)\n",
            "Collecting plotly\n",
            "  Downloading plotly-5.24.1-py3-none-any.whl.metadata (7.3 kB)\n",
            "Requirement already satisfied: matplotlib in c:\\users\\dferracuti\\appdata\\local\\packages\\pythonsoftwarefoundation.python.3.11_qbz5n2kfra8p0\\localcache\\local-packages\\python311\\site-packages (3.9.4)\n",
            "Requirement already satisfied: pandas!=1.0.0,!=1.0.1,!=1.0.2,>=0.25.3 in c:\\users\\dferracuti\\appdata\\local\\packages\\pythonsoftwarefoundation.python.3.11_qbz5n2kfra8p0\\localcache\\local-packages\\python311\\site-packages (from sweetviz) (2.2.3)\n",
            "Requirement already satisfied: numpy>=1.16.0 in c:\\users\\dferracuti\\appdata\\local\\packages\\pythonsoftwarefoundation.python.3.11_qbz5n2kfra8p0\\localcache\\local-packages\\python311\\site-packages (from sweetviz) (2.0.2)\n",
            "Requirement already satisfied: tqdm>=4.43.0 in c:\\users\\dferracuti\\appdata\\local\\packages\\pythonsoftwarefoundation.python.3.11_qbz5n2kfra8p0\\localcache\\local-packages\\python311\\site-packages (from sweetviz) (4.67.1)\n",
            "Requirement already satisfied: scipy>=1.3.2 in c:\\users\\dferracuti\\appdata\\local\\packages\\pythonsoftwarefoundation.python.3.11_qbz5n2kfra8p0\\localcache\\local-packages\\python311\\site-packages (from sweetviz) (1.13.1)\n",
            "Requirement already satisfied: jinja2>=2.11.1 in c:\\users\\dferracuti\\appdata\\local\\packages\\pythonsoftwarefoundation.python.3.11_qbz5n2kfra8p0\\localcache\\local-packages\\python311\\site-packages (from sweetviz) (3.1.4)\n",
            "Collecting importlib-resources>=1.2.0 (from sweetviz)\n",
            "  Downloading importlib_resources-6.4.5-py3-none-any.whl.metadata (4.0 kB)\n",
            "Collecting altair>=4.0.0 (from lux-api)\n",
            "  Downloading altair-5.5.0-py3-none-any.whl.metadata (11 kB)\n",
            "Collecting scikit-learn>=0.22 (from lux-api)\n",
            "  Downloading scikit_learn-1.6.0-cp311-cp311-win_amd64.whl.metadata (15 kB)\n",
            "Collecting lux-widget>=0.1.4 (from lux-api)\n",
            "  Downloading lux-widget-0.1.11.tar.gz (2.5 MB)\n",
            "     ---------------------------------------- 0.0/2.5 MB ? eta -:--:--\n",
            "     ------------------------- -------------- 1.6/2.5 MB 33.8 MB/s eta 0:00:01\n",
            "     ---------------------------------------- 2.5/2.5 MB 32.1 MB/s eta 0:00:00\n",
            "  Installing build dependencies: started\n",
            "  Installing build dependencies: finished with status 'done'\n",
            "  Getting requirements to build wheel: started\n",
            "  Getting requirements to build wheel: finished with status 'done'\n",
            "  Preparing metadata (pyproject.toml): started\n",
            "  Preparing metadata (pyproject.toml): finished with status 'done'\n",
            "Collecting autopep8>=1.5 (from lux-api)\n",
            "  Downloading autopep8-2.3.1-py2.py3-none-any.whl.metadata (16 kB)\n",
            "Collecting iso3166 (from lux-api)\n",
            "  Downloading iso3166-2.1.1-py3-none-any.whl.metadata (6.6 kB)\n",
            "Requirement already satisfied: psutil>=5.9.0 in c:\\users\\dferracuti\\appdata\\local\\packages\\pythonsoftwarefoundation.python.3.11_qbz5n2kfra8p0\\localcache\\local-packages\\python311\\site-packages (from lux-api) (6.1.0)\n",
            "Collecting sh (from lux-api)\n",
            "  Downloading sh-2.1.0-py3-none-any.whl.metadata (3.4 kB)\n",
            "Collecting xlrd (from autoviz)\n",
            "  Downloading xlrd-2.0.1-py2.py3-none-any.whl.metadata (3.4 kB)\n",
            "Requirement already satisfied: wordcloud in c:\\users\\dferracuti\\appdata\\local\\packages\\pythonsoftwarefoundation.python.3.11_qbz5n2kfra8p0\\localcache\\local-packages\\python311\\site-packages (from autoviz) (1.9.4)\n",
            "Collecting emoji (from autoviz)\n",
            "  Downloading emoji-2.14.0-py3-none-any.whl.metadata (5.7 kB)\n",
            "Collecting pyamg (from autoviz)\n",
            "  Downloading pyamg-5.2.1-cp311-cp311-win_amd64.whl.metadata (8.3 kB)\n",
            "Requirement already satisfied: statsmodels in c:\\users\\dferracuti\\appdata\\local\\packages\\pythonsoftwarefoundation.python.3.11_qbz5n2kfra8p0\\localcache\\local-packages\\python311\\site-packages (from autoviz) (0.14.4)\n",
            "Collecting nltk (from autoviz)\n",
            "  Downloading nltk-3.9.1-py3-none-any.whl.metadata (2.9 kB)\n",
            "Collecting textblob (from autoviz)\n",
            "  Downloading textblob-0.18.0.post0-py3-none-any.whl.metadata (4.5 kB)\n",
            "Collecting xgboost<1.7,>=0.82 (from autoviz)\n",
            "  Downloading xgboost-1.6.2-py3-none-win_amd64.whl.metadata (1.8 kB)\n",
            "Collecting fsspec>=0.8.3 (from autoviz)\n",
            "  Downloading fsspec-2024.10.0-py3-none-any.whl.metadata (11 kB)\n",
            "Requirement already satisfied: typing-extensions>=4.1.1 in c:\\users\\dferracuti\\appdata\\local\\packages\\pythonsoftwarefoundation.python.3.11_qbz5n2kfra8p0\\localcache\\local-packages\\python311\\site-packages (from autoviz) (4.12.2)\n",
            "Collecting pandas-dq>=1.29 (from autoviz)\n",
            "  Downloading pandas_dq-1.29-py3-none-any.whl.metadata (19 kB)\n",
            "Collecting hvplot>=0.9.2 (from autoviz)\n",
            "  Downloading hvplot-0.11.1-py3-none-any.whl.metadata (15 kB)\n",
            "Collecting holoviews>=1.16.0 (from autoviz)\n",
            "  Downloading holoviews-1.20.0-py3-none-any.whl.metadata (9.9 kB)\n",
            "Collecting panel>=1.4.0 (from autoviz)\n",
            "  Downloading panel-1.5.4-py3-none-any.whl.metadata (15 kB)\n",
            "Requirement already satisfied: seaborn>0.12.2 in c:\\users\\dferracuti\\appdata\\local\\packages\\pythonsoftwarefoundation.python.3.11_qbz5n2kfra8p0\\localcache\\local-packages\\python311\\site-packages (from autoviz) (0.13.2)\n",
            "Collecting tenacity>=6.2.0 (from plotly)\n",
            "  Downloading tenacity-9.0.0-py3-none-any.whl.metadata (1.2 kB)\n",
            "Requirement already satisfied: packaging in c:\\users\\dferracuti\\appdata\\local\\packages\\pythonsoftwarefoundation.python.3.11_qbz5n2kfra8p0\\localcache\\local-packages\\python311\\site-packages (from plotly) (24.2)\n",
            "Requirement already satisfied: contourpy>=1.0.1 in c:\\users\\dferracuti\\appdata\\local\\packages\\pythonsoftwarefoundation.python.3.11_qbz5n2kfra8p0\\localcache\\local-packages\\python311\\site-packages (from matplotlib) (1.3.1)\n",
            "Requirement already satisfied: cycler>=0.10 in c:\\users\\dferracuti\\appdata\\local\\packages\\pythonsoftwarefoundation.python.3.11_qbz5n2kfra8p0\\localcache\\local-packages\\python311\\site-packages (from matplotlib) (0.12.1)\n",
            "Requirement already satisfied: fonttools>=4.22.0 in c:\\users\\dferracuti\\appdata\\local\\packages\\pythonsoftwarefoundation.python.3.11_qbz5n2kfra8p0\\localcache\\local-packages\\python311\\site-packages (from matplotlib) (4.55.3)\n",
            "Requirement already satisfied: kiwisolver>=1.3.1 in c:\\users\\dferracuti\\appdata\\local\\packages\\pythonsoftwarefoundation.python.3.11_qbz5n2kfra8p0\\localcache\\local-packages\\python311\\site-packages (from matplotlib) (1.4.7)\n",
            "Requirement already satisfied: pillow>=8 in c:\\users\\dferracuti\\appdata\\local\\packages\\pythonsoftwarefoundation.python.3.11_qbz5n2kfra8p0\\localcache\\local-packages\\python311\\site-packages (from matplotlib) (11.0.0)\n",
            "Requirement already satisfied: pyparsing>=2.3.1 in c:\\users\\dferracuti\\appdata\\local\\packages\\pythonsoftwarefoundation.python.3.11_qbz5n2kfra8p0\\localcache\\local-packages\\python311\\site-packages (from matplotlib) (3.2.0)\n",
            "Requirement already satisfied: python-dateutil>=2.7 in c:\\users\\dferracuti\\appdata\\local\\packages\\pythonsoftwarefoundation.python.3.11_qbz5n2kfra8p0\\localcache\\local-packages\\python311\\site-packages (from matplotlib) (2.9.0.post0)\n",
            "Requirement already satisfied: jsonschema>=3.0 in c:\\users\\dferracuti\\appdata\\local\\packages\\pythonsoftwarefoundation.python.3.11_qbz5n2kfra8p0\\localcache\\local-packages\\python311\\site-packages (from altair>=4.0.0->lux-api) (4.23.0)\n",
            "Collecting narwhals>=1.14.2 (from altair>=4.0.0->lux-api)\n",
            "  Downloading narwhals-1.18.3-py3-none-any.whl.metadata (8.3 kB)\n",
            "Collecting pycodestyle>=2.12.0 (from autopep8>=1.5->lux-api)\n",
            "  Downloading pycodestyle-2.12.1-py2.py3-none-any.whl.metadata (4.5 kB)\n",
            "Collecting bokeh>=3.1 (from holoviews>=1.16.0->autoviz)\n",
            "  Downloading bokeh-3.6.2-py3-none-any.whl.metadata (12 kB)\n",
            "Collecting colorcet (from holoviews>=1.16.0->autoviz)\n",
            "  Downloading colorcet-3.1.0-py3-none-any.whl.metadata (6.3 kB)\n",
            "Collecting param<3.0,>=2.0 (from holoviews>=1.16.0->autoviz)\n",
            "  Downloading param-2.1.1-py3-none-any.whl.metadata (7.2 kB)\n",
            "Collecting pyviz-comms>=2.1 (from holoviews>=1.16.0->autoviz)\n",
            "  Downloading pyviz_comms-3.0.3-py3-none-any.whl.metadata (7.7 kB)\n",
            "Requirement already satisfied: MarkupSafe>=2.0 in c:\\users\\dferracuti\\appdata\\local\\packages\\pythonsoftwarefoundation.python.3.11_qbz5n2kfra8p0\\localcache\\local-packages\\python311\\site-packages (from jinja2>=2.11.1->sweetviz) (3.0.2)\n",
            "Requirement already satisfied: notebook>=4.0.0 in c:\\users\\dferracuti\\appdata\\local\\packages\\pythonsoftwarefoundation.python.3.11_qbz5n2kfra8p0\\localcache\\local-packages\\python311\\site-packages (from lux-widget>=0.1.4->lux-api) (7.3.1)\n",
            "Requirement already satisfied: ipywidgets>=7.5.0 in c:\\users\\dferracuti\\appdata\\local\\packages\\pythonsoftwarefoundation.python.3.11_qbz5n2kfra8p0\\localcache\\local-packages\\python311\\site-packages (from lux-widget>=0.1.4->lux-api) (8.1.5)\n",
            "Requirement already satisfied: pytz>=2020.1 in c:\\users\\dferracuti\\appdata\\local\\packages\\pythonsoftwarefoundation.python.3.11_qbz5n2kfra8p0\\localcache\\local-packages\\python311\\site-packages (from pandas!=1.0.0,!=1.0.1,!=1.0.2,>=0.25.3->sweetviz) (2024.2)\n",
            "Requirement already satisfied: tzdata>=2022.7 in c:\\users\\dferracuti\\appdata\\local\\packages\\pythonsoftwarefoundation.python.3.11_qbz5n2kfra8p0\\localcache\\local-packages\\python311\\site-packages (from pandas!=1.0.0,!=1.0.1,!=1.0.2,>=0.25.3->sweetviz) (2024.2)\n",
            "Requirement already satisfied: bleach in c:\\users\\dferracuti\\appdata\\local\\packages\\pythonsoftwarefoundation.python.3.11_qbz5n2kfra8p0\\localcache\\local-packages\\python311\\site-packages (from panel>=1.4.0->autoviz) (6.2.0)\n",
            "Collecting linkify-it-py (from panel>=1.4.0->autoviz)\n",
            "  Downloading linkify_it_py-2.0.3-py3-none-any.whl.metadata (8.5 kB)\n",
            "Collecting markdown (from panel>=1.4.0->autoviz)\n",
            "  Downloading Markdown-3.7-py3-none-any.whl.metadata (7.0 kB)\n",
            "Collecting markdown-it-py (from panel>=1.4.0->autoviz)\n",
            "  Downloading markdown_it_py-3.0.0-py3-none-any.whl.metadata (6.9 kB)\n",
            "Collecting mdit-py-plugins (from panel>=1.4.0->autoviz)\n",
            "  Downloading mdit_py_plugins-0.4.2-py3-none-any.whl.metadata (2.8 kB)\n",
            "Requirement already satisfied: requests in c:\\users\\dferracuti\\appdata\\local\\packages\\pythonsoftwarefoundation.python.3.11_qbz5n2kfra8p0\\localcache\\local-packages\\python311\\site-packages (from panel>=1.4.0->autoviz) (2.32.3)\n",
            "Requirement already satisfied: six>=1.5 in c:\\users\\dferracuti\\appdata\\local\\packages\\pythonsoftwarefoundation.python.3.11_qbz5n2kfra8p0\\localcache\\local-packages\\python311\\site-packages (from python-dateutil>=2.7->matplotlib) (1.16.0)\n",
            "Requirement already satisfied: joblib>=1.2.0 in c:\\users\\dferracuti\\appdata\\local\\packages\\pythonsoftwarefoundation.python.3.11_qbz5n2kfra8p0\\localcache\\local-packages\\python311\\site-packages (from scikit-learn>=0.22->lux-api) (1.4.2)\n",
            "Collecting threadpoolctl>=3.1.0 (from scikit-learn>=0.22->lux-api)\n",
            "  Downloading threadpoolctl-3.5.0-py3-none-any.whl.metadata (13 kB)\n",
            "Requirement already satisfied: colorama in c:\\users\\dferracuti\\appdata\\local\\packages\\pythonsoftwarefoundation.python.3.11_qbz5n2kfra8p0\\localcache\\local-packages\\python311\\site-packages (from tqdm>=4.43.0->sweetviz) (0.4.6)\n",
            "Collecting click (from nltk->autoviz)\n",
            "  Downloading click-8.1.7-py3-none-any.whl.metadata (3.0 kB)\n",
            "Collecting regex>=2021.8.3 (from nltk->autoviz)\n",
            "  Downloading regex-2024.11.6-cp311-cp311-win_amd64.whl.metadata (41 kB)\n",
            "     ---------------------------------------- 0.0/41.5 kB ? eta -:--:--\n",
            "     ---------------------------------------- 41.5/41.5 kB 2.1 MB/s eta 0:00:00\n",
            "Requirement already satisfied: patsy>=0.5.6 in c:\\users\\dferracuti\\appdata\\local\\packages\\pythonsoftwarefoundation.python.3.11_qbz5n2kfra8p0\\localcache\\local-packages\\python311\\site-packages (from statsmodels->autoviz) (1.0.1)\n",
            "Requirement already satisfied: PyYAML>=3.10 in c:\\users\\dferracuti\\appdata\\local\\packages\\pythonsoftwarefoundation.python.3.11_qbz5n2kfra8p0\\localcache\\local-packages\\python311\\site-packages (from bokeh>=3.1->holoviews>=1.16.0->autoviz) (6.0.2)\n",
            "Requirement already satisfied: tornado>=6.2 in c:\\users\\dferracuti\\appdata\\local\\packages\\pythonsoftwarefoundation.python.3.11_qbz5n2kfra8p0\\localcache\\local-packages\\python311\\site-packages (from bokeh>=3.1->holoviews>=1.16.0->autoviz) (6.4.2)\n",
            "Collecting xyzservices>=2021.09.1 (from bokeh>=3.1->holoviews>=1.16.0->autoviz)\n",
            "  Downloading xyzservices-2024.9.0-py3-none-any.whl.metadata (4.1 kB)\n",
            "Requirement already satisfied: comm>=0.1.3 in c:\\users\\dferracuti\\appdata\\local\\packages\\pythonsoftwarefoundation.python.3.11_qbz5n2kfra8p0\\localcache\\local-packages\\python311\\site-packages (from ipywidgets>=7.5.0->lux-widget>=0.1.4->lux-api) (0.2.2)\n",
            "Requirement already satisfied: ipython>=6.1.0 in c:\\users\\dferracuti\\appdata\\local\\packages\\pythonsoftwarefoundation.python.3.11_qbz5n2kfra8p0\\localcache\\local-packages\\python311\\site-packages (from ipywidgets>=7.5.0->lux-widget>=0.1.4->lux-api) (8.29.0)\n",
            "Requirement already satisfied: traitlets>=4.3.1 in c:\\users\\dferracuti\\appdata\\local\\packages\\pythonsoftwarefoundation.python.3.11_qbz5n2kfra8p0\\localcache\\local-packages\\python311\\site-packages (from ipywidgets>=7.5.0->lux-widget>=0.1.4->lux-api) (5.14.3)\n",
            "Requirement already satisfied: widgetsnbextension~=4.0.12 in c:\\users\\dferracuti\\appdata\\local\\packages\\pythonsoftwarefoundation.python.3.11_qbz5n2kfra8p0\\localcache\\local-packages\\python311\\site-packages (from ipywidgets>=7.5.0->lux-widget>=0.1.4->lux-api) (4.0.13)\n",
            "Requirement already satisfied: jupyterlab-widgets~=3.0.12 in c:\\users\\dferracuti\\appdata\\local\\packages\\pythonsoftwarefoundation.python.3.11_qbz5n2kfra8p0\\localcache\\local-packages\\python311\\site-packages (from ipywidgets>=7.5.0->lux-widget>=0.1.4->lux-api) (3.0.13)\n",
            "Requirement already satisfied: attrs>=22.2.0 in c:\\users\\dferracuti\\appdata\\local\\packages\\pythonsoftwarefoundation.python.3.11_qbz5n2kfra8p0\\localcache\\local-packages\\python311\\site-packages (from jsonschema>=3.0->altair>=4.0.0->lux-api) (24.2.0)\n",
            "Requirement already satisfied: jsonschema-specifications>=2023.03.6 in c:\\users\\dferracuti\\appdata\\local\\packages\\pythonsoftwarefoundation.python.3.11_qbz5n2kfra8p0\\localcache\\local-packages\\python311\\site-packages (from jsonschema>=3.0->altair>=4.0.0->lux-api) (2024.10.1)\n",
            "Requirement already satisfied: referencing>=0.28.4 in c:\\users\\dferracuti\\appdata\\local\\packages\\pythonsoftwarefoundation.python.3.11_qbz5n2kfra8p0\\localcache\\local-packages\\python311\\site-packages (from jsonschema>=3.0->altair>=4.0.0->lux-api) (0.35.1)\n",
            "Requirement already satisfied: rpds-py>=0.7.1 in c:\\users\\dferracuti\\appdata\\local\\packages\\pythonsoftwarefoundation.python.3.11_qbz5n2kfra8p0\\localcache\\local-packages\\python311\\site-packages (from jsonschema>=3.0->altair>=4.0.0->lux-api) (0.22.3)\n",
            "Requirement already satisfied: jupyter-server<3,>=2.4.0 in c:\\users\\dferracuti\\appdata\\local\\packages\\pythonsoftwarefoundation.python.3.11_qbz5n2kfra8p0\\localcache\\local-packages\\python311\\site-packages (from notebook>=4.0.0->lux-widget>=0.1.4->lux-api) (2.14.2)\n",
            "Requirement already satisfied: jupyterlab-server<3,>=2.27.1 in c:\\users\\dferracuti\\appdata\\local\\packages\\pythonsoftwarefoundation.python.3.11_qbz5n2kfra8p0\\localcache\\local-packages\\python311\\site-packages (from notebook>=4.0.0->lux-widget>=0.1.4->lux-api) (2.27.3)\n",
            "Requirement already satisfied: jupyterlab<4.4,>=4.3.2 in c:\\users\\dferracuti\\appdata\\local\\packages\\pythonsoftwarefoundation.python.3.11_qbz5n2kfra8p0\\localcache\\local-packages\\python311\\site-packages (from notebook>=4.0.0->lux-widget>=0.1.4->lux-api) (4.3.3)\n",
            "Requirement already satisfied: notebook-shim<0.3,>=0.2 in c:\\users\\dferracuti\\appdata\\local\\packages\\pythonsoftwarefoundation.python.3.11_qbz5n2kfra8p0\\localcache\\local-packages\\python311\\site-packages (from notebook>=4.0.0->lux-widget>=0.1.4->lux-api) (0.2.4)\n",
            "Requirement already satisfied: webencodings in c:\\users\\dferracuti\\appdata\\local\\packages\\pythonsoftwarefoundation.python.3.11_qbz5n2kfra8p0\\localcache\\local-packages\\python311\\site-packages (from bleach->panel>=1.4.0->autoviz) (0.5.1)\n",
            "Collecting uc-micro-py (from linkify-it-py->panel>=1.4.0->autoviz)\n",
            "  Downloading uc_micro_py-1.0.3-py3-none-any.whl.metadata (2.0 kB)\n",
            "Collecting mdurl~=0.1 (from markdown-it-py->panel>=1.4.0->autoviz)\n",
            "  Downloading mdurl-0.1.2-py3-none-any.whl.metadata (1.6 kB)\n",
            "Requirement already satisfied: charset-normalizer<4,>=2 in c:\\users\\dferracuti\\appdata\\local\\packages\\pythonsoftwarefoundation.python.3.11_qbz5n2kfra8p0\\localcache\\local-packages\\python311\\site-packages (from requests->panel>=1.4.0->autoviz) (3.4.0)\n",
            "Requirement already satisfied: idna<4,>=2.5 in c:\\users\\dferracuti\\appdata\\local\\packages\\pythonsoftwarefoundation.python.3.11_qbz5n2kfra8p0\\localcache\\local-packages\\python311\\site-packages (from requests->panel>=1.4.0->autoviz) (3.10)\n",
            "Requirement already satisfied: urllib3<3,>=1.21.1 in c:\\users\\dferracuti\\appdata\\local\\packages\\pythonsoftwarefoundation.python.3.11_qbz5n2kfra8p0\\localcache\\local-packages\\python311\\site-packages (from requests->panel>=1.4.0->autoviz) (2.2.3)\n",
            "Requirement already satisfied: certifi>=2017.4.17 in c:\\users\\dferracuti\\appdata\\local\\packages\\pythonsoftwarefoundation.python.3.11_qbz5n2kfra8p0\\localcache\\local-packages\\python311\\site-packages (from requests->panel>=1.4.0->autoviz) (2024.12.14)\n",
            "Requirement already satisfied: decorator in c:\\users\\dferracuti\\appdata\\local\\packages\\pythonsoftwarefoundation.python.3.11_qbz5n2kfra8p0\\localcache\\local-packages\\python311\\site-packages (from ipython>=6.1.0->ipywidgets>=7.5.0->lux-widget>=0.1.4->lux-api) (5.1.1)\n",
            "Requirement already satisfied: jedi>=0.16 in c:\\users\\dferracuti\\appdata\\local\\packages\\pythonsoftwarefoundation.python.3.11_qbz5n2kfra8p0\\localcache\\local-packages\\python311\\site-packages (from ipython>=6.1.0->ipywidgets>=7.5.0->lux-widget>=0.1.4->lux-api) (0.19.2)\n",
            "Requirement already satisfied: matplotlib-inline in c:\\users\\dferracuti\\appdata\\local\\packages\\pythonsoftwarefoundation.python.3.11_qbz5n2kfra8p0\\localcache\\local-packages\\python311\\site-packages (from ipython>=6.1.0->ipywidgets>=7.5.0->lux-widget>=0.1.4->lux-api) (0.1.7)\n",
            "Requirement already satisfied: prompt-toolkit<3.1.0,>=3.0.41 in c:\\users\\dferracuti\\appdata\\local\\packages\\pythonsoftwarefoundation.python.3.11_qbz5n2kfra8p0\\localcache\\local-packages\\python311\\site-packages (from ipython>=6.1.0->ipywidgets>=7.5.0->lux-widget>=0.1.4->lux-api) (3.0.48)\n",
            "Requirement already satisfied: pygments>=2.4.0 in c:\\users\\dferracuti\\appdata\\local\\packages\\pythonsoftwarefoundation.python.3.11_qbz5n2kfra8p0\\localcache\\local-packages\\python311\\site-packages (from ipython>=6.1.0->ipywidgets>=7.5.0->lux-widget>=0.1.4->lux-api) (2.18.0)\n",
            "Requirement already satisfied: stack-data in c:\\users\\dferracuti\\appdata\\local\\packages\\pythonsoftwarefoundation.python.3.11_qbz5n2kfra8p0\\localcache\\local-packages\\python311\\site-packages (from ipython>=6.1.0->ipywidgets>=7.5.0->lux-widget>=0.1.4->lux-api) (0.6.3)\n",
            "Requirement already satisfied: anyio>=3.1.0 in c:\\users\\dferracuti\\appdata\\local\\packages\\pythonsoftwarefoundation.python.3.11_qbz5n2kfra8p0\\localcache\\local-packages\\python311\\site-packages (from jupyter-server<3,>=2.4.0->notebook>=4.0.0->lux-widget>=0.1.4->lux-api) (4.7.0)\n",
            "Requirement already satisfied: argon2-cffi>=21.1 in c:\\users\\dferracuti\\appdata\\local\\packages\\pythonsoftwarefoundation.python.3.11_qbz5n2kfra8p0\\localcache\\local-packages\\python311\\site-packages (from jupyter-server<3,>=2.4.0->notebook>=4.0.0->lux-widget>=0.1.4->lux-api) (23.1.0)\n",
            "Requirement already satisfied: jupyter-client>=7.4.4 in c:\\users\\dferracuti\\appdata\\local\\packages\\pythonsoftwarefoundation.python.3.11_qbz5n2kfra8p0\\localcache\\local-packages\\python311\\site-packages (from jupyter-server<3,>=2.4.0->notebook>=4.0.0->lux-widget>=0.1.4->lux-api) (8.6.3)\n",
            "Requirement already satisfied: jupyter-core!=5.0.*,>=4.12 in c:\\users\\dferracuti\\appdata\\local\\packages\\pythonsoftwarefoundation.python.3.11_qbz5n2kfra8p0\\localcache\\local-packages\\python311\\site-packages (from jupyter-server<3,>=2.4.0->notebook>=4.0.0->lux-widget>=0.1.4->lux-api) (5.7.2)\n",
            "Requirement already satisfied: jupyter-events>=0.9.0 in c:\\users\\dferracuti\\appdata\\local\\packages\\pythonsoftwarefoundation.python.3.11_qbz5n2kfra8p0\\localcache\\local-packages\\python311\\site-packages (from jupyter-server<3,>=2.4.0->notebook>=4.0.0->lux-widget>=0.1.4->lux-api) (0.10.0)\n",
            "Requirement already satisfied: jupyter-server-terminals>=0.4.4 in c:\\users\\dferracuti\\appdata\\local\\packages\\pythonsoftwarefoundation.python.3.11_qbz5n2kfra8p0\\localcache\\local-packages\\python311\\site-packages (from jupyter-server<3,>=2.4.0->notebook>=4.0.0->lux-widget>=0.1.4->lux-api) (0.5.3)\n",
            "Requirement already satisfied: nbconvert>=6.4.4 in c:\\users\\dferracuti\\appdata\\local\\packages\\pythonsoftwarefoundation.python.3.11_qbz5n2kfra8p0\\localcache\\local-packages\\python311\\site-packages (from jupyter-server<3,>=2.4.0->notebook>=4.0.0->lux-widget>=0.1.4->lux-api) (7.16.4)\n",
            "Requirement already satisfied: nbformat>=5.3.0 in c:\\users\\dferracuti\\appdata\\local\\packages\\pythonsoftwarefoundation.python.3.11_qbz5n2kfra8p0\\localcache\\local-packages\\python311\\site-packages (from jupyter-server<3,>=2.4.0->notebook>=4.0.0->lux-widget>=0.1.4->lux-api) (5.10.4)\n",
            "Requirement already satisfied: overrides>=5.0 in c:\\users\\dferracuti\\appdata\\local\\packages\\pythonsoftwarefoundation.python.3.11_qbz5n2kfra8p0\\localcache\\local-packages\\python311\\site-packages (from jupyter-server<3,>=2.4.0->notebook>=4.0.0->lux-widget>=0.1.4->lux-api) (7.7.0)\n",
            "Requirement already satisfied: prometheus-client>=0.9 in c:\\users\\dferracuti\\appdata\\local\\packages\\pythonsoftwarefoundation.python.3.11_qbz5n2kfra8p0\\localcache\\local-packages\\python311\\site-packages (from jupyter-server<3,>=2.4.0->notebook>=4.0.0->lux-widget>=0.1.4->lux-api) (0.21.1)\n",
            "Requirement already satisfied: pywinpty>=2.0.1 in c:\\users\\dferracuti\\appdata\\local\\packages\\pythonsoftwarefoundation.python.3.11_qbz5n2kfra8p0\\localcache\\local-packages\\python311\\site-packages (from jupyter-server<3,>=2.4.0->notebook>=4.0.0->lux-widget>=0.1.4->lux-api) (2.0.14)\n",
            "Requirement already satisfied: pyzmq>=24 in c:\\users\\dferracuti\\appdata\\local\\packages\\pythonsoftwarefoundation.python.3.11_qbz5n2kfra8p0\\localcache\\local-packages\\python311\\site-packages (from jupyter-server<3,>=2.4.0->notebook>=4.0.0->lux-widget>=0.1.4->lux-api) (26.2.0)\n",
            "Requirement already satisfied: send2trash>=1.8.2 in c:\\users\\dferracuti\\appdata\\local\\packages\\pythonsoftwarefoundation.python.3.11_qbz5n2kfra8p0\\localcache\\local-packages\\python311\\site-packages (from jupyter-server<3,>=2.4.0->notebook>=4.0.0->lux-widget>=0.1.4->lux-api) (1.8.3)\n",
            "Requirement already satisfied: terminado>=0.8.3 in c:\\users\\dferracuti\\appdata\\local\\packages\\pythonsoftwarefoundation.python.3.11_qbz5n2kfra8p0\\localcache\\local-packages\\python311\\site-packages (from jupyter-server<3,>=2.4.0->notebook>=4.0.0->lux-widget>=0.1.4->lux-api) (0.18.1)\n",
            "Requirement already satisfied: websocket-client>=1.7 in c:\\users\\dferracuti\\appdata\\local\\packages\\pythonsoftwarefoundation.python.3.11_qbz5n2kfra8p0\\localcache\\local-packages\\python311\\site-packages (from jupyter-server<3,>=2.4.0->notebook>=4.0.0->lux-widget>=0.1.4->lux-api) (1.8.0)\n",
            "Requirement already satisfied: async-lru>=1.0.0 in c:\\users\\dferracuti\\appdata\\local\\packages\\pythonsoftwarefoundation.python.3.11_qbz5n2kfra8p0\\localcache\\local-packages\\python311\\site-packages (from jupyterlab<4.4,>=4.3.2->notebook>=4.0.0->lux-widget>=0.1.4->lux-api) (2.0.4)\n",
            "Requirement already satisfied: httpx>=0.25.0 in c:\\users\\dferracuti\\appdata\\local\\packages\\pythonsoftwarefoundation.python.3.11_qbz5n2kfra8p0\\localcache\\local-packages\\python311\\site-packages (from jupyterlab<4.4,>=4.3.2->notebook>=4.0.0->lux-widget>=0.1.4->lux-api) (0.28.1)\n",
            "Requirement already satisfied: ipykernel>=6.5.0 in c:\\users\\dferracuti\\appdata\\local\\packages\\pythonsoftwarefoundation.python.3.11_qbz5n2kfra8p0\\localcache\\local-packages\\python311\\site-packages (from jupyterlab<4.4,>=4.3.2->notebook>=4.0.0->lux-widget>=0.1.4->lux-api) (6.29.5)\n",
            "Requirement already satisfied: jupyter-lsp>=2.0.0 in c:\\users\\dferracuti\\appdata\\local\\packages\\pythonsoftwarefoundation.python.3.11_qbz5n2kfra8p0\\localcache\\local-packages\\python311\\site-packages (from jupyterlab<4.4,>=4.3.2->notebook>=4.0.0->lux-widget>=0.1.4->lux-api) (2.2.5)\n",
            "Requirement already satisfied: setuptools>=40.8.0 in c:\\program files\\windowsapps\\pythonsoftwarefoundation.python.3.11_3.11.2544.0_x64__qbz5n2kfra8p0\\lib\\site-packages (from jupyterlab<4.4,>=4.3.2->notebook>=4.0.0->lux-widget>=0.1.4->lux-api) (65.5.0)\n",
            "Requirement already satisfied: babel>=2.10 in c:\\users\\dferracuti\\appdata\\local\\packages\\pythonsoftwarefoundation.python.3.11_qbz5n2kfra8p0\\localcache\\local-packages\\python311\\site-packages (from jupyterlab-server<3,>=2.27.1->notebook>=4.0.0->lux-widget>=0.1.4->lux-api) (2.16.0)\n",
            "Requirement already satisfied: json5>=0.9.0 in c:\\users\\dferracuti\\appdata\\local\\packages\\pythonsoftwarefoundation.python.3.11_qbz5n2kfra8p0\\localcache\\local-packages\\python311\\site-packages (from jupyterlab-server<3,>=2.27.1->notebook>=4.0.0->lux-widget>=0.1.4->lux-api) (0.10.0)\n",
            "Requirement already satisfied: sniffio>=1.1 in c:\\users\\dferracuti\\appdata\\local\\packages\\pythonsoftwarefoundation.python.3.11_qbz5n2kfra8p0\\localcache\\local-packages\\python311\\site-packages (from anyio>=3.1.0->jupyter-server<3,>=2.4.0->notebook>=4.0.0->lux-widget>=0.1.4->lux-api) (1.3.1)\n",
            "Requirement already satisfied: argon2-cffi-bindings in c:\\users\\dferracuti\\appdata\\local\\packages\\pythonsoftwarefoundation.python.3.11_qbz5n2kfra8p0\\localcache\\local-packages\\python311\\site-packages (from argon2-cffi>=21.1->jupyter-server<3,>=2.4.0->notebook>=4.0.0->lux-widget>=0.1.4->lux-api) (21.2.0)\n",
            "Requirement already satisfied: httpcore==1.* in c:\\users\\dferracuti\\appdata\\local\\packages\\pythonsoftwarefoundation.python.3.11_qbz5n2kfra8p0\\localcache\\local-packages\\python311\\site-packages (from httpx>=0.25.0->jupyterlab<4.4,>=4.3.2->notebook>=4.0.0->lux-widget>=0.1.4->lux-api) (1.0.7)\n",
            "Requirement already satisfied: h11<0.15,>=0.13 in c:\\users\\dferracuti\\appdata\\local\\packages\\pythonsoftwarefoundation.python.3.11_qbz5n2kfra8p0\\localcache\\local-packages\\python311\\site-packages (from httpcore==1.*->httpx>=0.25.0->jupyterlab<4.4,>=4.3.2->notebook>=4.0.0->lux-widget>=0.1.4->lux-api) (0.14.0)\n",
            "Requirement already satisfied: debugpy>=1.6.5 in c:\\users\\dferracuti\\appdata\\local\\packages\\pythonsoftwarefoundation.python.3.11_qbz5n2kfra8p0\\localcache\\local-packages\\python311\\site-packages (from ipykernel>=6.5.0->jupyterlab<4.4,>=4.3.2->notebook>=4.0.0->lux-widget>=0.1.4->lux-api) (1.8.9)\n",
            "Requirement already satisfied: nest-asyncio in c:\\users\\dferracuti\\appdata\\local\\packages\\pythonsoftwarefoundation.python.3.11_qbz5n2kfra8p0\\localcache\\local-packages\\python311\\site-packages (from ipykernel>=6.5.0->jupyterlab<4.4,>=4.3.2->notebook>=4.0.0->lux-widget>=0.1.4->lux-api) (1.6.0)\n",
            "Requirement already satisfied: parso<0.9.0,>=0.8.4 in c:\\users\\dferracuti\\appdata\\local\\packages\\pythonsoftwarefoundation.python.3.11_qbz5n2kfra8p0\\localcache\\local-packages\\python311\\site-packages (from jedi>=0.16->ipython>=6.1.0->ipywidgets>=7.5.0->lux-widget>=0.1.4->lux-api) (0.8.4)\n",
            "Requirement already satisfied: platformdirs>=2.5 in c:\\users\\dferracuti\\appdata\\local\\packages\\pythonsoftwarefoundation.python.3.11_qbz5n2kfra8p0\\localcache\\local-packages\\python311\\site-packages (from jupyter-core!=5.0.*,>=4.12->jupyter-server<3,>=2.4.0->notebook>=4.0.0->lux-widget>=0.1.4->lux-api) (4.3.6)\n",
            "Requirement already satisfied: pywin32>=300 in c:\\users\\dferracuti\\appdata\\local\\packages\\pythonsoftwarefoundation.python.3.11_qbz5n2kfra8p0\\localcache\\local-packages\\python311\\site-packages (from jupyter-core!=5.0.*,>=4.12->jupyter-server<3,>=2.4.0->notebook>=4.0.0->lux-widget>=0.1.4->lux-api) (308)\n",
            "Requirement already satisfied: python-json-logger>=2.0.4 in c:\\users\\dferracuti\\appdata\\local\\packages\\pythonsoftwarefoundation.python.3.11_qbz5n2kfra8p0\\localcache\\local-packages\\python311\\site-packages (from jupyter-events>=0.9.0->jupyter-server<3,>=2.4.0->notebook>=4.0.0->lux-widget>=0.1.4->lux-api) (3.2.0)\n",
            "Requirement already satisfied: rfc3339-validator in c:\\users\\dferracuti\\appdata\\local\\packages\\pythonsoftwarefoundation.python.3.11_qbz5n2kfra8p0\\localcache\\local-packages\\python311\\site-packages (from jupyter-events>=0.9.0->jupyter-server<3,>=2.4.0->notebook>=4.0.0->lux-widget>=0.1.4->lux-api) (0.1.4)\n",
            "Requirement already satisfied: rfc3986-validator>=0.1.1 in c:\\users\\dferracuti\\appdata\\local\\packages\\pythonsoftwarefoundation.python.3.11_qbz5n2kfra8p0\\localcache\\local-packages\\python311\\site-packages (from jupyter-events>=0.9.0->jupyter-server<3,>=2.4.0->notebook>=4.0.0->lux-widget>=0.1.4->lux-api) (0.1.1)\n",
            "Requirement already satisfied: beautifulsoup4 in c:\\users\\dferracuti\\appdata\\local\\packages\\pythonsoftwarefoundation.python.3.11_qbz5n2kfra8p0\\localcache\\local-packages\\python311\\site-packages (from nbconvert>=6.4.4->jupyter-server<3,>=2.4.0->notebook>=4.0.0->lux-widget>=0.1.4->lux-api) (4.12.3)\n",
            "Requirement already satisfied: defusedxml in c:\\users\\dferracuti\\appdata\\local\\packages\\pythonsoftwarefoundation.python.3.11_qbz5n2kfra8p0\\localcache\\local-packages\\python311\\site-packages (from nbconvert>=6.4.4->jupyter-server<3,>=2.4.0->notebook>=4.0.0->lux-widget>=0.1.4->lux-api) (0.7.1)\n",
            "Requirement already satisfied: jupyterlab-pygments in c:\\users\\dferracuti\\appdata\\local\\packages\\pythonsoftwarefoundation.python.3.11_qbz5n2kfra8p0\\localcache\\local-packages\\python311\\site-packages (from nbconvert>=6.4.4->jupyter-server<3,>=2.4.0->notebook>=4.0.0->lux-widget>=0.1.4->lux-api) (0.3.0)\n",
            "Requirement already satisfied: mistune<4,>=2.0.3 in c:\\users\\dferracuti\\appdata\\local\\packages\\pythonsoftwarefoundation.python.3.11_qbz5n2kfra8p0\\localcache\\local-packages\\python311\\site-packages (from nbconvert>=6.4.4->jupyter-server<3,>=2.4.0->notebook>=4.0.0->lux-widget>=0.1.4->lux-api) (3.0.2)\n",
            "Requirement already satisfied: nbclient>=0.5.0 in c:\\users\\dferracuti\\appdata\\local\\packages\\pythonsoftwarefoundation.python.3.11_qbz5n2kfra8p0\\localcache\\local-packages\\python311\\site-packages (from nbconvert>=6.4.4->jupyter-server<3,>=2.4.0->notebook>=4.0.0->lux-widget>=0.1.4->lux-api) (0.10.1)\n",
            "Requirement already satisfied: pandocfilters>=1.4.1 in c:\\users\\dferracuti\\appdata\\local\\packages\\pythonsoftwarefoundation.python.3.11_qbz5n2kfra8p0\\localcache\\local-packages\\python311\\site-packages (from nbconvert>=6.4.4->jupyter-server<3,>=2.4.0->notebook>=4.0.0->lux-widget>=0.1.4->lux-api) (1.5.1)\n",
            "Requirement already satisfied: tinycss2 in c:\\users\\dferracuti\\appdata\\local\\packages\\pythonsoftwarefoundation.python.3.11_qbz5n2kfra8p0\\localcache\\local-packages\\python311\\site-packages (from nbconvert>=6.4.4->jupyter-server<3,>=2.4.0->notebook>=4.0.0->lux-widget>=0.1.4->lux-api) (1.4.0)\n",
            "Requirement already satisfied: fastjsonschema>=2.15 in c:\\users\\dferracuti\\appdata\\local\\packages\\pythonsoftwarefoundation.python.3.11_qbz5n2kfra8p0\\localcache\\local-packages\\python311\\site-packages (from nbformat>=5.3.0->jupyter-server<3,>=2.4.0->notebook>=4.0.0->lux-widget>=0.1.4->lux-api) (2.21.1)\n",
            "Requirement already satisfied: wcwidth in c:\\users\\dferracuti\\appdata\\local\\packages\\pythonsoftwarefoundation.python.3.11_qbz5n2kfra8p0\\localcache\\local-packages\\python311\\site-packages (from prompt-toolkit<3.1.0,>=3.0.41->ipython>=6.1.0->ipywidgets>=7.5.0->lux-widget>=0.1.4->lux-api) (0.2.13)\n",
            "Requirement already satisfied: executing>=1.2.0 in c:\\users\\dferracuti\\appdata\\local\\packages\\pythonsoftwarefoundation.python.3.11_qbz5n2kfra8p0\\localcache\\local-packages\\python311\\site-packages (from stack-data->ipython>=6.1.0->ipywidgets>=7.5.0->lux-widget>=0.1.4->lux-api) (2.1.0)\n",
            "Requirement already satisfied: asttokens>=2.1.0 in c:\\users\\dferracuti\\appdata\\local\\packages\\pythonsoftwarefoundation.python.3.11_qbz5n2kfra8p0\\localcache\\local-packages\\python311\\site-packages (from stack-data->ipython>=6.1.0->ipywidgets>=7.5.0->lux-widget>=0.1.4->lux-api) (2.4.1)\n",
            "Requirement already satisfied: pure-eval in c:\\users\\dferracuti\\appdata\\local\\packages\\pythonsoftwarefoundation.python.3.11_qbz5n2kfra8p0\\localcache\\local-packages\\python311\\site-packages (from stack-data->ipython>=6.1.0->ipywidgets>=7.5.0->lux-widget>=0.1.4->lux-api) (0.2.3)\n",
            "Requirement already satisfied: fqdn in c:\\users\\dferracuti\\appdata\\local\\packages\\pythonsoftwarefoundation.python.3.11_qbz5n2kfra8p0\\localcache\\local-packages\\python311\\site-packages (from jsonschema[format-nongpl]>=4.18.0->jupyter-events>=0.9.0->jupyter-server<3,>=2.4.0->notebook>=4.0.0->lux-widget>=0.1.4->lux-api) (1.5.1)\n",
            "Requirement already satisfied: isoduration in c:\\users\\dferracuti\\appdata\\local\\packages\\pythonsoftwarefoundation.python.3.11_qbz5n2kfra8p0\\localcache\\local-packages\\python311\\site-packages (from jsonschema[format-nongpl]>=4.18.0->jupyter-events>=0.9.0->jupyter-server<3,>=2.4.0->notebook>=4.0.0->lux-widget>=0.1.4->lux-api) (20.11.0)\n",
            "Requirement already satisfied: jsonpointer>1.13 in c:\\users\\dferracuti\\appdata\\local\\packages\\pythonsoftwarefoundation.python.3.11_qbz5n2kfra8p0\\localcache\\local-packages\\python311\\site-packages (from jsonschema[format-nongpl]>=4.18.0->jupyter-events>=0.9.0->jupyter-server<3,>=2.4.0->notebook>=4.0.0->lux-widget>=0.1.4->lux-api) (3.0.0)\n",
            "Requirement already satisfied: uri-template in c:\\users\\dferracuti\\appdata\\local\\packages\\pythonsoftwarefoundation.python.3.11_qbz5n2kfra8p0\\localcache\\local-packages\\python311\\site-packages (from jsonschema[format-nongpl]>=4.18.0->jupyter-events>=0.9.0->jupyter-server<3,>=2.4.0->notebook>=4.0.0->lux-widget>=0.1.4->lux-api) (1.3.0)\n",
            "Requirement already satisfied: webcolors>=24.6.0 in c:\\users\\dferracuti\\appdata\\local\\packages\\pythonsoftwarefoundation.python.3.11_qbz5n2kfra8p0\\localcache\\local-packages\\python311\\site-packages (from jsonschema[format-nongpl]>=4.18.0->jupyter-events>=0.9.0->jupyter-server<3,>=2.4.0->notebook>=4.0.0->lux-widget>=0.1.4->lux-api) (24.11.1)\n",
            "Requirement already satisfied: cffi>=1.0.1 in c:\\users\\dferracuti\\appdata\\local\\packages\\pythonsoftwarefoundation.python.3.11_qbz5n2kfra8p0\\localcache\\local-packages\\python311\\site-packages (from argon2-cffi-bindings->argon2-cffi>=21.1->jupyter-server<3,>=2.4.0->notebook>=4.0.0->lux-widget>=0.1.4->lux-api) (1.17.1)\n",
            "Requirement already satisfied: soupsieve>1.2 in c:\\users\\dferracuti\\appdata\\local\\packages\\pythonsoftwarefoundation.python.3.11_qbz5n2kfra8p0\\localcache\\local-packages\\python311\\site-packages (from beautifulsoup4->nbconvert>=6.4.4->jupyter-server<3,>=2.4.0->notebook>=4.0.0->lux-widget>=0.1.4->lux-api) (2.6)\n",
            "Requirement already satisfied: pycparser in c:\\users\\dferracuti\\appdata\\local\\packages\\pythonsoftwarefoundation.python.3.11_qbz5n2kfra8p0\\localcache\\local-packages\\python311\\site-packages (from cffi>=1.0.1->argon2-cffi-bindings->argon2-cffi>=21.1->jupyter-server<3,>=2.4.0->notebook>=4.0.0->lux-widget>=0.1.4->lux-api) (2.22)\n",
            "Requirement already satisfied: arrow>=0.15.0 in c:\\users\\dferracuti\\appdata\\local\\packages\\pythonsoftwarefoundation.python.3.11_qbz5n2kfra8p0\\localcache\\local-packages\\python311\\site-packages (from isoduration->jsonschema[format-nongpl]>=4.18.0->jupyter-events>=0.9.0->jupyter-server<3,>=2.4.0->notebook>=4.0.0->lux-widget>=0.1.4->lux-api) (1.3.0)\n",
            "Requirement already satisfied: types-python-dateutil>=2.8.10 in c:\\users\\dferracuti\\appdata\\local\\packages\\pythonsoftwarefoundation.python.3.11_qbz5n2kfra8p0\\localcache\\local-packages\\python311\\site-packages (from arrow>=0.15.0->isoduration->jsonschema[format-nongpl]>=4.18.0->jupyter-events>=0.9.0->jupyter-server<3,>=2.4.0->notebook>=4.0.0->lux-widget>=0.1.4->lux-api) (2.9.0.20241206)\n",
            "Downloading sweetviz-2.3.1-py3-none-any.whl (15.1 MB)\n",
            "   ---------------------------------------- 0.0/15.1 MB ? eta -:--:--\n",
            "   --- ------------------------------------ 1.4/15.1 MB 30.1 MB/s eta 0:00:01\n",
            "   --------- ------------------------------ 3.5/15.1 MB 44.9 MB/s eta 0:00:01\n",
            "   ------------- -------------------------- 5.2/15.1 MB 41.9 MB/s eta 0:00:01\n",
            "   ---------------- ----------------------- 6.4/15.1 MB 37.3 MB/s eta 0:00:01\n",
            "   --------------------- ------------------ 7.9/15.1 MB 36.2 MB/s eta 0:00:01\n",
            "   ----------------------- ---------------- 8.7/15.1 MB 32.7 MB/s eta 0:00:01\n",
            "   --------------------------- ------------ 10.3/15.1 MB 32.7 MB/s eta 0:00:01\n",
            "   ------------------------------- -------- 11.8/15.1 MB 32.7 MB/s eta 0:00:01\n",
            "   ---------------------------------- ----- 13.1/15.1 MB 32.7 MB/s eta 0:00:01\n",
            "   ---------------------------------------  15.1/15.1 MB 31.2 MB/s eta 0:00:01\n",
            "   ---------------------------------------  15.1/15.1 MB 31.2 MB/s eta 0:00:01\n",
            "   ---------------------------------------  15.1/15.1 MB 31.2 MB/s eta 0:00:01\n",
            "   ---------------------------------------  15.1/15.1 MB 31.2 MB/s eta 0:00:01\n",
            "   ---------------------------------------- 15.1/15.1 MB 21.8 MB/s eta 0:00:00\n",
            "Downloading autoviz-0.1.905-py3-none-any.whl (67 kB)\n",
            "   ---------------------------------------- 0.0/67.5 kB ? eta -:--:--\n",
            "   ---------------------------------------- 67.5/67.5 kB 1.8 MB/s eta 0:00:00\n",
            "Downloading plotly-5.24.1-py3-none-any.whl (19.1 MB)\n",
            "   ---------------------------------------- 0.0/19.1 MB ? eta -:--:--\n",
            "   --- ------------------------------------ 1.9/19.1 MB 61.1 MB/s eta 0:00:01\n",
            "   -------- ------------------------------- 3.9/19.1 MB 49.4 MB/s eta 0:00:01\n",
            "   ------------ --------------------------- 6.0/19.1 MB 47.7 MB/s eta 0:00:01\n",
            "   ---------------- ----------------------- 8.0/19.1 MB 46.4 MB/s eta 0:00:01\n",
            "   -------------------- ------------------- 9.9/19.1 MB 45.0 MB/s eta 0:00:01\n",
            "   ------------------------ --------------- 11.8/19.1 MB 43.5 MB/s eta 0:00:01\n",
            "   --------------------------- ------------ 13.1/19.1 MB 43.5 MB/s eta 0:00:01\n",
            "   ------------------------------- -------- 15.0/19.1 MB 38.6 MB/s eta 0:00:01\n",
            "   ----------------------------------- ---- 16.8/19.1 MB 38.6 MB/s eta 0:00:01\n",
            "   ---------------------------------------  19.0/19.1 MB 38.5 MB/s eta 0:00:01\n",
            "   ---------------------------------------  19.0/19.1 MB 38.5 MB/s eta 0:00:01\n",
            "   ---------------------------------------  19.0/19.1 MB 38.5 MB/s eta 0:00:01\n",
            "   ---------------------------------------  19.0/19.1 MB 38.5 MB/s eta 0:00:01\n",
            "   ---------------------------------------  19.0/19.1 MB 38.5 MB/s eta 0:00:01\n",
            "   ---------------------------------------- 19.1/19.1 MB 22.5 MB/s eta 0:00:00\n",
            "Downloading altair-5.5.0-py3-none-any.whl (731 kB)\n",
            "   ---------------------------------------- 0.0/731.2 kB ? eta -:--:--\n",
            "   --------------------------------------- 731.2/731.2 kB 15.3 MB/s eta 0:00:00\n",
            "Downloading autopep8-2.3.1-py2.py3-none-any.whl (45 kB)\n",
            "   ---------------------------------------- 0.0/45.7 kB ? eta -:--:--\n",
            "   ---------------------------------------- 45.7/45.7 kB ? eta 0:00:00\n",
            "Downloading fsspec-2024.10.0-py3-none-any.whl (179 kB)\n",
            "   ---------------------------------------- 0.0/179.6 kB ? eta -:--:--\n",
            "   --------------------------------------- 179.6/179.6 kB 10.6 MB/s eta 0:00:00\n",
            "Downloading holoviews-1.20.0-py3-none-any.whl (5.0 MB)\n",
            "   ---------------------------------------- 0.0/5.0 MB ? eta -:--:--\n",
            "   ---------------- ----------------------- 2.1/5.0 MB 65.0 MB/s eta 0:00:01\n",
            "   ----------------- ---------------------- 2.2/5.0 MB 23.4 MB/s eta 0:00:01\n",
            "   ---------------------------- ----------- 3.6/5.0 MB 25.5 MB/s eta 0:00:01\n",
            "   ---------------------------------------  5.0/5.0 MB 29.1 MB/s eta 0:00:01\n",
            "   ---------------------------------------- 5.0/5.0 MB 21.3 MB/s eta 0:00:00\n",
            "Downloading hvplot-0.11.1-py3-none-any.whl (161 kB)\n",
            "   ---------------------------------------- 0.0/161.2 kB ? eta -:--:--\n",
            "   ---------------------------------------- 161.2/161.2 kB 9.4 MB/s eta 0:00:00\n",
            "Downloading importlib_resources-6.4.5-py3-none-any.whl (36 kB)\n",
            "Downloading pandas_dq-1.29-py3-none-any.whl (29 kB)\n",
            "Downloading panel-1.5.4-py3-none-any.whl (63.1 MB)\n",
            "   ---------------------------------------- 0.0/63.1 MB ? eta -:--:--\n",
            "    --------------------------------------- 1.2/63.1 MB 36.5 MB/s eta 0:00:02\n",
            "   - -------------------------------------- 2.6/63.1 MB 28.0 MB/s eta 0:00:03\n",
            "   -- ------------------------------------- 3.4/63.1 MB 23.9 MB/s eta 0:00:03\n",
            "   --- ------------------------------------ 5.0/63.1 MB 28.9 MB/s eta 0:00:03\n",
            "   --- ------------------------------------ 5.0/63.1 MB 24.6 MB/s eta 0:00:03\n",
            "   ---- ----------------------------------- 6.9/63.1 MB 24.4 MB/s eta 0:00:03\n",
            "   ----- ---------------------------------- 8.9/63.1 MB 27.0 MB/s eta 0:00:03\n",
            "   ------ --------------------------------- 10.9/63.1 MB 28.5 MB/s eta 0:00:02\n",
            "   -------- ------------------------------- 12.9/63.1 MB 31.2 MB/s eta 0:00:02\n",
            "   --------- ------------------------------ 15.0/63.1 MB 36.4 MB/s eta 0:00:02\n",
            "   ---------- ----------------------------- 17.3/63.1 MB 43.7 MB/s eta 0:00:02\n",
            "   ------------ --------------------------- 19.5/63.1 MB 43.5 MB/s eta 0:00:02\n",
            "   ------------- -------------------------- 21.1/63.1 MB 43.5 MB/s eta 0:00:01\n",
            "   -------------- ------------------------- 23.4/63.1 MB 46.7 MB/s eta 0:00:01\n",
            "   ---------------- ----------------------- 25.4/63.1 MB 46.7 MB/s eta 0:00:01\n",
            "   ----------------- ---------------------- 27.6/63.1 MB 46.7 MB/s eta 0:00:01\n",
            "   ------------------ --------------------- 29.8/63.1 MB 43.7 MB/s eta 0:00:01\n",
            "   -------------------- ------------------- 31.6/63.1 MB 46.9 MB/s eta 0:00:01\n",
            "   --------------------- ------------------ 33.6/63.1 MB 46.9 MB/s eta 0:00:01\n",
            "   ---------------------- ----------------- 35.6/63.1 MB 43.7 MB/s eta 0:00:01\n",
            "   ----------------------- ---------------- 37.8/63.1 MB 46.7 MB/s eta 0:00:01\n",
            "   ------------------------- -------------- 39.8/63.1 MB 43.7 MB/s eta 0:00:01\n",
            "   -------------------------- ------------- 41.8/63.1 MB 43.5 MB/s eta 0:00:01\n",
            "   --------------------------- ------------ 43.7/63.1 MB 43.5 MB/s eta 0:00:01\n",
            "   ---------------------------- ----------- 45.8/63.1 MB 43.5 MB/s eta 0:00:01\n",
            "   ------------------------------ --------- 47.8/63.1 MB 43.7 MB/s eta 0:00:01\n",
            "   ------------------------------- -------- 49.5/63.1 MB 43.7 MB/s eta 0:00:01\n",
            "   -------------------------------- ------- 51.6/63.1 MB 43.7 MB/s eta 0:00:01\n",
            "   --------------------------------- ------ 52.4/63.1 MB 40.9 MB/s eta 0:00:01\n",
            "   --------------------------------- ------ 52.9/63.1 MB 32.7 MB/s eta 0:00:01\n",
            "   ---------------------------------- ----- 54.6/63.1 MB 32.7 MB/s eta 0:00:01\n",
            "   ----------------------------------- ---- 56.4/63.1 MB 32.7 MB/s eta 0:00:01\n",
            "   ------------------------------------ --- 57.8/63.1 MB 32.7 MB/s eta 0:00:01\n",
            "   ------------------------------------- -- 59.7/63.1 MB 31.2 MB/s eta 0:00:01\n",
            "   -------------------------------------- - 61.5/63.1 MB 32.7 MB/s eta 0:00:01\n",
            "   ---------------------------------------  63.1/63.1 MB 38.5 MB/s eta 0:00:01\n",
            "   ---------------------------------------  63.1/63.1 MB 38.5 MB/s eta 0:00:01\n",
            "   ---------------------------------------  63.1/63.1 MB 38.5 MB/s eta 0:00:01\n",
            "   ---------------------------------------- 63.1/63.1 MB 27.3 MB/s eta 0:00:00\n",
            "Downloading scikit_learn-1.6.0-cp311-cp311-win_amd64.whl (11.1 MB)\n",
            "   ---------------------------------------- 0.0/11.1 MB ? eta -:--:--\n",
            "   ----- ---------------------------------- 1.6/11.1 MB 50.2 MB/s eta 0:00:01\n",
            "   ----------- ---------------------------- 3.2/11.1 MB 34.8 MB/s eta 0:00:01\n",
            "   ---------------- ----------------------- 4.6/11.1 MB 36.6 MB/s eta 0:00:01\n",
            "   ------------------------ --------------- 6.7/11.1 MB 39.2 MB/s eta 0:00:01\n",
            "   ---------------------------- ----------- 8.1/11.1 MB 37.0 MB/s eta 0:00:01\n",
            "   ---------------------------------- ----- 9.7/11.1 MB 36.5 MB/s eta 0:00:01\n",
            "   ---------------------------------------  11.1/11.1 MB 34.4 MB/s eta 0:00:01\n",
            "   ---------------------------------------  11.1/11.1 MB 34.4 MB/s eta 0:00:01\n",
            "   ---------------------------------------  11.1/11.1 MB 34.4 MB/s eta 0:00:01\n",
            "   ---------------------------------------- 11.1/11.1 MB 25.2 MB/s eta 0:00:00\n",
            "Downloading tenacity-9.0.0-py3-none-any.whl (28 kB)\n",
            "Downloading xgboost-1.6.2-py3-none-win_amd64.whl (125.4 MB)\n",
            "   ---------------------------------------- 0.0/125.4 MB ? eta -:--:--\n",
            "   ---------------------------------------- 1.0/125.4 MB 68.9 MB/s eta 0:00:02\n",
            "   ---------------------------------------- 1.0/125.4 MB 68.9 MB/s eta 0:00:02\n",
            "    --------------------------------------- 2.1/125.4 MB 16.6 MB/s eta 0:00:08\n",
            "    --------------------------------------- 2.1/125.4 MB 16.6 MB/s eta 0:00:08\n",
            "    --------------------------------------- 2.1/125.4 MB 9.6 MB/s eta 0:00:13\n",
            "   - -------------------------------------- 3.1/125.4 MB 12.5 MB/s eta 0:00:10\n",
            "   - -------------------------------------- 3.1/125.4 MB 12.5 MB/s eta 0:00:10\n",
            "   - -------------------------------------- 4.2/125.4 MB 11.6 MB/s eta 0:00:11\n",
            "   - -------------------------------------- 4.2/125.4 MB 11.6 MB/s eta 0:00:11\n",
            "   - -------------------------------------- 5.1/125.4 MB 11.3 MB/s eta 0:00:11\n",
            "   - -------------------------------------- 5.2/125.4 MB 11.6 MB/s eta 0:00:11\n",
            "   - -------------------------------------- 5.2/125.4 MB 11.6 MB/s eta 0:00:11\n",
            "   -- ------------------------------------- 6.3/125.4 MB 10.6 MB/s eta 0:00:12\n",
            "   -- ------------------------------------- 6.3/125.4 MB 10.6 MB/s eta 0:00:12\n",
            "   -- ------------------------------------- 6.7/125.4 MB 9.7 MB/s eta 0:00:13\n",
            "   -- ------------------------------------- 7.3/125.4 MB 10.4 MB/s eta 0:00:12\n",
            "   -- ------------------------------------- 7.7/125.4 MB 9.9 MB/s eta 0:00:12\n",
            "   -- ------------------------------------- 8.4/125.4 MB 10.5 MB/s eta 0:00:12\n",
            "   -- ------------------------------------- 8.4/125.4 MB 9.6 MB/s eta 0:00:13\n",
            "   --- ------------------------------------ 9.4/125.4 MB 10.4 MB/s eta 0:00:12\n",
            "   --- ------------------------------------ 9.4/125.4 MB 10.4 MB/s eta 0:00:12\n",
            "   --- ------------------------------------ 10.0/125.4 MB 9.9 MB/s eta 0:00:12\n",
            "   --- ------------------------------------ 10.5/125.4 MB 10.1 MB/s eta 0:00:12\n",
            "   --- ------------------------------------ 10.5/125.4 MB 10.1 MB/s eta 0:00:12\n",
            "   --- ------------------------------------ 11.8/125.4 MB 9.9 MB/s eta 0:00:12\n",
            "   ---- ----------------------------------- 12.6/125.4 MB 10.9 MB/s eta 0:00:11\n",
            "   ---- ----------------------------------- 12.6/125.4 MB 10.1 MB/s eta 0:00:12\n",
            "   ---- ----------------------------------- 13.6/125.4 MB 10.9 MB/s eta 0:00:11\n",
            "   ---- ----------------------------------- 13.6/125.4 MB 10.9 MB/s eta 0:00:11\n",
            "   ---- ----------------------------------- 14.1/125.4 MB 9.8 MB/s eta 0:00:12\n",
            "   ---- ----------------------------------- 14.7/125.4 MB 10.7 MB/s eta 0:00:11\n",
            "   ---- ----------------------------------- 14.7/125.4 MB 10.7 MB/s eta 0:00:11\n",
            "   ----- ---------------------------------- 15.7/125.4 MB 10.9 MB/s eta 0:00:11\n",
            "   ----- ---------------------------------- 15.7/125.4 MB 10.9 MB/s eta 0:00:11\n",
            "   ----- ---------------------------------- 16.5/125.4 MB 9.9 MB/s eta 0:00:11\n",
            "   ----- ---------------------------------- 16.8/125.4 MB 10.9 MB/s eta 0:00:10\n",
            "   ----- ---------------------------------- 17.8/125.4 MB 10.7 MB/s eta 0:00:11\n",
            "   ----- ---------------------------------- 17.8/125.4 MB 10.7 MB/s eta 0:00:11\n",
            "   ----- ---------------------------------- 18.2/125.4 MB 9.8 MB/s eta 0:00:11\n",
            "   ------ --------------------------------- 18.9/125.4 MB 10.7 MB/s eta 0:00:10\n",
            "   ------ --------------------------------- 19.0/125.4 MB 9.9 MB/s eta 0:00:11\n",
            "   ------ --------------------------------- 19.9/125.4 MB 10.7 MB/s eta 0:00:10\n",
            "   ------ --------------------------------- 19.9/125.4 MB 10.7 MB/s eta 0:00:10\n",
            "   ------ --------------------------------- 21.0/125.4 MB 10.9 MB/s eta 0:00:10\n",
            "   ------ --------------------------------- 21.0/125.4 MB 10.9 MB/s eta 0:00:10\n",
            "   ------ --------------------------------- 21.2/125.4 MB 9.9 MB/s eta 0:00:11\n",
            "   ------- -------------------------------- 22.0/125.4 MB 10.1 MB/s eta 0:00:11\n",
            "   ------- -------------------------------- 22.1/125.4 MB 9.4 MB/s eta 0:00:12\n",
            "   ------- -------------------------------- 23.1/125.4 MB 9.9 MB/s eta 0:00:11\n",
            "   ------- -------------------------------- 23.1/125.4 MB 9.9 MB/s eta 0:00:11\n",
            "   ------- -------------------------------- 24.1/125.4 MB 10.2 MB/s eta 0:00:10\n",
            "   ------- -------------------------------- 24.1/125.4 MB 10.2 MB/s eta 0:00:10\n",
            "   ------- -------------------------------- 25.1/125.4 MB 10.4 MB/s eta 0:00:10\n",
            "   -------- ------------------------------- 25.2/125.4 MB 10.4 MB/s eta 0:00:10\n",
            "   -------- ------------------------------- 25.2/125.4 MB 10.4 MB/s eta 0:00:10\n",
            "   -------- ------------------------------- 25.2/125.4 MB 10.4 MB/s eta 0:00:10\n",
            "   -------- ------------------------------- 25.2/125.4 MB 10.4 MB/s eta 0:00:10\n",
            "   -------- ------------------------------- 25.2/125.4 MB 10.4 MB/s eta 0:00:10\n",
            "   -------- ------------------------------- 25.2/125.4 MB 10.4 MB/s eta 0:00:10\n",
            "   -------- ------------------------------- 25.2/125.4 MB 10.4 MB/s eta 0:00:10\n",
            "   -------- ------------------------------- 25.2/125.4 MB 10.4 MB/s eta 0:00:10\n",
            "   -------- ------------------------------- 25.2/125.4 MB 10.4 MB/s eta 0:00:10\n",
            "   -------- ------------------------------- 25.2/125.4 MB 10.4 MB/s eta 0:00:10\n",
            "   -------- ------------------------------- 25.2/125.4 MB 10.4 MB/s eta 0:00:10\n",
            "   -------- ------------------------------- 25.2/125.4 MB 10.4 MB/s eta 0:00:10\n",
            "   -------- ------------------------------- 25.2/125.4 MB 6.4 MB/s eta 0:00:16\n",
            "   -------- ------------------------------- 26.2/125.4 MB 6.7 MB/s eta 0:00:15\n",
            "   -------- ------------------------------- 26.2/125.4 MB 6.7 MB/s eta 0:00:15\n",
            "   -------- ------------------------------- 27.0/125.4 MB 6.4 MB/s eta 0:00:16\n",
            "   -------- ------------------------------- 27.3/125.4 MB 6.7 MB/s eta 0:00:15\n",
            "   -------- ------------------------------- 27.4/125.4 MB 6.4 MB/s eta 0:00:16\n",
            "   --------- ------------------------------ 28.3/125.4 MB 6.8 MB/s eta 0:00:15\n",
            "   --------- ------------------------------ 28.3/125.4 MB 6.8 MB/s eta 0:00:15\n",
            "   --------- ------------------------------ 29.0/125.4 MB 6.3 MB/s eta 0:00:16\n",
            "   --------- ------------------------------ 29.4/125.4 MB 6.7 MB/s eta 0:00:15\n",
            "   --------- ------------------------------ 29.5/125.4 MB 6.3 MB/s eta 0:00:16\n",
            "   --------- ------------------------------ 30.4/125.4 MB 6.7 MB/s eta 0:00:15\n",
            "   --------- ------------------------------ 30.4/125.4 MB 6.7 MB/s eta 0:00:15\n",
            "   --------- ------------------------------ 31.2/125.4 MB 6.2 MB/s eta 0:00:16\n",
            "   ---------- ----------------------------- 31.5/125.4 MB 6.6 MB/s eta 0:00:15\n",
            "   ---------- ----------------------------- 31.6/125.4 MB 6.4 MB/s eta 0:00:15\n",
            "   ---------- ----------------------------- 32.5/125.4 MB 6.6 MB/s eta 0:00:15\n",
            "   ---------- ----------------------------- 32.5/125.4 MB 6.6 MB/s eta 0:00:15\n",
            "   ---------- ----------------------------- 33.5/125.4 MB 6.5 MB/s eta 0:00:15\n",
            "   ---------- ----------------------------- 33.5/125.4 MB 6.5 MB/s eta 0:00:15\n",
            "   ---------- ----------------------------- 34.1/125.4 MB 6.2 MB/s eta 0:00:15\n",
            "   ----------- ---------------------------- 34.6/125.4 MB 6.5 MB/s eta 0:00:14\n",
            "   ----------- ---------------------------- 34.6/125.4 MB 6.5 MB/s eta 0:00:14\n",
            "   ----------- ---------------------------- 35.6/125.4 MB 9.8 MB/s eta 0:00:10\n",
            "   ----------- ---------------------------- 35.6/125.4 MB 9.8 MB/s eta 0:00:10\n",
            "   ----------- ---------------------------- 36.0/125.4 MB 9.0 MB/s eta 0:00:10\n",
            "   ----------- ---------------------------- 36.7/125.4 MB 9.6 MB/s eta 0:00:10\n",
            "   ----------- ---------------------------- 36.7/125.4 MB 9.6 MB/s eta 0:00:10\n",
            "   ------------ --------------------------- 37.7/125.4 MB 9.8 MB/s eta 0:00:09\n",
            "   ------------ --------------------------- 37.7/125.4 MB 9.8 MB/s eta 0:00:09\n",
            "   ------------ --------------------------- 38.5/125.4 MB 9.0 MB/s eta 0:00:10\n",
            "   ------------ --------------------------- 38.8/125.4 MB 9.8 MB/s eta 0:00:09\n",
            "   ------------ --------------------------- 38.9/125.4 MB 9.1 MB/s eta 0:00:10\n",
            "   ------------ --------------------------- 40.7/125.4 MB 10.9 MB/s eta 0:00:08\n",
            "   ------------- -------------------------- 40.9/125.4 MB 10.9 MB/s eta 0:00:08\n",
            "   ------------- -------------------------- 40.9/125.4 MB 10.9 MB/s eta 0:00:08\n",
            "   ------------- -------------------------- 41.9/125.4 MB 10.7 MB/s eta 0:00:08\n",
            "   ------------- -------------------------- 41.9/125.4 MB 10.7 MB/s eta 0:00:08\n",
            "   ------------- -------------------------- 43.0/125.4 MB 10.7 MB/s eta 0:00:08\n",
            "   ------------- -------------------------- 43.0/125.4 MB 10.7 MB/s eta 0:00:08\n",
            "   ------------- -------------------------- 43.9/125.4 MB 10.7 MB/s eta 0:00:08\n",
            "   -------------- ------------------------- 44.0/125.4 MB 10.9 MB/s eta 0:00:08\n",
            "   -------------- ------------------------- 44.3/125.4 MB 9.9 MB/s eta 0:00:09\n",
            "   -------------- ------------------------- 45.1/125.4 MB 11.1 MB/s eta 0:00:08\n",
            "   -------------- ------------------------- 45.1/125.4 MB 11.1 MB/s eta 0:00:08\n",
            "   -------------- ------------------------- 46.1/125.4 MB 11.1 MB/s eta 0:00:08\n",
            "   -------------- ------------------------- 46.1/125.4 MB 11.1 MB/s eta 0:00:08\n",
            "   -------------- ------------------------- 46.4/125.4 MB 10.1 MB/s eta 0:00:08\n",
            "   --------------- ------------------------ 47.2/125.4 MB 10.9 MB/s eta 0:00:08\n",
            "   --------------- ------------------------ 47.2/125.4 MB 10.9 MB/s eta 0:00:08\n",
            "   --------------- ------------------------ 48.2/125.4 MB 10.9 MB/s eta 0:00:08\n",
            "   --------------- ------------------------ 48.2/125.4 MB 10.9 MB/s eta 0:00:08\n",
            "   --------------- ------------------------ 48.4/125.4 MB 9.9 MB/s eta 0:00:08\n",
            "   --------------- ------------------------ 49.3/125.4 MB 10.9 MB/s eta 0:00:07\n",
            "   --------------- ------------------------ 49.3/125.4 MB 10.9 MB/s eta 0:00:07\n",
            "   --------------- ------------------------ 49.3/125.4 MB 10.9 MB/s eta 0:00:07\n",
            "   --------------- ------------------------ 49.3/125.4 MB 10.9 MB/s eta 0:00:07\n",
            "   --------------- ------------------------ 49.3/125.4 MB 10.9 MB/s eta 0:00:07\n",
            "   --------------- ------------------------ 49.3/125.4 MB 10.9 MB/s eta 0:00:07\n",
            "   --------------- ------------------------ 49.3/125.4 MB 10.9 MB/s eta 0:00:07\n",
            "   --------------- ------------------------ 49.3/125.4 MB 10.9 MB/s eta 0:00:07\n",
            "   --------------- ------------------------ 49.3/125.4 MB 10.9 MB/s eta 0:00:07\n",
            "   --------------- ------------------------ 49.3/125.4 MB 10.9 MB/s eta 0:00:07\n",
            "   --------------- ------------------------ 49.3/125.4 MB 10.9 MB/s eta 0:00:07\n",
            "   --------------- ------------------------ 49.3/125.4 MB 10.9 MB/s eta 0:00:07\n",
            "   --------------- ------------------------ 49.3/125.4 MB 10.9 MB/s eta 0:00:07\n",
            "   ---------------- ----------------------- 50.3/125.4 MB 6.6 MB/s eta 0:00:12\n",
            "   ---------------- ----------------------- 50.3/125.4 MB 6.6 MB/s eta 0:00:12\n",
            "   ---------------- ----------------------- 51.0/125.4 MB 6.3 MB/s eta 0:00:12\n",
            "   ---------------- ----------------------- 51.4/125.4 MB 6.7 MB/s eta 0:00:12\n",
            "   ---------------- ----------------------- 52.1/125.4 MB 6.3 MB/s eta 0:00:12\n",
            "   ---------------- ----------------------- 52.4/125.4 MB 6.5 MB/s eta 0:00:12\n",
            "   ---------------- ----------------------- 52.5/125.4 MB 6.2 MB/s eta 0:00:12\n",
            "   ---------------- ----------------------- 53.0/125.4 MB 6.1 MB/s eta 0:00:12\n",
            "   ----------------- ---------------------- 53.5/125.4 MB 6.4 MB/s eta 0:00:12\n",
            "   ----------------- ---------------------- 53.7/125.4 MB 6.1 MB/s eta 0:00:12\n",
            "   ----------------- ---------------------- 54.5/125.4 MB 6.5 MB/s eta 0:00:11\n",
            "   ----------------- ---------------------- 54.5/125.4 MB 6.5 MB/s eta 0:00:11\n",
            "   ----------------- ---------------------- 55.2/125.4 MB 6.1 MB/s eta 0:00:12\n",
            "   ----------------- ---------------------- 55.6/125.4 MB 6.4 MB/s eta 0:00:11\n",
            "   ----------------- ---------------------- 55.8/125.4 MB 6.1 MB/s eta 0:00:12\n",
            "   ------------------ --------------------- 56.6/125.4 MB 6.5 MB/s eta 0:00:11\n",
            "   ------------------ --------------------- 56.7/125.4 MB 6.2 MB/s eta 0:00:12\n",
            "   ------------------ --------------------- 57.7/125.4 MB 6.5 MB/s eta 0:00:11\n",
            "   ------------------ --------------------- 57.7/125.4 MB 6.5 MB/s eta 0:00:11\n",
            "   ------------------ --------------------- 58.7/125.4 MB 6.6 MB/s eta 0:00:11\n",
            "   ------------------ --------------------- 58.7/125.4 MB 6.6 MB/s eta 0:00:11\n",
            "   ------------------ --------------------- 59.6/125.4 MB 9.8 MB/s eta 0:00:07\n",
            "   ------------------- -------------------- 59.8/125.4 MB 9.8 MB/s eta 0:00:07\n",
            "   ------------------- -------------------- 60.0/125.4 MB 9.1 MB/s eta 0:00:08\n",
            "   ------------------- -------------------- 60.8/125.4 MB 9.6 MB/s eta 0:00:07\n",
            "   ------------------- -------------------- 60.8/125.4 MB 9.6 MB/s eta 0:00:07\n",
            "   ------------------- -------------------- 61.9/125.4 MB 9.9 MB/s eta 0:00:07\n",
            "   ------------------- -------------------- 61.9/125.4 MB 9.9 MB/s eta 0:00:07\n",
            "   -------------------- ------------------- 62.7/125.4 MB 10.1 MB/s eta 0:00:07\n",
            "   -------------------- ------------------- 62.9/125.4 MB 10.2 MB/s eta 0:00:07\n",
            "   -------------------- ------------------- 62.9/125.4 MB 10.2 MB/s eta 0:00:07\n",
            "   -------------------- ------------------- 62.9/125.4 MB 10.2 MB/s eta 0:00:07\n",
            "   -------------------- ------------------- 62.9/125.4 MB 10.2 MB/s eta 0:00:07\n",
            "   -------------------- ------------------- 62.9/125.4 MB 10.2 MB/s eta 0:00:07\n",
            "   -------------------- ------------------- 62.9/125.4 MB 10.2 MB/s eta 0:00:07\n",
            "   -------------------- ------------------- 62.9/125.4 MB 10.2 MB/s eta 0:00:07\n",
            "   -------------------- ------------------- 62.9/125.4 MB 10.2 MB/s eta 0:00:07\n",
            "   -------------------- ------------------- 62.9/125.4 MB 10.2 MB/s eta 0:00:07\n",
            "   -------------------- ------------------- 64.0/125.4 MB 7.6 MB/s eta 0:00:09\n",
            "   -------------------- ------------------- 64.0/125.4 MB 7.6 MB/s eta 0:00:09\n",
            "   -------------------- ------------------- 64.1/125.4 MB 7.1 MB/s eta 0:00:09\n",
            "   -------------------- ------------------- 65.0/125.4 MB 7.6 MB/s eta 0:00:08\n",
            "   -------------------- ------------------- 65.7/125.4 MB 7.4 MB/s eta 0:00:09\n",
            "   --------------------- ------------------ 66.1/125.4 MB 7.8 MB/s eta 0:00:08\n",
            "   --------------------- ------------------ 66.1/125.4 MB 7.8 MB/s eta 0:00:08\n",
            "   --------------------- ------------------ 67.1/125.4 MB 7.8 MB/s eta 0:00:08\n",
            "   --------------------- ------------------ 67.1/125.4 MB 7.8 MB/s eta 0:00:08\n",
            "   --------------------- ------------------ 67.8/125.4 MB 7.1 MB/s eta 0:00:09\n",
            "   --------------------- ------------------ 68.2/125.4 MB 7.6 MB/s eta 0:00:08\n",
            "   --------------------- ------------------ 68.3/125.4 MB 7.1 MB/s eta 0:00:09\n",
            "   ---------------------- ----------------- 69.2/125.4 MB 7.6 MB/s eta 0:00:08\n",
            "   ---------------------- ----------------- 69.2/125.4 MB 7.6 MB/s eta 0:00:08\n",
            "   ---------------------- ----------------- 70.2/125.4 MB 7.6 MB/s eta 0:00:08\n",
            "   ---------------------- ----------------- 70.2/125.4 MB 7.6 MB/s eta 0:00:08\n",
            "   ---------------------- ----------------- 71.1/125.4 MB 7.6 MB/s eta 0:00:08\n",
            "   ---------------------- ----------------- 71.3/125.4 MB 7.6 MB/s eta 0:00:08\n",
            "   ---------------------- ----------------- 71.6/125.4 MB 7.3 MB/s eta 0:00:08\n",
            "   ----------------------- ---------------- 73.0/125.4 MB 7.6 MB/s eta 0:00:07\n",
            "   ----------------------- ---------------- 73.4/125.4 MB 11.3 MB/s eta 0:00:05\n",
            "   ----------------------- ---------------- 73.8/125.4 MB 10.4 MB/s eta 0:00:05\n",
            "   ----------------------- ---------------- 74.4/125.4 MB 11.3 MB/s eta 0:00:05\n",
            "   ----------------------- ---------------- 74.4/125.4 MB 11.3 MB/s eta 0:00:05\n",
            "   ------------------------ --------------- 75.5/125.4 MB 11.1 MB/s eta 0:00:05\n",
            "   ------------------------ --------------- 75.5/125.4 MB 11.1 MB/s eta 0:00:05\n",
            "   ------------------------ --------------- 76.5/125.4 MB 11.3 MB/s eta 0:00:05\n",
            "   ------------------------ --------------- 76.5/125.4 MB 11.3 MB/s eta 0:00:05\n",
            "   ------------------------ --------------- 76.5/125.4 MB 11.3 MB/s eta 0:00:05\n",
            "   ------------------------ --------------- 77.6/125.4 MB 11.1 MB/s eta 0:00:05\n",
            "   ------------------------ --------------- 77.6/125.4 MB 11.1 MB/s eta 0:00:05\n",
            "   ------------------------ --------------- 78.3/125.4 MB 10.1 MB/s eta 0:00:05\n",
            "   ------------------------- -------------- 78.6/125.4 MB 10.9 MB/s eta 0:00:05\n",
            "   ------------------------- -------------- 79.1/125.4 MB 10.1 MB/s eta 0:00:05\n",
            "   ------------------------- -------------- 79.7/125.4 MB 11.1 MB/s eta 0:00:05\n",
            "   ------------------------- -------------- 79.7/125.4 MB 11.1 MB/s eta 0:00:05\n",
            "   ------------------------- -------------- 80.7/125.4 MB 10.7 MB/s eta 0:00:05\n",
            "   ------------------------- -------------- 80.7/125.4 MB 10.7 MB/s eta 0:00:05\n",
            "   ------------------------- -------------- 81.0/125.4 MB 9.8 MB/s eta 0:00:05\n",
            "   -------------------------- ------------- 81.8/125.4 MB 10.7 MB/s eta 0:00:05\n",
            "   -------------------------- ------------- 81.9/125.4 MB 9.9 MB/s eta 0:00:05\n",
            "   -------------------------- ------------- 82.8/125.4 MB 10.1 MB/s eta 0:00:05\n",
            "   -------------------------- ------------- 82.8/125.4 MB 10.1 MB/s eta 0:00:05\n",
            "   -------------------------- ------------- 83.9/125.4 MB 10.1 MB/s eta 0:00:05\n",
            "   -------------------------- ------------- 83.9/125.4 MB 10.1 MB/s eta 0:00:05\n",
            "   --------------------------- ------------ 84.9/125.4 MB 10.1 MB/s eta 0:00:05\n",
            "   --------------------------- ------------ 84.9/125.4 MB 10.1 MB/s eta 0:00:05\n",
            "   --------------------------- ------------ 84.9/125.4 MB 10.1 MB/s eta 0:00:05\n",
            "   --------------------------- ------------ 86.0/125.4 MB 9.9 MB/s eta 0:00:04\n",
            "   --------------------------- ------------ 86.0/125.4 MB 9.9 MB/s eta 0:00:04\n",
            "   --------------------------- ------------ 86.8/125.4 MB 10.1 MB/s eta 0:00:04\n",
            "   --------------------------- ------------ 87.0/125.4 MB 10.1 MB/s eta 0:00:04\n",
            "   --------------------------- ------------ 87.0/125.4 MB 10.1 MB/s eta 0:00:04\n",
            "   ---------------------------- ----------- 88.1/125.4 MB 9.9 MB/s eta 0:00:04\n",
            "   ---------------------------- ----------- 88.1/125.4 MB 9.9 MB/s eta 0:00:04\n",
            "   ---------------------------- ----------- 89.1/125.4 MB 10.2 MB/s eta 0:00:04\n",
            "   ---------------------------- ----------- 89.1/125.4 MB 10.2 MB/s eta 0:00:04\n",
            "   ---------------------------- ----------- 89.6/125.4 MB 9.2 MB/s eta 0:00:04\n",
            "   ---------------------------- ----------- 90.2/125.4 MB 10.1 MB/s eta 0:00:04\n",
            "   ---------------------------- ----------- 90.3/125.4 MB 9.5 MB/s eta 0:00:04\n",
            "   ----------------------------- ---------- 91.2/125.4 MB 10.2 MB/s eta 0:00:04\n",
            "   ----------------------------- ---------- 91.2/125.4 MB 10.2 MB/s eta 0:00:04\n",
            "   ----------------------------- ---------- 92.3/125.4 MB 10.1 MB/s eta 0:00:04\n",
            "   ----------------------------- ---------- 92.3/125.4 MB 10.1 MB/s eta 0:00:04\n",
            "   ----------------------------- ---------- 92.7/125.4 MB 9.4 MB/s eta 0:00:04\n",
            "   ----------------------------- ---------- 93.3/125.4 MB 9.9 MB/s eta 0:00:04\n",
            "   ----------------------------- ---------- 93.8/125.4 MB 9.2 MB/s eta 0:00:04\n",
            "   ------------------------------ --------- 94.4/125.4 MB 9.9 MB/s eta 0:00:04\n",
            "   ------------------------------ --------- 94.4/125.4 MB 9.2 MB/s eta 0:00:04\n",
            "   ------------------------------ --------- 95.4/125.4 MB 10.1 MB/s eta 0:00:03\n",
            "   ------------------------------ --------- 95.4/125.4 MB 10.1 MB/s eta 0:00:03\n",
            "   ------------------------------ --------- 96.3/125.4 MB 9.9 MB/s eta 0:00:03\n",
            "   ------------------------------ --------- 96.5/125.4 MB 9.9 MB/s eta 0:00:03\n",
            "   ------------------------------ --------- 96.5/125.4 MB 9.9 MB/s eta 0:00:03\n",
            "   ------------------------------- -------- 97.5/125.4 MB 9.9 MB/s eta 0:00:03\n",
            "   ------------------------------- -------- 97.5/125.4 MB 9.9 MB/s eta 0:00:03\n",
            "   ------------------------------- -------- 98.0/125.4 MB 9.1 MB/s eta 0:00:04\n",
            "   ------------------------------- -------- 98.6/125.4 MB 9.5 MB/s eta 0:00:03\n",
            "   ------------------------------- -------- 98.8/125.4 MB 9.0 MB/s eta 0:00:03\n",
            "   ------------------------------- -------- 99.6/125.4 MB 9.6 MB/s eta 0:00:03\n",
            "   ------------------------------- -------- 99.6/125.4 MB 9.6 MB/s eta 0:00:03\n",
            "   -------------------------------- ------- 100.7/125.4 MB 9.8 MB/s eta 0:00:03\n",
            "   -------------------------------- ------- 100.7/125.4 MB 9.8 MB/s eta 0:00:03\n",
            "   -------------------------------- ------- 101.3/125.4 MB 9.0 MB/s eta 0:00:03\n",
            "   -------------------------------- ------- 101.7/125.4 MB 9.6 MB/s eta 0:00:03\n",
            "   -------------------------------- ------- 102.1/125.4 MB 9.1 MB/s eta 0:00:03\n",
            "   -------------------------------- ------- 102.8/125.4 MB 9.8 MB/s eta 0:00:03\n",
            "   -------------------------------- ------- 102.8/125.4 MB 9.8 MB/s eta 0:00:03\n",
            "   --------------------------------- ------ 103.6/125.4 MB 9.6 MB/s eta 0:00:03\n",
            "   --------------------------------- ------ 103.8/125.4 MB 9.8 MB/s eta 0:00:03\n",
            "   --------------------------------- ------ 103.8/125.4 MB 9.8 MB/s eta 0:00:03\n",
            "   --------------------------------- ------ 104.9/125.4 MB 9.5 MB/s eta 0:00:03\n",
            "   --------------------------------- ------ 104.9/125.4 MB 9.5 MB/s eta 0:00:03\n",
            "   --------------------------------- ------ 105.6/125.4 MB 8.7 MB/s eta 0:00:03\n",
            "   --------------------------------- ----- 106.9/125.4 MB 10.9 MB/s eta 0:00:02\n",
            "   --------------------------------- ----- 106.9/125.4 MB 10.9 MB/s eta 0:00:02\n",
            "   ---------------------------------- ----- 107.1/125.4 MB 9.6 MB/s eta 0:00:02\n",
            "   --------------------------------- ----- 108.0/125.4 MB 10.7 MB/s eta 0:00:02\n",
            "   --------------------------------- ----- 108.0/125.4 MB 10.7 MB/s eta 0:00:02\n",
            "   --------------------------------- ----- 109.0/125.4 MB 10.6 MB/s eta 0:00:02\n",
            "   ---------------------------------- ----- 109.3/125.4 MB 9.9 MB/s eta 0:00:02\n",
            "   ---------------------------------- ---- 110.1/125.4 MB 10.7 MB/s eta 0:00:02\n",
            "   ---------------------------------- ---- 110.1/125.4 MB 10.7 MB/s eta 0:00:02\n",
            "   ---------------------------------- ---- 111.1/125.4 MB 10.7 MB/s eta 0:00:02\n",
            "   ---------------------------------- ---- 111.1/125.4 MB 10.7 MB/s eta 0:00:02\n",
            "   ----------------------------------- ---- 111.3/125.4 MB 9.8 MB/s eta 0:00:02\n",
            "   ---------------------------------- ---- 112.2/125.4 MB 10.6 MB/s eta 0:00:02\n",
            "   ---------------------------------- ---- 112.2/125.4 MB 10.6 MB/s eta 0:00:02\n",
            "   ----------------------------------- --- 113.2/125.4 MB 10.7 MB/s eta 0:00:02\n",
            "   ----------------------------------- --- 113.2/125.4 MB 10.6 MB/s eta 0:00:02\n",
            "   ------------------------------------ --- 113.5/125.4 MB 9.9 MB/s eta 0:00:02\n",
            "   ----------------------------------- --- 114.3/125.4 MB 11.1 MB/s eta 0:00:02\n",
            "   ----------------------------------- --- 114.3/125.4 MB 11.1 MB/s eta 0:00:02\n",
            "   ----------------------------------- --- 115.3/125.4 MB 10.7 MB/s eta 0:00:01\n",
            "   ----------------------------------- --- 115.3/125.4 MB 10.7 MB/s eta 0:00:01\n",
            "   ------------------------------------ --- 115.6/125.4 MB 9.9 MB/s eta 0:00:01\n",
            "   ------------------------------------- -- 116.4/125.4 MB 9.9 MB/s eta 0:00:01\n",
            "   ------------------------------------- -- 116.4/125.4 MB 9.9 MB/s eta 0:00:01\n",
            "   ------------------------------------- -- 117.4/125.4 MB 9.9 MB/s eta 0:00:01\n",
            "   ------------------------------------- -- 117.4/125.4 MB 9.9 MB/s eta 0:00:01\n",
            "   ------------------------------------- -- 117.5/125.4 MB 9.1 MB/s eta 0:00:01\n",
            "   ------------------------------------- - 119.5/125.4 MB 10.6 MB/s eta 0:00:01\n",
            "   ------------------------------------- - 119.5/125.4 MB 10.6 MB/s eta 0:00:01\n",
            "   -------------------------------------- - 119.8/125.4 MB 9.6 MB/s eta 0:00:01\n",
            "   ------------------------------------- - 120.6/125.4 MB 10.6 MB/s eta 0:00:01\n",
            "   ------------------------------------- - 120.6/125.4 MB 10.6 MB/s eta 0:00:01\n",
            "   ------------------------------------- - 121.6/125.4 MB 10.6 MB/s eta 0:00:01\n",
            "   ------------------------------------- - 121.6/125.4 MB 10.6 MB/s eta 0:00:01\n",
            "   -------------------------------------- - 122.0/125.4 MB 9.6 MB/s eta 0:00:01\n",
            "   --------------------------------------  122.7/125.4 MB 10.6 MB/s eta 0:00:01\n",
            "   --------------------------------------  122.7/125.4 MB 10.6 MB/s eta 0:00:01\n",
            "   --------------------------------------  122.7/125.4 MB 10.6 MB/s eta 0:00:01\n",
            "   --------------------------------------  122.7/125.4 MB 10.6 MB/s eta 0:00:01\n",
            "   ---------------------------------------  122.7/125.4 MB 8.6 MB/s eta 0:00:01\n",
            "   --------------------------------------  124.8/125.4 MB 10.2 MB/s eta 0:00:01\n",
            "   --------------------------------------  125.4/125.4 MB 10.2 MB/s eta 0:00:01\n",
            "   --------------------------------------  125.4/125.4 MB 10.2 MB/s eta 0:00:01\n",
            "   --------------------------------------  125.4/125.4 MB 10.2 MB/s eta 0:00:01\n",
            "   --------------------------------------  125.4/125.4 MB 10.2 MB/s eta 0:00:01\n",
            "   --------------------------------------  125.4/125.4 MB 10.2 MB/s eta 0:00:01\n",
            "   ---------------------------------------- 125.4/125.4 MB 8.2 MB/s eta 0:00:00\n",
            "Downloading emoji-2.14.0-py3-none-any.whl (586 kB)\n",
            "   ---------------------------------------- 0.0/586.9 kB ? eta -:--:--\n",
            "   --------------------------------------- 586.9/586.9 kB 36.0 MB/s eta 0:00:00\n",
            "Downloading iso3166-2.1.1-py3-none-any.whl (9.8 kB)\n",
            "Downloading nltk-3.9.1-py3-none-any.whl (1.5 MB)\n",
            "   ---------------------------------------- 0.0/1.5 MB ? eta -:--:--\n",
            "   ---------------------------------------  1.5/1.5 MB 93.4 MB/s eta 0:00:01\n",
            "   ---------------------------------------- 1.5/1.5 MB 31.8 MB/s eta 0:00:00\n",
            "Downloading pyamg-5.2.1-cp311-cp311-win_amd64.whl (1.6 MB)\n",
            "   ---------------------------------------- 0.0/1.6 MB ? eta -:--:--\n",
            "   ---------------------------------- ----- 1.4/1.6 MB 28.5 MB/s eta 0:00:01\n",
            "   ---------------------------------------- 1.6/1.6 MB 20.0 MB/s eta 0:00:00\n",
            "Downloading sh-2.1.0-py3-none-any.whl (38 kB)\n",
            "Downloading textblob-0.18.0.post0-py3-none-any.whl (626 kB)\n",
            "   ---------------------------------------- 0.0/626.3 kB ? eta -:--:--\n",
            "   --------------------------------------- 626.3/626.3 kB 19.3 MB/s eta 0:00:00\n",
            "Downloading xlrd-2.0.1-py2.py3-none-any.whl (96 kB)\n",
            "   ---------------------------------------- 0.0/96.5 kB ? eta -:--:--\n",
            "   ---------------------------------------- 96.5/96.5 kB 5.4 MB/s eta 0:00:00\n",
            "Downloading bokeh-3.6.2-py3-none-any.whl (6.9 MB)\n",
            "   ---------------------------------------- 0.0/6.9 MB ? eta -:--:--\n",
            "   ------ --------------------------------- 1.2/6.9 MB 25.8 MB/s eta 0:00:01\n",
            "   --------------- ------------------------ 2.7/6.9 MB 34.0 MB/s eta 0:00:01\n",
            "   -------------------------- ------------- 4.5/6.9 MB 32.4 MB/s eta 0:00:01\n",
            "   --------------------------------- ------ 5.8/6.9 MB 33.8 MB/s eta 0:00:01\n",
            "   ---------------------------------------  6.9/6.9 MB 33.7 MB/s eta 0:00:01\n",
            "   ---------------------------------------  6.9/6.9 MB 33.7 MB/s eta 0:00:01\n",
            "   ---------------------------------------- 6.9/6.9 MB 23.2 MB/s eta 0:00:00\n",
            "Downloading colorcet-3.1.0-py3-none-any.whl (260 kB)\n",
            "   ---------------------------------------- 0.0/260.3 kB ? eta -:--:--\n",
            "   --------------------------------------- 260.3/260.3 kB 15.6 MB/s eta 0:00:00\n",
            "Downloading narwhals-1.18.3-py3-none-any.whl (250 kB)\n",
            "   ---------------------------------------- 0.0/250.3 kB ? eta -:--:--\n",
            "   ---------------------------------------- 250.3/250.3 kB 7.7 MB/s eta 0:00:00\n",
            "Downloading param-2.1.1-py3-none-any.whl (116 kB)\n",
            "   ---------------------------------------- 0.0/116.8 kB ? eta -:--:--\n",
            "   ---------------------------------------- 116.8/116.8 kB 6.7 MB/s eta 0:00:00\n",
            "Downloading pycodestyle-2.12.1-py2.py3-none-any.whl (31 kB)\n",
            "Downloading pyviz_comms-3.0.3-py3-none-any.whl (83 kB)\n",
            "   ---------------------------------------- 0.0/83.5 kB ? eta -:--:--\n",
            "   ---------------------------------------- 83.5/83.5 kB 4.6 MB/s eta 0:00:00\n",
            "Downloading regex-2024.11.6-cp311-cp311-win_amd64.whl (274 kB)\n",
            "   ---------------------------------------- 0.0/274.1 kB ? eta -:--:--\n",
            "   ---------------------------------------- 274.1/274.1 kB 8.5 MB/s eta 0:00:00\n",
            "Downloading threadpoolctl-3.5.0-py3-none-any.whl (18 kB)\n",
            "Downloading click-8.1.7-py3-none-any.whl (97 kB)\n",
            "   ---------------------------------------- 0.0/97.9 kB ? eta -:--:--\n",
            "   ---------------------------------------- 97.9/97.9 kB 5.5 MB/s eta 0:00:00\n",
            "Downloading linkify_it_py-2.0.3-py3-none-any.whl (19 kB)\n",
            "Downloading Markdown-3.7-py3-none-any.whl (106 kB)\n",
            "   ---------------------------------------- 0.0/106.3 kB ? eta -:--:--\n",
            "   ---------------------------------------- 106.3/106.3 kB 6.0 MB/s eta 0:00:00\n",
            "Downloading markdown_it_py-3.0.0-py3-none-any.whl (87 kB)\n",
            "   ---------------------------------------- 0.0/87.5 kB ? eta -:--:--\n",
            "   ---------------------------------------- 87.5/87.5 kB 5.2 MB/s eta 0:00:00\n",
            "Downloading mdit_py_plugins-0.4.2-py3-none-any.whl (55 kB)\n",
            "   ---------------------------------------- 0.0/55.3 kB ? eta -:--:--\n",
            "   ---------------------------------------- 55.3/55.3 kB ? eta 0:00:00\n",
            "Downloading mdurl-0.1.2-py3-none-any.whl (10.0 kB)\n",
            "Downloading xyzservices-2024.9.0-py3-none-any.whl (85 kB)\n",
            "   ---------------------------------------- 0.0/85.1 kB ? eta -:--:--\n",
            "   ---------------------------------------- 85.1/85.1 kB 5.0 MB/s eta 0:00:00\n",
            "Downloading uc_micro_py-1.0.3-py3-none-any.whl (6.2 kB)\n",
            "Building wheels for collected packages: lux-api, lux-widget\n",
            "  Building wheel for lux-api (pyproject.toml): started\n",
            "  Building wheel for lux-api (pyproject.toml): finished with status 'done'\n",
            "  Created wheel for lux-api: filename=lux_api-0.5.1-py3-none-any.whl size=185636 sha256=dc8805f984603a0c5f586b09af213f46f5fcd76da7e5d980a1811a5a1600ee59\n",
            "  Stored in directory: c:\\users\\dferracuti\\appdata\\local\\packages\\pythonsoftwarefoundation.python.3.11_qbz5n2kfra8p0\\localcache\\local\\pip\\cache\\wheels\\95\\b9\\67\\b0bf756f76d3f7aa1f21b94565ab425941ed4b96167dde296b\n",
            "  Building wheel for lux-widget (pyproject.toml): started\n",
            "  Building wheel for lux-widget (pyproject.toml): finished with status 'done'\n",
            "  Created wheel for lux-widget: filename=lux_widget-0.1.11-py3-none-any.whl size=2540480 sha256=240db0a128480bd79120134368136ed4363b7183904e836b13534d0f33ad38cb\n",
            "  Stored in directory: c:\\users\\dferracuti\\appdata\\local\\packages\\pythonsoftwarefoundation.python.3.11_qbz5n2kfra8p0\\localcache\\local\\pip\\cache\\wheels\\9a\\61\\39\\2671dcc0a0e311cf4e15cfe09ca9611f2c3a385e32bc6173a0\n",
            "Successfully built lux-api lux-widget\n",
            "Installing collected packages: xyzservices, xlrd, uc-micro-py, threadpoolctl, tenacity, sh, regex, pycodestyle, param, narwhals, mdurl, markdown, iso3166, importlib-resources, fsspec, emoji, colorcet, click, xgboost, scikit-learn, pyviz-comms, pyamg, plotly, nltk, markdown-it-py, linkify-it-py, autopep8, textblob, sweetviz, pandas-dq, mdit-py-plugins, bokeh, panel, altair, holoviews, hvplot, autoviz, lux-widget, lux-api\n",
            "Successfully installed altair-5.5.0 autopep8-2.3.1 autoviz-0.1.905 bokeh-3.6.2 click-8.1.7 colorcet-3.1.0 emoji-2.14.0 fsspec-2024.10.0 holoviews-1.20.0 hvplot-0.11.1 importlib-resources-6.4.5 iso3166-2.1.1 linkify-it-py-2.0.3 lux-api-0.5.1 lux-widget-0.1.11 markdown-3.7 markdown-it-py-3.0.0 mdit-py-plugins-0.4.2 mdurl-0.1.2 narwhals-1.18.3 nltk-3.9.1 pandas-dq-1.29 panel-1.5.4 param-2.1.1 plotly-5.24.1 pyamg-5.2.1 pycodestyle-2.12.1 pyviz-comms-3.0.3 regex-2024.11.6 scikit-learn-1.6.0 sh-2.1.0 sweetviz-2.3.1 tenacity-9.0.0 textblob-0.18.0.post0 threadpoolctl-3.5.0 uc-micro-py-1.0.3 xgboost-1.6.2 xlrd-2.0.1 xyzservices-2024.9.0\n"
          ]
        },
        {
          "name": "stderr",
          "output_type": "stream",
          "text": [
            "\n",
            "[notice] A new release of pip is available: 24.0 -> 24.3.1\n",
            "[notice] To update, run: C:\\Users\\dferracuti\\AppData\\Local\\Microsoft\\WindowsApps\\PythonSoftwareFoundation.Python.3.11_qbz5n2kfra8p0\\python.exe -m pip install --upgrade pip\n"
          ]
        }
      ],
      "source": [
        "!pip install sweetviz lux-api autoviz plotly matplotlib"
      ]
    },
    {
      "cell_type": "code",
      "execution_count": 2,
      "metadata": {
        "colab": {
          "base_uri": "https://localhost:8080/"
        },
        "id": "izfIcJR38dvf",
        "outputId": "f55b1faf-0cf5-458d-cf3c-d893fe06b1ab"
      },
      "outputs": [
        {
          "name": "stdout",
          "output_type": "stream",
          "text": [
            "Imported v0.1.905. Please call AutoViz in this sequence:\n",
            "    AV = AutoViz_Class()\n",
            "    %matplotlib inline\n",
            "    dfte = AV.AutoViz(filename, sep=',', depVar='', dfte=None, header=0, verbose=1, lowess=False,\n",
            "               chart_format='svg',max_rows_analyzed=150000,max_cols_analyzed=30, save_plot_dir=None)\n"
          ]
        }
      ],
      "source": [
        "import pandas as pd\n",
        "import json\n",
        "import seaborn as sns\n",
        "import sweetviz as sv\n",
        "import lux\n",
        "from autoviz import AutoViz_Class\n",
        "import plotly.express as px\n",
        "import matplotlib.pyplot as plt\n",
        "%matplotlib inline"
      ]
    },
    {
      "cell_type": "markdown",
      "metadata": {
        "id": "IC9d5Wxz-MTC"
      },
      "source": [
        "Import data:"
      ]
    },
    {
      "cell_type": "code",
      "execution_count": 3,
      "metadata": {
        "id": "2q2Q_3iN8dtm"
      },
      "outputs": [],
      "source": [
        "HOTELS = pd.read_csv(\n",
        "    \"https://raw.githubusercontent.com/SamuGalli/DIQ/main/Comune-di-Milano---Strutture-ricettive-alberghiere.csv\",\n",
        "    sep=';',\n",
        "    encoding='unicode_escape'\n",
        ")"
      ]
    },
    {
      "cell_type": "markdown",
      "metadata": {
        "id": "1Bg17F6v-TiF"
      },
      "source": [
        "Basic profiling activities:"
      ]
    },
    {
      "cell_type": "code",
      "execution_count": 4,
      "metadata": {
        "colab": {
          "base_uri": "https://localhost:8080/"
        },
        "id": "NHd8-KhF8djE",
        "outputId": "8b19533a-4c02-4e09-ef9a-494a7ebff1e2"
      },
      "outputs": [
        {
          "data": {
            "text/plain": [
              "(451, 15)"
            ]
          },
          "execution_count": 4,
          "metadata": {},
          "output_type": "execute_result"
        }
      ],
      "source": [
        "HOTELS.shape"
      ]
    },
    {
      "cell_type": "code",
      "execution_count": 5,
      "metadata": {
        "colab": {
          "base_uri": "https://localhost:8080/"
        },
        "collapsed": true,
        "id": "9BCQh2v1-e5B",
        "outputId": "1e1065e8-947b-4ade-d1d2-832c9dd2f528"
      },
      "outputs": [
        {
          "name": "stdout",
          "output_type": "stream",
          "text": [
            "Ubicazione                       object\n",
            "Tipo via                         object\n",
            "Descrizione via                  object\n",
            "Civico                          float64\n",
            "Codice via                      float64\n",
            "ZD                              float64\n",
            "Camere                          float64\n",
            "Camere piano                     object\n",
            "Categoria                        object\n",
            "Insegna                          object\n",
            "Piani totali                    float64\n",
            "Piano piano                      object\n",
            "Posti letto                     float64\n",
            "Posti letto per piano            object\n",
            "Tipo attività struture extra     object\n",
            "dtype: object\n"
          ]
        }
      ],
      "source": [
        "#To see all the data types present\n",
        "HOTELS.dtypes"
      ]
    },
    {
      "cell_type": "code",
      "execution_count": 6,
      "metadata": {
        "colab": {
          "base_uri": "https://localhost:8080/"
        },
        "id": "YLy71qX7-e2v",
        "outputId": "80377c63-dd69-4539-823b-dba7f6c813f7"
      },
      "outputs": [
        {
          "data": {
            "text/plain": [
              "['Civico', 'Codice via', 'ZD', 'Camere', 'Piani totali', 'Posti letto']"
            ]
          },
          "execution_count": 6,
          "metadata": {},
          "output_type": "execute_result"
        }
      ],
      "source": [
        "#display numeric columns\n",
        "NUM = list(HOTELS.select_dtypes(include=['int64','float64']).columns)\n",
        "NUM"
      ]
    },
    {
      "cell_type": "code",
      "execution_count": 7,
      "metadata": {
        "colab": {
          "base_uri": "https://localhost:8080/"
        },
        "id": "9z-dntu8-e0o",
        "outputId": "e5cddbda-d70f-4fdb-bb05-19d97b13281c"
      },
      "outputs": [
        {
          "data": {
            "text/plain": [
              "['Ubicazione',\n",
              " 'Tipo via',\n",
              " 'Descrizione via',\n",
              " 'Camere piano',\n",
              " 'Categoria',\n",
              " 'Insegna',\n",
              " 'Piano piano',\n",
              " 'Posti letto per piano',\n",
              " 'Tipo attività struture extra']"
            ]
          },
          "execution_count": 7,
          "metadata": {},
          "output_type": "execute_result"
        }
      ],
      "source": [
        "#display categorical columns\n",
        "CAT = list(HOTELS.select_dtypes(include=['bool','object']).columns)\n",
        "CAT"
      ]
    },
    {
      "cell_type": "markdown",
      "metadata": {
        "id": "AdslP_Pw-nOi"
      },
      "source": [
        "**SINGLE COLUMN ANALYSIS**"
      ]
    },
    {
      "cell_type": "markdown",
      "metadata": {
        "id": "0-5rxNTq-vAp"
      },
      "source": [
        "**Cardinalities**\n",
        "\n",
        "Cardinalities are numbers that summarize simple metadata (*e.g.,* number of rows, attributes, null values, distinct values, Uniqueness and Distinctness).\n",
        "\n",
        "*Cardinality* = count of the number of distinct actual values.\n",
        "\n",
        "*Uniqueness* = percentage calculated as Cardinality divided by the total number of records.\n",
        "\n",
        "*Actual* = count of the number of records with an actual value (*i.e.,* not-null).\n",
        "\n",
        "*Distinctness* = percentage calculated as Cardinality divided by Actual."
      ]
    },
    {
      "cell_type": "code",
      "execution_count": 8,
      "metadata": {
        "colab": {
          "base_uri": "https://localhost:8080/"
        },
        "id": "V_n-xRgm-eyh",
        "outputId": "55738a01-3b69-4823-f5e4-ca9cb7aaaa43"
      },
      "outputs": [
        {
          "data": {
            "text/plain": [
              "451"
            ]
          },
          "execution_count": 8,
          "metadata": {},
          "output_type": "execute_result"
        }
      ],
      "source": [
        "#len command counts the number of rows, those are always the same\n",
        "ROWS = len(HOTELS['Ubicazione'])\n",
        "ROWS"
      ]
    },
    {
      "cell_type": "code",
      "execution_count": 9,
      "metadata": {
        "colab": {
          "base_uri": "https://localhost:8080/"
        },
        "id": "mI48sdSU1-vD",
        "outputId": "c7ba5db2-c342-43d2-b4fe-49027b2abb6e"
      },
      "outputs": [
        {
          "data": {
            "text/plain": [
              "451"
            ]
          },
          "execution_count": 9,
          "metadata": {},
          "output_type": "execute_result"
        }
      ],
      "source": [
        "ROW1 = len(HOTELS['Tipo via'])\n",
        "ROW1"
      ]
    },
    {
      "cell_type": "code",
      "execution_count": 10,
      "metadata": {
        "colab": {
          "base_uri": "https://localhost:8080/"
        },
        "id": "D5nv3WFq2BIE",
        "outputId": "a676134e-f389-48d8-eb97-0891af6fe544"
      },
      "outputs": [
        {
          "data": {
            "text/plain": [
              "451"
            ]
          },
          "execution_count": 10,
          "metadata": {},
          "output_type": "execute_result"
        }
      ],
      "source": [
        "ROW2 = len(HOTELS['Camere'])\n",
        "ROW2"
      ]
    },
    {
      "cell_type": "code",
      "execution_count": 11,
      "metadata": {
        "colab": {
          "base_uri": "https://localhost:8080/"
        },
        "id": "LSRozggb-eqR",
        "outputId": "48bebf81-16c6-4eea-eff5-e6695cde4b36"
      },
      "outputs": [
        {
          "data": {
            "text/plain": [
              "6765"
            ]
          },
          "execution_count": 11,
          "metadata": {},
          "output_type": "execute_result"
        }
      ],
      "source": [
        "#number of cells with shape function\n",
        "CELLS = HOTELS.shape[0] * HOTELS.shape[1]\n",
        "CELLS"
      ]
    },
    {
      "cell_type": "code",
      "execution_count": 13,
      "metadata": {
        "colab": {
          "base_uri": "https://localhost:8080/"
        },
        "id": "Eb-aR66a-en-",
        "outputId": "21b169d4-6b66-45a9-b274-d734c8c86064"
      },
      "outputs": [
        {
          "name": "stdout",
          "output_type": "stream",
          "text": [
            "451\n"
          ]
        }
      ],
      "source": [
        "#number of non—null observation in a column (attribute \"Ubicazione\")\n",
        "COUNT = HOTELS['Ubicazione'].count()\n",
        "print(COUNT)"
      ]
    },
    {
      "cell_type": "code",
      "execution_count": 14,
      "metadata": {
        "colab": {
          "base_uri": "https://localhost:8080/",
          "height": 1000,
          "referenced_widgets": [
            "c8feb42685204c02a04563f91031d1a9",
            "8384f79a6ecf45ad9be4ba410e76542c",
            "cc04edc8a59c4df084fd782f62791a91",
            "432490bdb23e472290582796ec720cb3",
            "512cddbf11bc47d6b44d256b0703c2c8"
          ]
        },
        "collapsed": true,
        "id": "p_kI_04--el5",
        "outputId": "29850334-41ae-407d-f620-defecf279569"
      },
      "outputs": [
        {
          "data": {
            "application/vnd.jupyter.widget-view+json": {
              "model_id": "00c978eb5fa144deb04123816238ca26",
              "version_major": 2,
              "version_minor": 0
            },
            "text/plain": [
              "Button(description='Toggle Pandas/Lux', layout=Layout(top='5px', width='140px'), style=ButtonStyle())"
            ]
          },
          "metadata": {},
          "output_type": "display_data"
        },
        {
          "data": {
            "application/vnd.jupyter.widget-view+json": {
              "model_id": "266cf3e272b842649b4e05a7aae3b7ec",
              "version_major": 2,
              "version_minor": 0
            },
            "text/plain": [
              "Output()"
            ]
          },
          "metadata": {},
          "output_type": "display_data"
        }
      ],
      "source": [
        "#value counts is the same of a group by (attribute \"ibu\")\n",
        "HOTELS['Ubicazione'].value_counts()"
      ]
    },
    {
      "cell_type": "code",
      "execution_count": 15,
      "metadata": {
        "colab": {
          "base_uri": "https://localhost:8080/"
        },
        "id": "C9WO6fQ--edG",
        "outputId": "79b1b6ec-ffd6-4df1-eb16-228e1c9cd463"
      },
      "outputs": [
        {
          "data": {
            "text/plain": [
              "438"
            ]
          },
          "execution_count": 15,
          "metadata": {},
          "output_type": "execute_result"
        }
      ],
      "source": [
        "#nunique is the number of distict values for an attribute (attribute \"ibu\")\n",
        "DISTINCT = (HOTELS['Ubicazione'].nunique())\n",
        "DISTINCT"
      ]
    },
    {
      "cell_type": "markdown",
      "metadata": {
        "id": "6ZsK7Mn6_EFW"
      },
      "source": [
        "UNIQUENESS EVALUATION ON UBICAZIONE ATTRIBUTE:"
      ]
    },
    {
      "cell_type": "code",
      "execution_count": 16,
      "metadata": {
        "colab": {
          "base_uri": "https://localhost:8080/"
        },
        "id": "MLkNop0V_GWU",
        "outputId": "17d1cdd6-3f85-411d-f198-054d8f8b5254"
      },
      "outputs": [
        {
          "name": "stdout",
          "output_type": "stream",
          "text": [
            "UNIQUENESS:  0.9711751662971175\n"
          ]
        }
      ],
      "source": [
        "#for attribute \"Ubicazione\"\n",
        "UNIQUENESS = DISTINCT / ROWS\n",
        "print(\"UNIQUENESS: \", UNIQUENESS)"
      ]
    },
    {
      "cell_type": "markdown",
      "metadata": {
        "id": "dOUdGEDN_UIT"
      },
      "source": [
        "DISTINCTNESS EVALUATION ON UBICAZIONE ATTRIBUTE:"
      ]
    },
    {
      "cell_type": "code",
      "execution_count": 17,
      "metadata": {
        "colab": {
          "base_uri": "https://localhost:8080/"
        },
        "id": "4kgjyElz_G4Q",
        "outputId": "e6c09513-b252-4c11-9727-3c0652b316fc"
      },
      "outputs": [
        {
          "name": "stdout",
          "output_type": "stream",
          "text": [
            "DISTINCTNESS:  0.9711751662971175\n"
          ]
        }
      ],
      "source": [
        "#for attribute \"Ubicazione\"\n",
        "DISTINCTNESS = DISTINCT / COUNT\n",
        "print(\"DISTINCTNESS: \", DISTINCTNESS)"
      ]
    },
    {
      "cell_type": "markdown",
      "metadata": {
        "id": "7MiOj5Pc4wJ5"
      },
      "source": [
        "NOW THE SAME FOR ATTRIBUTE TIPO VIA"
      ]
    },
    {
      "cell_type": "code",
      "execution_count": 18,
      "metadata": {
        "colab": {
          "base_uri": "https://localhost:8080/"
        },
        "id": "cA_T2Q3j5VOq",
        "outputId": "f115ec61-356c-43f1-ffd7-cc673c7f9615"
      },
      "outputs": [
        {
          "data": {
            "text/plain": [
              "np.int64(437)"
            ]
          },
          "execution_count": 18,
          "metadata": {},
          "output_type": "execute_result"
        }
      ],
      "source": [
        "#number of non—null observation in a column (attribute \"Tipo via\")\n",
        "COUNT = HOTELS['Tipo via'].count()\n",
        "print(COUNT)"
      ]
    },
    {
      "cell_type": "code",
      "execution_count": 19,
      "metadata": {
        "colab": {
          "base_uri": "https://localhost:8080/"
        },
        "id": "CS1GIhXB5bzi",
        "outputId": "b7763fea-565e-4401-882e-3bf4b7db6613"
      },
      "outputs": [
        {
          "data": {
            "text/plain": [
              "8"
            ]
          },
          "execution_count": 19,
          "metadata": {},
          "output_type": "execute_result"
        }
      ],
      "source": [
        "#nunique is the number of distict values for an attribute (attribute \"Tipo via\")\n",
        "DISTINCT = (HOTELS['Tipo via'].nunique())\n",
        "DISTINCT"
      ]
    },
    {
      "cell_type": "code",
      "execution_count": 20,
      "metadata": {
        "colab": {
          "base_uri": "https://localhost:8080/"
        },
        "id": "O7RbiBBq5lP4",
        "outputId": "b8e76957-d3c5-4b8e-bd3b-d6092b6525f1"
      },
      "outputs": [
        {
          "name": "stdout",
          "output_type": "stream",
          "text": [
            "UNIQUENESS:  0.017738359201773836\n"
          ]
        }
      ],
      "source": [
        "#for attribute \"Tipo via\"\n",
        "UNIQUENESS = DISTINCT / ROWS\n",
        "print(\"UNIQUENESS: \", UNIQUENESS)"
      ]
    },
    {
      "cell_type": "code",
      "execution_count": 21,
      "metadata": {
        "colab": {
          "base_uri": "https://localhost:8080/"
        },
        "id": "jHvGE-PS5u2I",
        "outputId": "3aa4a30a-d1bd-4754-9bd3-27d35d348364"
      },
      "outputs": [
        {
          "name": "stdout",
          "output_type": "stream",
          "text": [
            "DISTINCTNESS:  0.018306636155606407\n"
          ]
        }
      ],
      "source": [
        "#for attribute \"Tipo via\"\n",
        "DISTINCTNESS = DISTINCT / COUNT\n",
        "print(\"DISTINCTNESS: \", DISTINCTNESS)"
      ]
    },
    {
      "cell_type": "markdown",
      "metadata": {
        "id": "THu8zYWP-krc"
      },
      "source": [
        "NOW FOR DESCRIZIONE VIA"
      ]
    },
    {
      "cell_type": "code",
      "execution_count": 22,
      "metadata": {
        "colab": {
          "base_uri": "https://localhost:8080/"
        },
        "id": "UdyUJ90d-nFW",
        "outputId": "809d9fbd-8339-4ca6-a165-4631ba7a1147"
      },
      "outputs": [
        {
          "name": "stdout",
          "output_type": "stream",
          "text": [
            "UNIQUENESS:  0.6651884700665188\n",
            "DISTINCTNESS:  0.6864988558352403\n"
          ]
        }
      ],
      "source": [
        "COUNT = HOTELS['Descrizione via'].count()\n",
        "DISTINCT = (HOTELS['Descrizione via'].nunique())\n",
        "UNIQUENESS = DISTINCT / ROWS\n",
        "DISTINCTNESS = DISTINCT / COUNT\n",
        "print(\"UNIQUENESS: \", UNIQUENESS)\n",
        "print(\"DISTINCTNESS: \", DISTINCTNESS)"
      ]
    },
    {
      "cell_type": "markdown",
      "metadata": {
        "id": "1SZg228v-5Q4"
      },
      "source": [
        "CIVICO:"
      ]
    },
    {
      "cell_type": "code",
      "execution_count": 23,
      "metadata": {
        "colab": {
          "base_uri": "https://localhost:8080/"
        },
        "id": "g0Rgbp-t-70N",
        "outputId": "ed1c0fb2-b426-4c91-8d2e-0818a3c9b872"
      },
      "outputs": [
        {
          "name": "stdout",
          "output_type": "stream",
          "text": [
            "UNIQUENESS:  0.19955654101995565\n",
            "DISTINCTNESS:  0.21377672209026127\n"
          ]
        }
      ],
      "source": [
        "COUNT = HOTELS['Civico'].count()\n",
        "DISTINCT = (HOTELS['Civico'].nunique())\n",
        "UNIQUENESS = DISTINCT / ROWS\n",
        "DISTINCTNESS = DISTINCT / COUNT\n",
        "print(\"UNIQUENESS: \", UNIQUENESS)\n",
        "print(\"DISTINCTNESS: \", DISTINCTNESS)"
      ]
    },
    {
      "cell_type": "markdown",
      "metadata": {
        "id": "LzYi0P-5_Bd9"
      },
      "source": [
        "CODICE VIA"
      ]
    },
    {
      "cell_type": "code",
      "execution_count": 24,
      "metadata": {
        "colab": {
          "base_uri": "https://localhost:8080/"
        },
        "id": "ls6dQQdf_Gzs",
        "outputId": "7a9976d7-c655-49ea-feb6-dfbefcd22494"
      },
      "outputs": [
        {
          "name": "stdout",
          "output_type": "stream",
          "text": [
            "UNIQUENESS:  0.6696230598669624\n",
            "DISTINCTNESS:  0.6910755148741419\n"
          ]
        }
      ],
      "source": [
        "COUNT = HOTELS['Codice via'].count()\n",
        "DISTINCT = (HOTELS['Codice via'].nunique())\n",
        "UNIQUENESS = DISTINCT / ROWS\n",
        "DISTINCTNESS = DISTINCT / COUNT\n",
        "print(\"UNIQUENESS: \", UNIQUENESS)\n",
        "print(\"DISTINCTNESS: \", DISTINCTNESS)"
      ]
    },
    {
      "cell_type": "markdown",
      "metadata": {
        "id": "Z_PKI3hX_NRj"
      },
      "source": [
        "ZD"
      ]
    },
    {
      "cell_type": "code",
      "execution_count": 25,
      "metadata": {
        "colab": {
          "base_uri": "https://localhost:8080/"
        },
        "id": "MwPDpi3U_Po0",
        "outputId": "37cbcd93-6512-4add-f0cb-b7628c547dc6"
      },
      "outputs": [
        {
          "name": "stdout",
          "output_type": "stream",
          "text": [
            "UNIQUENESS:  0.019955654101995565\n",
            "DISTINCTNESS:  0.020594965675057208\n"
          ]
        }
      ],
      "source": [
        "COUNT = HOTELS['ZD'].count()\n",
        "DISTINCT = (HOTELS['ZD'].nunique())\n",
        "UNIQUENESS = DISTINCT / ROWS\n",
        "DISTINCTNESS = DISTINCT / COUNT\n",
        "print(\"UNIQUENESS: \", UNIQUENESS)\n",
        "print(\"DISTINCTNESS: \", DISTINCTNESS)"
      ]
    },
    {
      "cell_type": "markdown",
      "metadata": {
        "id": "Du1bh_ww_X91"
      },
      "source": [
        "CAMERE"
      ]
    },
    {
      "cell_type": "code",
      "execution_count": 26,
      "metadata": {
        "colab": {
          "base_uri": "https://localhost:8080/"
        },
        "id": "4G9f6C1z_aKu",
        "outputId": "d3c1b49a-e120-47e8-ba0e-35434a0a3580"
      },
      "outputs": [
        {
          "name": "stdout",
          "output_type": "stream",
          "text": [
            "UNIQUENESS:  0.328159645232816\n",
            "DISTINCTNESS:  0.3288888888888889\n"
          ]
        }
      ],
      "source": [
        "COUNT = HOTELS['Camere'].count()\n",
        "DISTINCT = (HOTELS['Camere'].nunique())\n",
        "UNIQUENESS = DISTINCT / ROWS\n",
        "DISTINCTNESS = DISTINCT / COUNT\n",
        "print(\"UNIQUENESS: \", UNIQUENESS)\n",
        "print(\"DISTINCTNESS: \", DISTINCTNESS)"
      ]
    },
    {
      "cell_type": "markdown",
      "metadata": {
        "id": "vLyKLg54_gdm"
      },
      "source": [
        "Camere piano"
      ]
    },
    {
      "cell_type": "code",
      "execution_count": 28,
      "metadata": {
        "colab": {
          "base_uri": "https://localhost:8080/"
        },
        "id": "2kzf2TYq_kSY",
        "outputId": "2bee7cbf-b8f7-41ce-8fe1-f7f1273542c5"
      },
      "outputs": [
        {
          "name": "stdout",
          "output_type": "stream",
          "text": [
            "UNIQUENESS:  0.458980044345898\n",
            "DISTINCTNESS:  0.6\n"
          ]
        }
      ],
      "source": [
        "COUNT = HOTELS['Camere piano'].count()\n",
        "DISTINCT = (HOTELS['Camere piano'].nunique())\n",
        "UNIQUENESS = DISTINCT / ROWS\n",
        "DISTINCTNESS = DISTINCT / COUNT\n",
        "print(\"UNIQUENESS: \", UNIQUENESS)\n",
        "print(\"DISTINCTNESS: \", DISTINCTNESS)"
      ]
    },
    {
      "cell_type": "markdown",
      "metadata": {
        "id": "KBoE4UZS_sFk"
      },
      "source": [
        "Categoria"
      ]
    },
    {
      "cell_type": "code",
      "execution_count": 29,
      "metadata": {
        "colab": {
          "base_uri": "https://localhost:8080/"
        },
        "id": "b9FsRzVB_rtR",
        "outputId": "78914a90-7476-48af-b779-de3d45eb9318"
      },
      "outputs": [
        {
          "name": "stdout",
          "output_type": "stream",
          "text": [
            "UNIQUENESS:  0.017738359201773836\n",
            "DISTINCTNESS:  0.018018018018018018\n"
          ]
        }
      ],
      "source": [
        "COUNT = HOTELS['Categoria'].count()\n",
        "DISTINCT = (HOTELS['Categoria'].nunique())\n",
        "UNIQUENESS = DISTINCT / ROWS\n",
        "DISTINCTNESS = DISTINCT / COUNT\n",
        "print(\"UNIQUENESS: \", UNIQUENESS)\n",
        "print(\"DISTINCTNESS: \", DISTINCTNESS)"
      ]
    },
    {
      "cell_type": "markdown",
      "metadata": {
        "id": "-viV4O5e_yON"
      },
      "source": [
        "Insegna"
      ]
    },
    {
      "cell_type": "code",
      "execution_count": 30,
      "metadata": {
        "colab": {
          "base_uri": "https://localhost:8080/"
        },
        "id": "Vp8W0Wms_1lW",
        "outputId": "b60f8c1a-b4a4-48b4-864b-1550d1f07b24"
      },
      "outputs": [
        {
          "name": "stdout",
          "output_type": "stream",
          "text": [
            "UNIQUENESS:  0.9689578713968958\n",
            "DISTINCTNESS:  0.9909297052154195\n"
          ]
        }
      ],
      "source": [
        "COUNT = HOTELS['Insegna'].count()\n",
        "DISTINCT = (HOTELS['Insegna'].nunique())\n",
        "UNIQUENESS = DISTINCT / ROWS\n",
        "DISTINCTNESS = DISTINCT / COUNT\n",
        "print(\"UNIQUENESS: \", UNIQUENESS)\n",
        "print(\"DISTINCTNESS: \", DISTINCTNESS)"
      ]
    },
    {
      "cell_type": "markdown",
      "metadata": {
        "id": "XxMOXQwv_4d8"
      },
      "source": [
        "Piani totali"
      ]
    },
    {
      "cell_type": "code",
      "execution_count": 31,
      "metadata": {
        "colab": {
          "base_uri": "https://localhost:8080/"
        },
        "id": "3qvTRWa7_9Ze",
        "outputId": "8cc6683b-4c8f-4160-f44e-22f935d50a67"
      },
      "outputs": [
        {
          "name": "stdout",
          "output_type": "stream",
          "text": [
            "UNIQUENESS:  0.024390243902439025\n",
            "DISTINCTNESS:  0.058823529411764705\n"
          ]
        }
      ],
      "source": [
        "COUNT = HOTELS['Piani totali'].count()\n",
        "DISTINCT = (HOTELS['Piani totali'].nunique())\n",
        "UNIQUENESS = DISTINCT / ROWS\n",
        "DISTINCTNESS = DISTINCT / COUNT\n",
        "print(\"UNIQUENESS: \", UNIQUENESS)\n",
        "print(\"DISTINCTNESS: \", DISTINCTNESS)"
      ]
    },
    {
      "cell_type": "markdown",
      "metadata": {
        "id": "3bOxJRAeADcd"
      },
      "source": [
        "Piano piano"
      ]
    },
    {
      "cell_type": "code",
      "execution_count": 32,
      "metadata": {
        "colab": {
          "base_uri": "https://localhost:8080/"
        },
        "id": "tfYrnpCAAEdG",
        "outputId": "5624e0ce-a5d1-4c32-ec43-211f07f626a8"
      },
      "outputs": [
        {
          "name": "stdout",
          "output_type": "stream",
          "text": [
            "UNIQUENESS:  0.1286031042128603\n",
            "DISTINCTNESS:  0.2914572864321608\n"
          ]
        }
      ],
      "source": [
        "COUNT = HOTELS['Piano piano'].count()\n",
        "DISTINCT = (HOTELS['Piano piano'].nunique())\n",
        "UNIQUENESS = DISTINCT / ROWS\n",
        "DISTINCTNESS = DISTINCT / COUNT\n",
        "print(\"UNIQUENESS: \", UNIQUENESS)\n",
        "print(\"DISTINCTNESS: \", DISTINCTNESS)"
      ]
    },
    {
      "cell_type": "markdown",
      "metadata": {
        "id": "F_JWt4JyAM_q"
      },
      "source": [
        "Posti letto"
      ]
    },
    {
      "cell_type": "code",
      "execution_count": 33,
      "metadata": {
        "colab": {
          "base_uri": "https://localhost:8080/"
        },
        "id": "N8o4IbJaANr-",
        "outputId": "04bf7e93-171f-4d92-98e7-8a6bc6851ac0"
      },
      "outputs": [
        {
          "name": "stdout",
          "output_type": "stream",
          "text": [
            "UNIQUENESS:  0.43458980044345896\n",
            "DISTINCTNESS:  0.43555555555555553\n"
          ]
        }
      ],
      "source": [
        "COUNT = HOTELS['Posti letto'].count()\n",
        "DISTINCT = (HOTELS['Posti letto'].nunique())\n",
        "UNIQUENESS = DISTINCT / ROWS\n",
        "DISTINCTNESS = DISTINCT / COUNT\n",
        "print(\"UNIQUENESS: \", UNIQUENESS)\n",
        "print(\"DISTINCTNESS: \", DISTINCTNESS)"
      ]
    },
    {
      "cell_type": "markdown",
      "metadata": {
        "id": "YeltndRqAXEt"
      },
      "source": [
        "Posti letto per piano"
      ]
    },
    {
      "cell_type": "code",
      "execution_count": 34,
      "metadata": {
        "colab": {
          "base_uri": "https://localhost:8080/"
        },
        "id": "t98_2RDoAQVC",
        "outputId": "9fb7f048-b888-4616-b2fc-c2c2904d4bc7"
      },
      "outputs": [
        {
          "name": "stdout",
          "output_type": "stream",
          "text": [
            "UNIQUENESS:  0.48558758314855877\n",
            "DISTINCTNESS:  0.6347826086956522\n"
          ]
        }
      ],
      "source": [
        "COUNT = HOTELS['Posti letto per piano'].count()\n",
        "DISTINCT = (HOTELS['Posti letto per piano'].nunique())\n",
        "UNIQUENESS = DISTINCT / ROWS\n",
        "DISTINCTNESS = DISTINCT / COUNT\n",
        "print(\"UNIQUENESS: \", UNIQUENESS)\n",
        "print(\"DISTINCTNESS: \", DISTINCTNESS)"
      ]
    },
    {
      "cell_type": "markdown",
      "metadata": {
        "id": "lKmGM7a_AeGc"
      },
      "source": [
        "Tipo attività struture extra"
      ]
    },
    {
      "cell_type": "code",
      "execution_count": 35,
      "metadata": {
        "colab": {
          "base_uri": "https://localhost:8080/"
        },
        "id": "p5KaeufRARG1",
        "outputId": "a6dde30b-f1a4-4f62-8a53-107cc4aa9fa7"
      },
      "outputs": [
        {
          "name": "stdout",
          "output_type": "stream",
          "text": [
            "UNIQUENESS:  0.0066518847006651885\n",
            "DISTINCTNESS:  0.006802721088435374\n"
          ]
        }
      ],
      "source": [
        "COUNT = HOTELS['Tipo attività struture extra'].count()\n",
        "DISTINCT = (HOTELS['Tipo attività struture extra'].nunique())\n",
        "UNIQUENESS = DISTINCT / ROWS\n",
        "DISTINCTNESS = DISTINCT / COUNT\n",
        "print(\"UNIQUENESS: \", UNIQUENESS)\n",
        "print(\"DISTINCTNESS: \", DISTINCTNESS)"
      ]
    },
    {
      "cell_type": "markdown",
      "metadata": {
        "id": "7mfL5tvM_c47"
      },
      "source": [
        "**Value distributions**\n",
        "\n",
        "Value distributions summarize the distribution of values within a column (*e.g.,* extremes and Constancy). A common representation for value distributions are Histograms.\n",
        "\n",
        "*Constancy* = frequency of the most frequent value divided by the total number of values. It might reveals the presence of standard values."
      ]
    },
    {
      "cell_type": "code",
      "execution_count": 36,
      "metadata": {
        "colab": {
          "base_uri": "https://localhost:8080/"
        },
        "id": "WaMOvBQx_G1l",
        "outputId": "fbe45a1b-90a0-4914-d5e9-cb6ae5801017"
      },
      "outputs": [
        {
          "name": "stdout",
          "output_type": "stream",
          "text": [
            "MIN: 7.0\n",
            "MAX: 439.0\n",
            "MODE: 10.0\n"
          ]
        }
      ],
      "source": [
        "#extremes (attribute \"Camere\")\n",
        "print ('MIN:', HOTELS['Camere'].min())\n",
        "print ('MAX:', HOTELS['Camere'].max())\n",
        "print ('MODE:', HOTELS['Camere'].mode()[0])"
      ]
    },
    {
      "cell_type": "code",
      "execution_count": 37,
      "metadata": {
        "colab": {
          "base_uri": "https://localhost:8080/"
        },
        "id": "xvZc1SniBX_e",
        "outputId": "bbdc3e81-0abd-4fe4-a0c1-22cf84bc1f0c"
      },
      "outputs": [
        {
          "name": "stdout",
          "output_type": "stream",
          "text": [
            "MIN: 7.0\n",
            "MAX: 922.0\n",
            "MODE: 25.0\n"
          ]
        }
      ],
      "source": [
        "#extremes (attribute \"Posti letto\")\n",
        "print ('MIN:', HOTELS['Posti letto'].min())\n",
        "print ('MAX:', HOTELS['Posti letto'].max())\n",
        "print ('MODE:', HOTELS['Posti letto'].mode()[0])"
      ]
    },
    {
      "cell_type": "code",
      "execution_count": 38,
      "metadata": {
        "colab": {
          "base_uri": "https://localhost:8080/"
        },
        "id": "ZlQ_hVWt_Gy8",
        "outputId": "68f637de-8538-4a92-ace4-6c22c08d6934"
      },
      "outputs": [
        {
          "name": "stdout",
          "output_type": "stream",
          "text": [
            "MIN:  Civico          1.0\n",
            "Codice via      1.0\n",
            "ZD              1.0\n",
            "Camere          7.0\n",
            "Piani totali    1.0\n",
            "Posti letto     7.0\n",
            "dtype: float64\n",
            "\n",
            "\n",
            "\n",
            "MAX:  Civico          41609.0\n",
            "Codice via       7505.0\n",
            "ZD                  9.0\n",
            "Camere            439.0\n",
            "Piani totali       17.0\n",
            "Posti letto       922.0\n",
            "dtype: float64\n"
          ]
        }
      ],
      "source": [
        "#extremes (all attributes)\n",
        "print ('MIN: ', HOTELS[NUM].min())\n",
        "print(\"\\n\\n\")\n",
        "print ('MAX: ', HOTELS[NUM].max())"
      ]
    },
    {
      "cell_type": "code",
      "execution_count": 39,
      "metadata": {
        "colab": {
          "base_uri": "https://localhost:8080/"
        },
        "id": "Zjd7N0Yb_Gwj",
        "outputId": "9e1c8d9b-3045-4fca-cceb-5a4ffd8eee38"
      },
      "outputs": [
        {
          "name": "stdout",
          "output_type": "stream",
          "text": [
            "Average: 60.00222222222222\n",
            "Standard Deviation: 70.44113304348102\n"
          ]
        }
      ],
      "source": [
        "#other information: Mean and Standard deviation on Camere\n",
        "print('Average:', HOTELS['Camere'].mean())\n",
        "print('Standard Deviation:', HOTELS['Camere'].std())"
      ]
    },
    {
      "cell_type": "code",
      "execution_count": 40,
      "metadata": {
        "colab": {
          "base_uri": "https://localhost:8080/"
        },
        "id": "BbQtpq5lBu9E",
        "outputId": "2624f27d-715f-4b7c-a37c-4988ec34a4ad"
      },
      "outputs": [
        {
          "name": "stdout",
          "output_type": "stream",
          "text": [
            "Average: 114.1288888888889\n",
            "Standard Deviation: 141.0135481687375\n"
          ]
        }
      ],
      "source": [
        "print('Average:', HOTELS['Posti letto'].mean())\n",
        "print('Standard Deviation:', HOTELS['Posti letto'].std())"
      ]
    },
    {
      "cell_type": "code",
      "execution_count": 41,
      "metadata": {
        "colab": {
          "base_uri": "https://localhost:8080/"
        },
        "id": "Ek7A38J3_Gts",
        "outputId": "23ef423a-c4f8-4bcf-e8a8-147b8f0515b2"
      },
      "outputs": [
        {
          "data": {
            "text/plain": [
              "24"
            ]
          },
          "execution_count": 41,
          "metadata": {},
          "output_type": "execute_result"
        }
      ],
      "source": [
        "#find max of value counts (attribute \"Camere\")\n",
        "MAX_COUNTS = max(HOTELS['Camere'].value_counts())\n",
        "MAX_COUNTS"
      ]
    },
    {
      "cell_type": "markdown",
      "metadata": {
        "id": "8XT7xynN_r-5"
      },
      "source": [
        "CONSTANCY EVALUATION:"
      ]
    },
    {
      "cell_type": "code",
      "execution_count": 42,
      "metadata": {
        "colab": {
          "base_uri": "https://localhost:8080/"
        },
        "id": "tRefnsW1_Gps",
        "outputId": "2f03c829-f67c-48be-c3ee-210bfbc4a11a"
      },
      "outputs": [
        {
          "name": "stdout",
          "output_type": "stream",
          "text": [
            "CONSTANCY:  0.05333333333333334\n"
          ]
        }
      ],
      "source": [
        "#for attribute \"Camere\"\n",
        "COUNT = HOTELS['Camere'].count()\n",
        "CONSTANCY = MAX_COUNTS / COUNT\n",
        "print(\"CONSTANCY: \", CONSTANCY)"
      ]
    },
    {
      "cell_type": "code",
      "execution_count": 43,
      "metadata": {
        "colab": {
          "base_uri": "https://localhost:8080/"
        },
        "id": "E9_jOyhmE9aS",
        "outputId": "820c3eef-979e-4bbb-f4a0-7ec5a182e1c6"
      },
      "outputs": [
        {
          "name": "stdout",
          "output_type": "stream",
          "text": [
            "CONSTANCY:  0.07777777777777778\n"
          ]
        }
      ],
      "source": [
        "#for attribute \"Posti letto\"\n",
        "COUNT = HOTELS['Posti letto'].count()\n",
        "MAX_COUNTS = max(HOTELS['Posti letto'].value_counts())\n",
        "CONSTANCY = MAX_COUNTS / COUNT\n",
        "print(\"CONSTANCY: \", CONSTANCY)"
      ]
    },
    {
      "cell_type": "markdown",
      "metadata": {
        "id": "AtZ1JbA3_wjH"
      },
      "source": [
        "**Histograms** are often used to fit distributions to the data. Analysts can check if the values of some columns are (approximately) normally distributed, and the number of outliers may be returned.\n"
      ]
    },
    {
      "cell_type": "code",
      "execution_count": 44,
      "metadata": {
        "colab": {
          "base_uri": "https://localhost:8080/",
          "height": 470
        },
        "collapsed": true,
        "id": "21XOKYJ5_91J",
        "outputId": "aa85f493-68c9-40f4-a66c-681e1bac698b"
      },
      "outputs": [
        {
          "data": {
            "text/plain": [
              "<Axes: >"
            ]
          },
          "execution_count": 44,
          "metadata": {},
          "output_type": "execute_result"
        },
        {
          "data": {
            "image/png": "[encoded data removed]",
            "text/plain": [
              "<Figure size 640x480 with 1 Axes>"
            ]
          },
          "metadata": {},
          "output_type": "display_data"
        }
      ],
      "source": [
        "#plot the distribution of the attribute \"ibu\" with hist function\n",
        "HOTELS['Camere'].hist()"
      ]
    },
    {
      "cell_type": "code",
      "execution_count": 45,
      "metadata": {
        "colab": {
          "base_uri": "https://localhost:8080/",
          "height": 786,
          "referenced_widgets": [
            "3d429f79cdf5498f8732f45cd418273b",
            "e07f23a12fcd478abb2f9a1582eb9ed9",
            "7490fd131ec54cc7972c80185de69bff",
            "7c9e1fffcdee4e928c44be0fa2f83ba7",
            "d0c1e35f30af4035a9bc002e054d9c6f"
          ]
        },
        "id": "qWOTLXCO_9ut",
        "outputId": "02cbd80c-5745-463b-dda6-4d1561f8cced"
      },
      "outputs": [
        {
          "data": {
            "application/vnd.jupyter.widget-view+json": {
              "model_id": "fb69693c0eb64a1794753ba14d5e27ae",
              "version_major": 2,
              "version_minor": 0
            },
            "text/plain": [
              "Button(description='Toggle Pandas/Lux', layout=Layout(top='5px', width='140px'), style=ButtonStyle())"
            ]
          },
          "metadata": {},
          "output_type": "display_data"
        },
        {
          "data": {
            "application/vnd.jupyter.widget-view+json": {
              "model_id": "73db8b9b04274b03bdcb612cddbe5ce9",
              "version_major": 2,
              "version_minor": 0
            },
            "text/plain": [
              "Output()"
            ]
          },
          "metadata": {},
          "output_type": "display_data"
        }
      ],
      "source": [
        "#describe function get different properties for all the numerical attributes of the table\n",
        "HOTELS.describe()"
      ]
    },
    {
      "cell_type": "code",
      "execution_count": 47,
      "metadata": {
        "colab": {
          "base_uri": "https://localhost:8080/",
          "height": 411
        },
        "id": "LZsCxq2vDRQ1",
        "outputId": "98a5c73c-429f-42c9-e4a3-e2f3c168de8e"
      },
      "outputs": [
        {
          "data": {
            "image/png": "[encoded data removed]",
            "text/plain": [
              "<Figure size 800x400 with 1 Axes>"
            ]
          },
          "metadata": {},
          "output_type": "display_data"
        }
      ],
      "source": [
        "from matplotlib import pyplot as plt\n",
        "HOTELS['Camere'].plot(kind='line', figsize=(8, 4), title='Camere')\n",
        "plt.gca().spines[['top', 'right']].set_visible(False)"
      ]
    },
    {
      "cell_type": "code",
      "execution_count": null,
      "metadata": {
        "colab": {
          "base_uri": "https://localhost:8080/",
          "height": 411
        },
        "id": "TL5gucdXDGus",
        "outputId": "8803cd65-6d68-444d-b312-59bbd3eb1fac"
      },
      "outputs": [],
      "source": [
        "\n"
      ]
    },
    {
      "cell_type": "code",
      "execution_count": 48,
      "metadata": {
        "colab": {
          "base_uri": "https://localhost:8080/",
          "height": 476
        },
        "id": "lGZ9zcz7C_gY",
        "outputId": "68d7894d-d946-4fa5-b5f3-f40dfd402a55"
      },
      "outputs": [
        {
          "data": {
            "image/png": "[encoded data removed]",
            "text/plain": [
              "<Figure size 640x480 with 1 Axes>"
            ]
          },
          "metadata": {},
          "output_type": "display_data"
        }
      ],
      "source": [
        "from matplotlib import pyplot as plt\n",
        "HOTELS['Camere'].plot(kind='hist', bins=20, title='Camere')\n",
        "plt.gca().spines[['top', 'right',]].set_visible(False)"
      ]
    },
    {
      "cell_type": "code",
      "execution_count": 49,
      "metadata": {
        "colab": {
          "base_uri": "https://localhost:8080/",
          "height": 511
        },
        "id": "fVeWxiCl_9oD",
        "outputId": "7a0514b7-4eb5-4ce5-b92a-2484a4612578"
      },
      "outputs": [
        {
          "data": {
            "text/plain": [
              "array([[<Axes: title={'center': 'Civico'}>,\n",
              "        <Axes: title={'center': 'Camere'}>]], dtype=object)"
            ]
          },
          "execution_count": 49,
          "metadata": {},
          "output_type": "execute_result"
        },
        {
          "data": {
            "image/png": "[encoded data removed]",
            "text/plain": [
              "<Figure size 640x480 with 2 Axes>"
            ]
          },
          "metadata": {},
          "output_type": "display_data"
        }
      ],
      "source": [
        "#we can also display multiple histograms\n",
        "HOTELS[['Civico','Camere']].hist()"
      ]
    },
    {
      "cell_type": "code",
      "execution_count": 50,
      "metadata": {
        "colab": {
          "base_uri": "https://localhost:8080/",
          "height": 722,
          "referenced_widgets": [
            "a8b986941b364adfab02759d8b04f04a",
            "71b74e88855d4726954ce0b4a4c396f4",
            "e4b95a7c49ea43cf8799f047dc14e449",
            "0da33d8a26f141a5bd4046d727290fab",
            "109a670c84184587bbe266373d732334"
          ]
        },
        "id": "YgHTh3M_AIeC",
        "outputId": "843b0b2e-5f0c-4261-d6f7-85d50d48c2f6"
      },
      "outputs": [
        {
          "data": {
            "application/vnd.jupyter.widget-view+json": {
              "model_id": "ac431cd1741147ffbf927cd1e72ce1b6",
              "version_major": 2,
              "version_minor": 0
            },
            "text/plain": [
              "Button(description='Toggle Pandas/Lux', layout=Layout(top='5px', width='140px'), style=ButtonStyle())"
            ]
          },
          "metadata": {},
          "output_type": "display_data"
        },
        {
          "data": {
            "application/vnd.jupyter.widget-view+json": {
              "model_id": "0212c638e08a4c15b37129d5db8e81cb",
              "version_major": 2,
              "version_minor": 0
            },
            "text/plain": [
              "Output()"
            ]
          },
          "metadata": {},
          "output_type": "display_data"
        }
      ],
      "source": [
        "#correlation evaluation base on pearson correlation coefficient\n",
        "HOTELS[NUM].corr(method='pearson')"
      ]
    }
  ],
  "metadata": {
    "colab": {
      "include_colab_link": true,
      "provenance": []
    },
    "kernelspec": {
      "display_name": "Python 3",
      "name": "python3"
    },
    "language_info": {
      "codemirror_mode": {
        "name": "ipython",
        "version": 3
      },
      "file_extension": ".py",
      "mimetype": "text/x-python",
      "name": "python",
      "nbconvert_exporter": "python",
      "pygments_lexer": "ipython3",
      "version": "3.11.9"
    },
    "widgets": {
      "application/vnd.jupyter.widget-state+json": {
        "0da33d8a26f141a5bd4046d727290fab": {
          "model_module": "@jupyter-widgets/output",
          "model_module_version": "1.0.0",
          "model_name": "OutputModel",
          "state": {
            "_dom_classes": [],
            "_model_module": "@jupyter-widgets/output",
            "_model_module_version": "1.0.0",
            "_model_name": "OutputModel",
            "_view_count": null,
            "_view_module": "@jupyter-widgets/output",
            "_view_module_version": "1.0.0",
            "_view_name": "OutputView",
            "layout": "IPY_MODEL_109a670c84184587bbe266373d732334",
            "msg_id": "",
            "outputs": [
              {
                "data": {
                  "application/vnd.google.colaboratory.intrinsic+json": {
                    "summary": "{\n  \"name\": \"HOTELS[NUM]\",\n  \"rows\": 6,\n  \"fields\": [\n    {\n      \"column\": \"Civico\",\n      \"properties\": {\n        \"dtype\": \"number\",\n        \"std\": 0.41593242904600924,\n        \"min\": -0.08043826834500009,\n        \"max\": 1.0,\n        \"num_unique_values\": 6,\n        \"samples\": [\n          1.0,\n          0.05257869572862938,\n          -0.0321373626930477\n        ],\n        \"semantic_type\": \"\",\n        \"description\": \"\"\n      }\n    },\n    {\n      \"column\": \"Codice via\",\n      \"properties\": {\n        \"dtype\": \"number\",\n        \"std\": 0.47135606862141916,\n        \"min\": -0.1595596878898904,\n        \"max\": 1.0,\n        \"num_unique_values\": 6,\n        \"samples\": [\n          0.05257869572862938,\n          1.0,\n          -0.07893569435317853\n        ],\n        \"semantic_type\": \"\",\n        \"description\": \"\"\n      }\n    },\n    {\n      \"column\": \"ZD\",\n      \"properties\": {\n        \"dtype\": \"number\",\n        \"std\": 0.4374302613962024,\n        \"min\": -0.1472364777907402,\n        \"max\": 1.0,\n        \"num_unique_values\": 6,\n        \"samples\": [\n          0.037794538030183775,\n          0.6082736568208731,\n          0.07650650040033057\n        ],\n        \"semantic_type\": \"\",\n        \"description\": \"\"\n      }\n    },\n    {\n      \"column\": \"Camere\",\n      \"properties\": {\n        \"dtype\": \"number\",\n        \"std\": 0.5047720932024704,\n        \"min\": -0.08057833733063303,\n        \"max\": 1.0,\n        \"num_unique_values\": 6,\n        \"samples\": [\n          -0.0355780659965499,\n          -0.08057833733063303,\n          0.9812146676017733\n        ],\n        \"semantic_type\": \"\",\n        \"description\": \"\"\n      }\n    },\n    {\n      \"column\": \"Piani totali\",\n      \"properties\": {\n        \"dtype\": \"number\",\n        \"std\": 0.49473971994974636,\n        \"min\": -0.1595596878898904,\n        \"max\": 1.0,\n        \"num_unique_values\": 6,\n        \"samples\": [\n          -0.08043826834500009,\n          -0.1595596878898904,\n          0.5888731234223256\n        ],\n        \"semantic_type\": \"\",\n        \"description\": \"\"\n      }\n    },\n    {\n      \"column\": \"Posti letto\",\n      \"properties\": {\n        \"dtype\": \"number\",\n        \"std\": 0.5002384810473803,\n        \"min\": -0.07893569435317853,\n        \"max\": 1.0,\n        \"num_unique_values\": 6,\n        \"samples\": [\n          -0.0321373626930477,\n          -0.07893569435317853,\n          1.0\n        ],\n        \"semantic_type\": \"\",\n        \"description\": \"\"\n      }\n    }\n  ]\n}",
                    "type": "dataframe"
                  },
                  "text/html": "\n  <div id=\"df-d4afec26-d676-49d3-8a0a-c6ae861b5304\" class=\"colab-df-container\">\n    <div>\n<style scoped>\n    .dataframe tbody tr th:only-of-type {\n        vertical-align: middle;\n    }\n\n    .dataframe tbody tr th {\n        vertical-align: top;\n    }\n\n    .dataframe thead th {\n        text-align: right;\n    }\n</style>\n<table border=\"1\" class=\"dataframe\">\n  <thead>\n    <tr style=\"text-align: center;\">\n      <th></th>\n      <th>Civico</th>\n      <th>Codice via</th>\n      <th>ZD</th>\n      <th>Camere</th>\n      <th>Piani totali</th>\n      <th>Posti letto</th>\n    </tr>\n  </thead>\n  <tbody>\n    <tr>\n      <th>Civico</th>\n      <td>1.000000</td>\n      <td>0.052579</td>\n      <td>0.037795</td>\n      <td>-0.035578</td>\n      <td>-0.080438</td>\n      <td>-0.032137</td>\n    </tr>\n    <tr>\n      <th>Codice via</th>\n      <td>0.052579</td>\n      <td>1.000000</td>\n      <td>0.608274</td>\n      <td>-0.080578</td>\n      <td>-0.159560</td>\n      <td>-0.078936</td>\n    </tr>\n    <tr>\n      <th>ZD</th>\n      <td>0.037795</td>\n      <td>0.608274</td>\n      <td>1.000000</td>\n      <td>0.060257</td>\n      <td>-0.147236</td>\n      <td>0.076507</td>\n    </tr>\n    <tr>\n      <th>Camere</th>\n      <td>-0.035578</td>\n      <td>-0.080578</td>\n      <td>0.060257</td>\n      <td>1.000000</td>\n      <td>0.607333</td>\n      <td>0.981215</td>\n    </tr>\n    <tr>\n      <th>Piani totali</th>\n      <td>-0.080438</td>\n      <td>-0.159560</td>\n      <td>-0.147236</td>\n      <td>0.607333</td>\n      <td>1.000000</td>\n      <td>0.588873</td>\n    </tr>\n    <tr>\n      <th>Posti letto</th>\n      <td>-0.032137</td>\n      <td>-0.078936</td>\n      <td>0.076507</td>\n      <td>0.981215</td>\n      <td>0.588873</td>\n      <td>1.000000</td>\n    </tr>\n  </tbody>\n</table>\n</div>\n    <div class=\"colab-df-buttons\">\n\n  <div class=\"colab-df-container\">\n    <button class=\"colab-df-convert\" onclick=\"convertToInteractive('df-d4afec26-d676-49d3-8a0a-c6ae861b5304')\"\n            title=\"Convert this dataframe to an interactive table.\"\n            style=\"display:none;\">\n\n  <svg xmlns=\"http://www.w3.org/2000/svg\" height=\"24px\" viewBox=\"0 -960 960 960\">\n    <path d=\"M120-120v-720h720v720H120Zm60-500h600v-160H180v160Zm220 220h160v-160H400v160Zm0 220h160v-160H400v160ZM180-400h160v-160H180v160Zm440 0h160v-160H620v160ZM180-180h160v-160H180v160Zm440 0h160v-160H620v160Z\"/>\n  </svg>\n    </button>\n\n  <style>\n    .colab-df-container {\n      display:flex;\n      gap: 12px;\n    }\n\n    .colab-df-convert {\n      background-color: #E8F0FE;\n      border: none;\n      border-radius: 50%;\n      cursor: pointer;\n      display: none;\n      fill: #1967D2;\n      height: 32px;\n      padding: 0 0 0 0;\n      width: 32px;\n    }\n\n    .colab-df-convert:hover {\n      background-color: #E2EBFA;\n      box-shadow: 0px 1px 2px rgba(60, 64, 67, 0.3), 0px 1px 3px 1px rgba(60, 64, 67, 0.15);\n      fill: #174EA6;\n    }\n\n    .colab-df-buttons div {\n      margin-bottom: 4px;\n    }\n\n    [theme=dark] .colab-df-convert {\n      background-color: #3B4455;\n      fill: #D2E3FC;\n    }\n\n    [theme=dark] .colab-df-convert:hover {\n      background-color: #434B5C;\n      box-shadow: 0px 1px 3px 1px rgba(0, 0, 0, 0.15);\n      filter: drop-shadow(0px 1px 2px rgba(0, 0, 0, 0.3));\n      fill: #FFFFFF;\n    }\n  </style>\n\n    <script>\n      const buttonEl =\n        document.querySelector('#df-d4afec26-d676-49d3-8a0a-c6ae861b5304 button.colab-df-convert');\n      buttonEl.style.display =\n        google.colab.kernel.accessAllowed ? 'block' : 'none';\n\n      async function convertToInteractive(key) {\n        const element = document.querySelector('#df-d4afec26-d676-49d3-8a0a-c6ae861b5304');\n        const dataTable =\n          await google.colab.kernel.invokeFunction('convertToInteractive',\n                                                    [key], {});\n        if (!dataTable) return;\n\n        const docLinkHtml = 'Like what you see? Visit the ' +\n          '<a target=\"_blank\" href=https://colab.research.google.com/notebooks/data_table.ipynb>data table notebook</a>'\n          + ' to learn more about interactive tables.';\n        element.innerHTML = '';\n        dataTable['output_type'] = 'display_data';\n        await google.colab.output.renderOutput(dataTable, element);\n        const docLink = document.createElement('div');\n        docLink.innerHTML = docLinkHtml;\n        element.appendChild(docLink);\n      }\n    </script>\n  </div>\n\n\n<div id=\"df-3870014e-36fc-4476-a146-ad3c2e5bc383\">\n  <button class=\"colab-df-quickchart\" onclick=\"quickchart('df-3870014e-36fc-4476-a146-ad3c2e5bc383')\"\n            title=\"Suggest charts\"\n            style=\"display:none;\">\n\n<svg xmlns=\"http://www.w3.org/2000/svg\" height=\"24px\"viewBox=\"0 0 24 24\"\n     width=\"24px\">\n    <g>\n        <path d=\"M19 3H5c-1.1 0-2 .9-2 2v14c0 1.1.9 2 2 2h14c1.1 0 2-.9 2-2V5c0-1.1-.9-2-2-2zM9 17H7v-7h2v7zm4 0h-2V7h2v10zm4 0h-2v-4h2v4z\"/>\n    </g>\n</svg>\n  </button>\n\n<style>\n  .colab-df-quickchart {\n      --bg-color: #E8F0FE;\n      --fill-color: #1967D2;\n      --hover-bg-color: #E2EBFA;\n      --hover-fill-color: #174EA6;\n      --disabled-fill-color: #AAA;\n      --disabled-bg-color: #DDD;\n  }\n\n  [theme=dark] .colab-df-quickchart {\n      --bg-color: #3B4455;\n      --fill-color: #D2E3FC;\n      --hover-bg-color: #434B5C;\n      --hover-fill-color: #FFFFFF;\n      --disabled-bg-color: #3B4455;\n      --disabled-fill-color: #666;\n  }\n\n  .colab-df-quickchart {\n    background-color: var(--bg-color);\n    border: none;\n    border-radius: 50%;\n    cursor: pointer;\n    display: none;\n    fill: var(--fill-color);\n    height: 32px;\n    padding: 0;\n    width: 32px;\n  }\n\n  .colab-df-quickchart:hover {\n    background-color: var(--hover-bg-color);\n    box-shadow: 0 1px 2px rgba(60, 64, 67, 0.3), 0 1px 3px 1px rgba(60, 64, 67, 0.15);\n    fill: var(--button-hover-fill-color);\n  }\n\n  .colab-df-quickchart-complete:disabled,\n  .colab-df-quickchart-complete:disabled:hover {\n    background-color: var(--disabled-bg-color);\n    fill: var(--disabled-fill-color);\n    box-shadow: none;\n  }\n\n  .colab-df-spinner {\n    border: 2px solid var(--fill-color);\n    border-color: transparent;\n    border-bottom-color: var(--fill-color);\n    animation:\n      spin 1s steps(1) infinite;\n  }\n\n  @keyframes spin {\n    0% {\n      border-color: transparent;\n      border-bottom-color: var(--fill-color);\n      border-left-color: var(--fill-color);\n    }\n    20% {\n      border-color: transparent;\n      border-left-color: var(--fill-color);\n      border-top-color: var(--fill-color);\n    }\n    30% {\n      border-color: transparent;\n      border-left-color: var(--fill-color);\n      border-top-color: var(--fill-color);\n      border-right-color: var(--fill-color);\n    }\n    40% {\n      border-color: transparent;\n      border-right-color: var(--fill-color);\n      border-top-color: var(--fill-color);\n    }\n    60% {\n      border-color: transparent;\n      border-right-color: var(--fill-color);\n    }\n    80% {\n      border-color: transparent;\n      border-right-color: var(--fill-color);\n      border-bottom-color: var(--fill-color);\n    }\n    90% {\n      border-color: transparent;\n      border-bottom-color: var(--fill-color);\n    }\n  }\n</style>\n\n  <script>\n    async function quickchart(key) {\n      const quickchartButtonEl =\n        document.querySelector('#' + key + ' button');\n      quickchartButtonEl.disabled = true;  // To prevent multiple clicks.\n      quickchartButtonEl.classList.add('colab-df-spinner');\n      try {\n        const charts = await google.colab.kernel.invokeFunction(\n            'suggestCharts', [key], {});\n      } catch (error) {\n        console.error('Error during call to suggestCharts:', error);\n      }\n      quickchartButtonEl.classList.remove('colab-df-spinner');\n      quickchartButtonEl.classList.add('colab-df-quickchart-complete');\n    }\n    (() => {\n      let quickchartButtonEl =\n        document.querySelector('#df-3870014e-36fc-4476-a146-ad3c2e5bc383 button');\n      quickchartButtonEl.style.display =\n        google.colab.kernel.accessAllowed ? 'block' : 'none';\n    })();\n  </script>\n</div>\n\n    </div>\n  </div>\n",
                  "text/plain": "               Civico   Codice via     ZD      Camere   Piani totali  \\\nCivico        1.000000   0.052579   0.037795 -0.035578   -0.080438     \nCodice via    0.052579   1.000000   0.608274 -0.080578   -0.159560     \nZD            0.037795   0.608274   1.000000  0.060257   -0.147236     \nCamere       -0.035578  -0.080578   0.060257  1.000000    0.607333     \nPiani totali -0.080438  -0.159560  -0.147236  0.607333    1.000000     \nPosti letto  -0.032137  -0.078936   0.076507  0.981215    0.588873     \n\n              Posti letto  \nCivico        -0.032137    \nCodice via    -0.078936    \nZD             0.076507    \nCamere         0.981215    \nPiani totali   0.588873    \nPosti letto    1.000000    "
                },
                "metadata": {},
                "output_type": "display_data"
              }
            ]
          }
        },
        "109a670c84184587bbe266373d732334": {
          "model_module": "@jupyter-widgets/base",
          "model_module_version": "1.2.0",
          "model_name": "LayoutModel",
          "state": {
            "_model_module": "@jupyter-widgets/base",
            "_model_module_version": "1.2.0",
            "_model_name": "LayoutModel",
            "_view_count": null,
            "_view_module": "@jupyter-widgets/base",
            "_view_module_version": "1.2.0",
            "_view_name": "LayoutView",
            "align_content": null,
            "align_items": null,
            "align_self": null,
            "border": null,
            "bottom": null,
            "display": null,
            "flex": null,
            "flex_flow": null,
            "grid_area": null,
            "grid_auto_columns": null,
            "grid_auto_flow": null,
            "grid_auto_rows": null,
            "grid_column": null,
            "grid_gap": null,
            "grid_row": null,
            "grid_template_areas": null,
            "grid_template_columns": null,
            "grid_template_rows": null,
            "height": null,
            "justify_content": null,
            "justify_items": null,
            "left": null,
            "margin": null,
            "max_height": null,
            "max_width": null,
            "min_height": null,
            "min_width": null,
            "object_fit": null,
            "object_position": null,
            "order": null,
            "overflow": null,
            "overflow_x": null,
            "overflow_y": null,
            "padding": null,
            "right": null,
            "top": null,
            "visibility": null,
            "width": null
          }
        },
        "3d429f79cdf5498f8732f45cd418273b": {
          "model_module": "@jupyter-widgets/controls",
          "model_module_version": "1.5.0",
          "model_name": "ButtonModel",
          "state": {
            "_dom_classes": [],
            "_model_module": "@jupyter-widgets/controls",
            "_model_module_version": "1.5.0",
            "_model_name": "ButtonModel",
            "_view_count": null,
            "_view_module": "@jupyter-widgets/controls",
            "_view_module_version": "1.5.0",
            "_view_name": "ButtonView",
            "button_style": "",
            "description": "Toggle Pandas/Lux",
            "disabled": false,
            "icon": "",
            "layout": "IPY_MODEL_e07f23a12fcd478abb2f9a1582eb9ed9",
            "style": "IPY_MODEL_7490fd131ec54cc7972c80185de69bff",
            "tooltip": ""
          }
        },
        "432490bdb23e472290582796ec720cb3": {
          "model_module": "@jupyter-widgets/output",
          "model_module_version": "1.0.0",
          "model_name": "OutputModel",
          "state": {
            "_dom_classes": [],
            "_model_module": "@jupyter-widgets/output",
            "_model_module_version": "1.0.0",
            "_model_name": "OutputModel",
            "_view_count": null,
            "_view_module": "@jupyter-widgets/output",
            "_view_module_version": "1.0.0",
            "_view_name": "OutputView",
            "layout": "IPY_MODEL_512cddbf11bc47d6b44d256b0703c2c8",
            "msg_id": "",
            "outputs": [
              {
                "name": "stdout",
                "output_type": "stream",
                "text": [
                  "Ubicazione\n",
                  "VLE DEI MILLE N. 48 (z.d. 3)                                                                                                   3\n",
                  "VIA RICORDI GIOVANNI N. 10 (z.d. 3)                                                                                            2\n",
                  "VIA LAZZARETTO N. 17 (z.d. 2)                                                                                                  2\n",
                  "VIA SENIGALLIA N. 6 (z.d. 9)                                                                                                   2\n",
                  "VLE TUNISIA N. 6 (z.d. 3)                                                                                                      2\n",
                  "VIA AOSTA N. 2 (z.d. 8)                                                                                                        2\n",
                  "CSO COLOMBO CRISTOFORO N. 15 (z.d. 6)                                                                                          2\n",
                  "PZA DELLA REPUBBLICA N. 17 (z.d. 2)                                                                                            2\n",
                  "VIA ORSEOLO PIETRO N. 1 (z.d. 6)                                                                                               2\n",
                  "VIA PLINIO CAIO SECONDO N. 22 (z.d. 3)                                                                                         2\n",
                  "VIA FRA' GALGARIO N. 4 (z.d. 7)                                                                                                2\n",
                  "VIA PIRELLI GIOVANNI BATTISTA N. 5 (z.d. 2)                                                                                    2\n",
                  "ALZ NAVIGLIO GRANDE N. 8 (z.d. 6)                                                                                              1\n",
                  "VIA RENZO E LUCIA N. 14 (z.d. 5)                                                                                               1\n",
                  "VIA RICORDI GIOVANNI N. 20 (z.d. 3)                                                                                            1\n",
                  "VIA RICORDI GIOVANNI N. 14 (z.d. 3)                                                                                            1\n",
                  "VIA RANCATI ILARIONE N. 3 (z.d. 2)                                                                                             1\n",
                  "VIA RIPAMONTI GIUSEPPE N. 102 (z.d. 5)                                                                                         1\n",
                  "VIA RIPAMONTI GIUSEPPE N. 134 (z.d. 5)                                                                                         1\n",
                  "VIA REINA FRANCESCO N. 18 (z.d. 4)                                                                                             1\n",
                  "VIA PRATI GIOVANNI N. 6 (z.d. 8)                                                                                               1\n",
                  "VIA QUARNERO N. 4 (z.d. 7)                                                                                                     1\n",
                  "VIA PRINCIPE EUGENIO N. 45 (z.d. 8)                                                                                            1\n",
                  "VIA ROVELLO N. 10 (z.d. 1)                                                                                                     1\n",
                  "VIA PORRO EDOARDO N. 8 (z.d. 9)                                                                                                1\n",
                  "VIA PORPORA NICOLA ANTONIO N. 87 (z.d. 3)                                                                                      1\n",
                  "VIA PORPORA NICOLA ANTONIO N. 56 (z.d. 3)                                                                                      1\n",
                  "VIA PORPORA NICOLA ANTONIO N. 52 (z.d. 3)                                                                                      1\n",
                  "VIA PORPORA NICOLA ANTONIO N. 18 (z.d. 3)                                                                                      1\n",
                  "VIA PORPORA NICOLA ANTONIO N. 170 (z.d. 3)                                                                                     1\n",
                  "VIA PORPORA NICOLA ANTONIO N. 16 (z.d. 3)                                                                                      1\n",
                  "VIA ROSSI PELLEGRINO N. 59 (z.d. 9)                                                                                            1\n",
                  "VIA RUBENS PIETRO N. 21 (z.d. 7)                                                                                               1\n",
                  "VIA ROVELLO N. 3 (z.d. 1)                                                                                                      1\n",
                  "VIA PELLICO SILVIO N. 8 (z.d. 1)                                                                                               1\n",
                  "VIA SETTALA LODOVICO N. 56 (z.d. 3)                                                                                            1\n",
                  "VIA SENATO N. 5 (z.d. 1)                                                                                                       1\n",
                  "VIA SCIALOIA VITTORIO N. 3 (z.d. 9)                                                                                            1\n",
                  "VIA SCARLATTI DOMENICO N. 33 (z.d. 2)                                                                                          1\n",
                  "VIA SCARLATTI DOMENICO N. 32 (z.d. 2)                                                                                          1\n",
                  "VIA SCARLATTI DOMENICO N. 24 (z.d. 2)                                                                                          1\n",
                  "VIA SCARLATTI DOMENICO N. 22 (z.d. 3)                                                                                          1\n",
                  "VIA SARONNO N. 5 (z.d. 8)                                                                                                      1\n",
                  "VIA SAN TOMASO N. 8 Int. a (z.d. 1)                                                                                            1\n",
                  "VIA SANTA SOFIA N. 16 (z.d. 1)                                                                                                 1\n",
                  "VIA SANTA SOFIA N. 10 (z.d. 1)                                                                                                 1\n",
                  "VIA SANTA RADEGONDA N. 14 (z.d. 1)                                                                                             1\n",
                  "VIA PORPORA NICOLA ANTONIO N. 132 (z.d. 3)                                                                                     1\n",
                  "VIA SANTA MARIA FULCORINA N. 15 (z.d. 1)                                                                                       1\n",
                  "VIA SAN RAFFAELE N. 6 via san raffaele 7/9; (z.d. 1)                                                                           1\n",
                  "VIA SAN RAFFAELE N. 3 (z.d. 1)                                                                                                 1\n",
                  "VIA SAN MAMETE N. 12 (z.d. 2)                                                                                                  1\n",
                  "VIA SANGIORGIO ABBONDIO N. 16 (z.d. 1)                                                                                         1\n",
                  "VIA SAMMARTINI GIOVANNI BATTISTA N. 15 (z.d. 2)                                                                                1\n",
                  "VIA SAMMARTINI GIOVANNI BATTISTA N. 15 1ø piano; (z.d. 2)                                                                      1\n",
                  "VIA SALDINI CESARE N. 24 (z.d. 3)                                                                                              1\n",
                  "VIA SACCHINI ANTONIO GASPARE N. 19 (z.d. 3)                                                                                    1\n",
                  "VIA SACCHINI ANTONIO GASPARE N. 17 (z.d. 3)                                                                                    1\n",
                  "VIA RUTILIA N. 6 (z.d. 5)                                                                                                      1\n",
                  "VIA PORPORA NICOLA ANTONIO N. 143 (z.d. 3)                                                                                     1\n",
                  "VIA POLIZIANO N. 11 (z.d. 8)                                                                                                   1\n",
                  "VIA PORLEZZA N. 4 (z.d. 1)                                                                                                     1\n",
                  "VIA PONTE SEVESO N. 38 (z.d. 2)                                                                                                1\n",
                  "VIA PAGANINI NICCOLO' N. 7 (z.d. 3)                                                                                            1\n",
                  "VIA PAGANINI NICCOLO' N. 6 (z.d. 3)                                                                                            1\n",
                  "VIA OZANAM FEDERICO N. 12 (z.d. 3)                                                                                             1\n",
                  "VIA OSIMO AUGUSTO N. 10 (z.d. 4)                                                                                               1\n",
                  "VIA ORNATO LUIGI N. 64 (z.d. 9)                                                                                                1\n",
                  "VIA OLGETTINA N. 60 (z.d. 3)                                                                                                   1\n",
                  "VIA NOVARA N. 371 (z.d. 7)                                                                                                     1\n",
                  "VIA NICOTERA GIOVANNI N. 9 (z.d. 9)                                                                                            1\n",
                  "VIA MURATORI LODOVICO N. 5 (z.d. 4)                                                                                            1\n",
                  "VIA MURATORI LODOVICO N. 14 (z.d. 4)                                                                                           1\n",
                  "VIA MURAT GIOACCHINO N. 21 (z.d. 9)                                                                                            1\n",
                  "VIA MORIGI N. 2 (z.d. 1)                                                                                                       1\n",
                  "VIA MONTESSORI MARIA N. 14 (z.d. 4)                                                                                            1\n",
                  "VIA MONTE ROSA N. 90 (z.d. 8)                                                                                                  1\n",
                  "VIA MONETA num.001/a ; (z.d. 1)                                                                                                1\n",
                  "VIA MOLINO DELLE ARMI N. 1 attivita' promiscua rta e albe; (z.d. 1)                                                            1\n",
                  "VIA MODENA GUSTAVO N. 4 (z.d. 3)                                                                                               1\n",
                  "VIA MODENA GUSTAVO N. 20 (z.d. 3)                                                                                              1\n",
                  "VIA MESSINA N. 10 (z.d. 8)                                                                                                     1\n",
                  "VIA MERCATO N. 1 (z.d. 1)                                                                                                      1\n",
                  "VIA MELLONI MACEDONIO N. 17 (z.d. 4)                                                                                           1\n",
                  "VIA MECENATE N. 121 (z.d. 4)                                                                                                   1\n",
                  "VIA MAZZINI GIUSEPPE N. 8 (z.d. 1)                                                                                             1\n",
                  "VIA PALADINI ETTORE N. 7 (z.d. 3)                                                                                              1\n",
                  "VIA PALAZZI LAZZARO N. 18 (z.d. 3)                                                                                             1\n",
                  "VIA PALLADIO ANDREA N. 8 (z.d. 5)                                                                                              1\n",
                  "VIA PIERO DELLA FRANCESCA N. 39 (z.d. 8)                                                                                       1\n",
                  "VIA POMPONAZZI PIETRO N. 3 rta due stelle-appartam 7-14pl; (z.d. 5)                                                            1\n",
                  "VIA POLONIA N. 10 (z.d. 8)                                                                                                     1\n",
                  "VIA SFORZA ASCANIO N. 73 (z.d. 5)                                                                                              1\n",
                  "VIA POLA N. 4 (z.d. 2)                                                                                                         1\n",
                  "VIA POERIO CARLO N. 32 (z.d. 3)                                                                                                1\n",
                  "VIA PLINIO CAIO SECONDO N. 2 (z.d. 3)                                                                                          1\n",
                  "VIA PIRELLI GIOVANNI BATTISTA N. 7 (z.d. 2)                                                                                    1\n",
                  "VIA PIERO DELLA FRANCESCA num.004/7 ; (z.d. 8)                                                                                 1\n",
                  "VIA PIERO DELLA FRANCESCA N. 60 (z.d. 8)                                                                                       1\n",
                  "VIA PIERO DELLA FRANCESCA N. 48 (z.d. 8)                                                                                       1\n",
                  "VIA PIERLUIGI GIOVANNI DA PALESTRINA num.030 ; (z.d. 2)                                                                        1\n",
                  "VIA PALMANOVA N. 153 (z.d. 2)                                                                                                  1\n",
                  "VIA PICCINNI NICOLA N. 25 (z.d. 3)                                                                                             1\n",
                  "VIA PIACENZA N. 4 (z.d. 5)                                                                                                     1\n",
                  "VIA PESTALOZZA ALESSANDRO N. 28 (z.d. 3)                                                                                       1\n",
                  "VIA PERUGINO N. 12 (z.d. 4)                                                                                                    1\n",
                  "VIA PELLIZZONE ANDREA N. 12 (z.d. 3)                                                                                           1\n",
                  "VIA PECCHIO GIUSEPPE N. 2 (z.d. 3)                                                                                             1\n",
                  "VIA PAPI LAZZARO N. 18 (z.d. 4)                                                                                                1\n",
                  "VIA PANTANO N. 8 (z.d. 1)                                                                                                      1\n",
                  "VIA PANIZZA BARTOLOMEO N. 5 2^  e 4° piano; (z.d. 7)                                                                           1\n",
                  "VIA PALMIERI NICOLA N. 64 (z.d. 5)                                                                                             1\n",
                  "VIA SETTALA LODOVICO N. 76 (z.d. 3)                                                                                            1\n",
                  "VIA SILVA GUGLIELMO num.012 ; (z.d. 8)                                                                                         1\n",
                  "VIA SFORZA ASCANIO N. 81 (z.d. 5)                                                                                              1\n",
                  "VLE FAMAGOSTA N. 48 (z.d. 6)                                                                                                   1\n",
                  "VLE ESPINASSE CARLO N. 22 (z.d. 8)                                                                                             1\n",
                  "VLE DORIA ANDREA N. 4 (z.d. 2)                                                                                                 1\n",
                  "VLE DORIA ANDREA N. 22 (z.d. 3)                                                                                                1\n",
                  "VLE DEI MILLE num.060/62 ; (z.d. 3)                                                                                            1\n",
                  "VLE DEI MILLE N. 24 (z.d. 3)                                                                                                   1\n",
                  "VLE CERTOSA N. 88 (z.d. 8)                                                                                                     1\n",
                  "VLE CERTOSA N. 68 (z.d. 8)                                                                                                     1\n",
                  "VLE CERTOSA N. 26 (z.d. 8)                                                                                                     1\n",
                  "VLE CERTOSA N. 108 (z.d. 8)                                                                                                    1\n",
                  "VLE BRENTA N. 33 (z.d. 4)                                                                                                      1\n",
                  "VLE BLIGNY N. 56 (z.d. 5)                                                                                                      1\n",
                  "VLE BLIGNY N. 23 (z.d. 5)                                                                                                      1\n",
                  "VLE BERENGARIO N. 3 (z.d. 8)                                                                                                   1\n",
                  "VLE ARGONNE N. 14 (z.d. 4)                                                                                                     1\n",
                  "VLE ABRUZZI N. 67 (z.d. 3)                                                                                                     1\n",
                  "VIA WATT GIACOMO N. 13 (z.d. 6)                                                                                                1\n",
                  "VIA WASHINGTON GIORGIO N. 66 (z.d. 7)                                                                                          1\n",
                  "VIA WASHINGTON GIORGIO N. 42 (z.d. 7)                                                                                          1\n",
                  "VIA VITRUVIO N. 48 (z.d. 3)                                                                                                    1\n",
                  "VIA VITRUVIO N. 43 (z.d. 2)                                                                                                    1\n",
                  "VIA VITRUVIO N. 29 (z.d. 3)                                                                                                    1\n",
                  "VIA VITRUVIO N. 28 (z.d. 3)                                                                                                    1\n",
                  "VIA VITRUVIO N. 24 (z.d. 3)                                                                                                    1\n",
                  "VLE FAENZA N. 12/13 (z.d. 6)                                                                                                   1\n",
                  "VLE FAMAGOSTA N. 50 (z.d. 6)                                                                                                   1\n",
                  "VIA VITRUVIO N. 18 (z.d. 3)                                                                                                    1\n",
                  "VLE ISONZO N. 14 (z.d. 5)                                                                                                      1\n",
                  "VLE ZARA N. 1 (z.d. 9)                                                                                                         1\n",
                  "VLE VITTORIO VENETO N. 30 (z.d. 2)                                                                                             1\n",
                  "VLE TUNISIA N. 9 (z.d. 3)                                                                                                      1\n",
                  "VLE TESTI FULVIO N. 300 (z.d. 9)                                                                                               1\n",
                  "VLE SUZZANI GIOVANNI num.013/15 ; (z.d. 9)                                                                                     1\n",
                  "VLE SUZZANI GIOVANNI N. 13 (z.d. 9)                                                                                            1\n",
                  "VLE STURZO DON LUIGI N. 45 (z.d. 9)                                                                                            1\n",
                  "VLE SABOTINO N. 16 (z.d. 5)                                                                                                    1\n",
                  "VLE PICENO N. 33 (z.d. 4)                                                                                                      1\n",
                  "VLE PIAVE N. 5 2ø piano; (z.d. 1)                                                                                              1\n",
                  "VLE PIAVE N. 42 (z.d. 3)                                                                                                       1\n",
                  "VLE PAPINIANO N. 14 (z.d. 1)                                                                                                   1\n",
                  "VLE MURILLO S.B. N. 9 (z.d. 7)                                                                                                 1\n",
                  "VLE MURILLO S.B. N. 22 (z.d. 7)                                                                                                1\n",
                  "VLE MONZA N. 139 (z.d. 2)                                                                                                      1\n",
                  "VLE MONZA N. 132 ang. via petrocchi n. 1; (z.d. 2)                                                                             1\n",
                  "VLE MONZA N. 120 (z.d. 2)                                                                                                      1\n",
                  "VLE MONTE GRAPPA N. 12 (z.d. 9)                                                                                                1\n",
                  "VLE LOMBARDIA N. 74 (z.d. 3)                                                                                                   1\n",
                  "VLE LOMBARDIA N. 59 (z.d. 3)                                                                                                   1\n",
                  "VLE LOMBARDIA N. 55 licenza rilasciata dallo sport; (z.d. 3)                                                                   1\n",
                  "VLE LOMBARDIA N. 20 (z.d. 3)                                                                                                   1\n",
                  "VLE ISONZO N. 2 (z.d. 5)                                                                                                       1\n",
                  "VIA VITRUVIO N. 20 (z.d. 3)                                                                                                    1\n",
                  "VIA VISERBA num.018/a ; ()                                                                                                     1\n",
                  "VIA SIGIERI GOFFREDO N. 3 (z.d. 4)                                                                                             1\n",
                  "VIA TIZIANO VECELLIO N. 6 (z.d. 8)                                                                                             1\n",
                  "VIA TEODOSIO N. 37 (z.d. 3)                                                                                                    1\n",
                  "VIA TENCA CARLO N. 21 (z.d. 2)                                                                                                 1\n",
                  "VIA TENCA CARLO N. 12 (z.d. 2)                                                                                                 1\n",
                  "VIA TENCA CARLO N. 11 (z.d. 2)                                                                                                 1\n",
                  "VIA TAZZOLI ENRICO N. 7 (z.d. 9)                                                                                               1\n",
                  "VIA TAZZOLI ENRICO N. 2 (z.d. 9)                                                                                               1\n",
                  "VIA TARCHETTI IGINIO UGO N. 2 (z.d. 1)                                                                                         1\n",
                  "VIA TADINO ALESSANDRO N. 27 (z.d. 3)                                                                                           1\n",
                  "VIA STEPHENSON GIORGIO Int. 55                                                                                                 1\n",
                  "VIA STAMIRA D'ANCONA N. 27 (z.d. 2)                                                                                            1\n",
                  "VIA SPONTINI GASPARE N. 6 (z.d. 3)                                                                                             1\n",
                  "VIA SPINOLA AMBROGIO N. 9 (z.d. 8)                                                                                             1\n",
                  "VIA SPEZIA N. 25 rilascio licenza dallo suap; (z.d. 5)                                                                         1\n",
                  "VIA SPALLANZANI LAZZARO N. 40 (z.d. 3)                                                                                         1\n",
                  "VIA SPALLANZANI LAZZARO N. 27 (z.d. 3)                                                                                         1\n",
                  "VIA SPADARI N. 11 (z.d. 1)                                                                                                     1\n",
                  "VIA SOTTOCORNO PASQUALE N. 8 (z.d. 4)                                                                                          1\n",
                  "VIA SOPERGA N. 24 (z.d. 2)                                                                                                     1\n",
                  "VIA SOPERGA N. 19 (z.d. 2)                                                                                                     1\n",
                  "VIA SIRTORI GIUSEPPE N. 24 (z.d. 3)                                                                                            1\n",
                  "VIA SIRTE N. 9 (z.d. 6)                                                                                                        1\n",
                  "VIA SIRACUSA num.005/7 ; (z.d. 1)                                                                                              1\n",
                  "VIA MAZZINI GIUSEPPE N. 10 (z.d. 1)                                                                                            1\n",
                  "VIA TITO LIVIO N. 4 (z.d. 4)                                                                                                   1\n",
                  "VIA TOFFETTI VINCENZO N. 4 (z.d. 4)                                                                                            1\n",
                  "VIA VILLAPIZZONE N. 24 (z.d. 8)                                                                                                1\n",
                  "VIA TONALE N. 14 (z.d. 2)                                                                                                      1\n",
                  "VIA VIGEVANO N. 13 (z.d. 6)                                                                                                    1\n",
                  "VIA VENINI GIULIO E CORRADO N. 59 (z.d. 2)                                                                                     1\n",
                  "VIA VENEZIA GIULIA N. 9 (z.d. 8)                                                                                               1\n",
                  "VIA VARE' GIOVANNI BATTISTA N. 32 (z.d. 9)                                                                                     1\n",
                  "VIA VALVASSORI PERONI CARLO N. 85 (z.d. 3)                                                                                     1\n",
                  "VIA VALLAZZE N. 39 (z.d. 3)                                                                                                    1\n",
                  "VIA VALLAZZE N. 14 (z.d. 3)                                                                                                    1\n",
                  "VIA UGOLINI GIUSEPPE num.021/3 ; (z.d. 9)                                                                                      1\n",
                  "VIA TRIVULZIO ANTONIO TOLOMEO N. 8 (z.d. 7)                                                                                    1\n",
                  "VIA TRIESTE N. 15 (z.d. 7)                                                                                                     1\n",
                  "VIA TORTONA N. 35 (z.d. 6)                                                                                                     1\n",
                  "VIA TORRIANI NAPO N. 29 (z.d. 2)                                                                                               1\n",
                  "VIA TORRIANI NAPO N. 28 (z.d. 2)                                                                                               1\n",
                  "VIA TORRIANI NAPO N. 27 (z.d. 2)                                                                                               1\n",
                  "VIA TORRIANI NAPO N. 24 (z.d. 2)                                                                                               1\n",
                  "VIA TORRIANI NAPO N. 23 (z.d. 2)                                                                                               1\n",
                  "VIA TORRIANI NAPO N. 21 (z.d. 2)                                                                                               1\n",
                  "VIA TORRIANI NAPO N. 18 (z.d. 2)                                                                                               1\n",
                  "VIA TORRIANI NAPO N. 17 sportello unico; (z.d. 2)                                                                              1\n",
                  "VIA TORRIANI NAPO N. 15 (z.d. 2)                                                                                               1\n",
                  "VIA TORRIANI NAPO N. 14 (z.d. 2)                                                                                               1\n",
                  "VIA TORRAZZA N. 15 (z.d. 8)                                                                                                    1\n",
                  "VIA TONALE N. 2 (z.d. 2)                                                                                                       1\n",
                  "VIA MAZZINI GIUSEPPE N. 4 (z.d. 1)                                                                                             1\n",
                  "VIA MARGHERA N. 14 (z.d. 7)                                                                                                    1\n",
                  "VIA MASACCIO N. 19 (z.d. 8)                                                                                                    1\n",
                  "VIA ASTOLFO N. 5 (z.d. 3)                                                                                                      1\n",
                  "VIA BOSCOVICH RUGGERO N. 43 (z.d. 3)                                                                                           1\n",
                  "VIA BOSCOVICH RUGGERO N. 21 deleg. somministr. zheng ruile; (z.d. 2)                                                           1\n",
                  "VIA BORROMEI N. 4 (z.d. 1)                                                                                                     1\n",
                  "VIA BORGONUOVO N. 1 (z.d. 1)                                                                                                   1\n",
                  "VIA BONNET NINO num.006/b ;                                                                                                    1\n",
                  "VIA BENEFATTORI DELL'OSPEDALE N. 24 (z.d. 9)                                                                                   1\n",
                  "VIA BASSI UGO num.001/a ; (z.d. 9)                                                                                             1\n",
                  "VIA BARTOLOZZI FRANCESCO N. 9 (z.d. 4)                                                                                         1\n",
                  "VIA BARACCHINI FLAVIO N. 12 (z.d. 1)                                                                                           1\n",
                  "VIA BAMBAIA N. 4 (z.d. 2)                                                                                                      1\n",
                  "VIA ASTOLFO N. 6 (z.d. 3)                                                                                                      1\n",
                  "VIA ARIOSTO LODOVICO N. 22 (z.d. 1)                                                                                            1\n",
                  "VIA MARGHERA N. 2 (z.d. 7)                                                                                                     1\n",
                  "VIA ARIMONDI GIUSEPPE N. 12 (z.d. 8)                                                                                           1\n",
                  "VIA ARCHIMEDE num.086/88 ;                                                                                                     1\n",
                  "VIA ARCHIMEDE N. 79 (z.d. 4)                                                                                                   1\n",
                  "VIA ARCHIMEDE N. 121 (z.d. 4)                                                                                                  1\n",
                  "VIA ANTONIO DA RECANATE N. 2 (z.d. 2)                                                                                          1\n",
                  "VIA ALBRICCI ALBERICO N. 4 (z.d. 1)                                                                                            1\n",
                  "VIA AJRAGHI CESARE N. 30 suap; (z.d. 8)                                                                                        1\n",
                  "VIA AIRAGHI GAETANO N. 125 num.000 ; (z.d. 7)                                                                                  1\n",
                  "PZA SANT' EUSTORGIO N. 2 (z.d. 1)                                                                                              1\n",
                  "PZA SANTA MARIA DEL SUFFRAGIO N. 3 (z.d. 4)                                                                                    1\n",
                  "PZA SANTA MARIA BELTRADE N. 4 (z.d. 1)                                                                                         1\n",
                  "VIA BOSCOVICH RUGGERO N. 59 (z.d. 3)                                                                                           1\n",
                  "VIA BREMBO N. 27 (z.d. 5)                                                                                                      1\n",
                  "VIA BRESSANONE num.004/a ; ()                                                                                                  1\n",
                  "VIA BRIVIO CESARE N. 33 (z.d. 9)                                                                                               1\n",
                  "VIA CATALANI ALFREDO N. 71 (z.d. 3)                                                                                            1\n",
                  "VIA CATALANI ALFREDO N. 69 (z.d. 3)                                                                                            1\n",
                  "VIA CASTELFIDARDO N. 2 (z.d. 1)                                                                                                1\n",
                  "VIA CASTALDI PANFILO N. 7 (z.d. 2)                                                                                             1\n",
                  "VIA CASTALDI PANFILO N. 26 (z.d. 3)                                                                                            1\n",
                  "VIA CASTALDI PANFILO N. 17 (z.d. 3)                                                                                            1\n",
                  "VIA CASTALDI PANFILO N. 16 (z.d. 3)                                                                                            1\n",
                  "VIA CASELLA GIOVANNI BATTISTA N. 61 (z.d. 8)                                                                                   1\n",
                  "VIA CASATI FELICE N. 18 (z.d. 3)                                                                                               1\n",
                  "VIA CARDANO GEROLAMO N. 1 (z.d. 9)                                                                                             1\n",
                  "VIA CARCANO FILIPPO N. 47 (z.d. 7)                                                                                             1\n",
                  "VIA CARCANO FILIPPO N. 39 (z.d. 7)                                                                                             1\n",
                  "VIA CARCANO FILIPPO N. 37 (z.d. 7)                                                                                             1\n",
                  "VIA CAPPELLINI ALFREDO N. 18 (z.d. 2)                                                                                          1\n",
                  "VIA CANONICA LUIGI N. 79 (z.d. 8)                                                                                              1\n",
                  "VIA CANONICA LUIGI N. 38 (z.d. 1)                                                                                              1\n",
                  "VIA CALVI PIETRO N. 32 (z.d. 4)                                                                                                1\n",
                  "VIA CADIBONA N. 2 (z.d. 4)                                                                                                     1\n",
                  "VIA CACCIANINO ANTONIO N. 10 (z.d. 3)                                                                                          1\n",
                  "VIA BUTTI ENRICO N. 9 (z.d. 9)                                                                                                 1\n",
                  "VIA BUONARROTI MICHELANGELO N. 13 (z.d. 7)                                                                                     1\n",
                  "VIA BROLETTO N. 46 (z.d. 1)                                                                                                    1\n",
                  "VIA BROGLIO EMILIO N. 28 (z.d. 9)                                                                                              1\n",
                  "PZA OBERDAN GUGLIELMO N. 12 (z.d. 3)                                                                                           1\n",
                  "PZA MISSORI GIUSEPPE N. 1 (z.d. 1)                                                                                             1\n",
                  "PZA LUIGI DI SAVOIA N. 20 (z.d. 2)                                                                                             1\n",
                  "CSO VERCELLI N. 55 (z.d. 7)                                                                                                    1\n",
                  "CSO VENTIDUE MARZO N. 43 (z.d. 4)                                                                                              1\n",
                  "CSO VENTIDUE MARZO N. 32 (z.d. 4)                                                                                              1\n",
                  "CSO SEMPIONE num.091 ; (z.d. 8)                                                                                                1\n",
                  "CSO SEMPIONE N. 69 (z.d. 8)                                                                                                    1\n",
                  "CSO MATTEOTTI GIACOMO num.004/6 cinque stelle lusso; (z.d. 1)                                                                  1\n",
                  "CSO MAGENTA num.019 ; (z.d. 1)                                                                                                 1\n",
                  "CSO MAGENTA N. 78 (z.d. 1)                                                                                                     1\n",
                  "CSO MAGENTA N. 61 (z.d. 1)                                                                                                     1\n",
                  "CSO LODI N. 74 (z.d. 4)                                                                                                        1\n",
                  "CSO LODI N. 4 (z.d. 5)                                                                                                         1\n",
                  "CSO ITALIA num.011/a ; (z.d. 1)                                                                                                1\n",
                  "CSO ITALIA N. 34 (z.d. 1)                                                                                                      1\n",
                  "CSO GARIBALDI GIUSEPPE N. 84 (z.d. 1)                                                                                          1\n",
                  "CSO GARIBALDI GIUSEPPE N. 68 (z.d. 1)                                                                                          1\n",
                  "CSO EUROPA N. 9 (z.d. 1)                                                                                                       1\n",
                  "CSO DI PORTA ROMANA N. 64 (z.d. 1)                                                                                             1\n",
                  "CSO DI PORTA ROMANA N. 48 (z.d. 1)                                                                                             1\n",
                  "CSO CONCORDIA N. 1 (z.d. 3)                                                                                                    1\n",
                  "CSO BUENOS AIRES N. 3 (z.d. 3)                                                                                                 1\n",
                  "CSO BUENOS AIRES N. 33 (z.d. 3)                                                                                                1\n",
                  "CSO BUENOS AIRES N. 2 (z.d. 3)                                                                                                 1\n",
                  "CSO BUENOS AIRES N. 26 (z.d. 3)                                                                                                1\n",
                  "CSO BUENOS AIRES N. 18 (z.d. 3)                                                                                                1\n",
                  "CSO VERCELLI N. 1 (z.d. 7)                                                                                                     1\n",
                  "CSO VERCELLI N. 61 (z.d. 7)                                                                                                    1\n",
                  "PZA LIMA N. 2 num.001 ; (z.d. 3)                                                                                               1\n",
                  "GLL BUENOS AIRES N. 5 sembra avere come indirizzo ufficiale corso buenos aires 42 ma ermes non riconosce il civico (z.d. 3)    1\n",
                  "PZA LEONARDO DA VINCI N. 10 (z.d. 3)                                                                                           1\n",
                  "PZA GERUSALEMME N. 6 (z.d. 8)                                                                                                  1\n",
                  "PZA GERUSALEMME N. 12 (z.d. 8)                                                                                                 1\n",
                  "PZA FONTANA N. 3 (z.d. 1)                                                                                                      1\n",
                  "PZA DUCA D'AOSTA N. 9 (z.d. 2)                                                                                                 1\n",
                  "PZA DUCA D'AOSTA N. 16 (z.d. 2)                                                                                                1\n",
                  "PZA DELLA REPUBBLICA N. 20 (z.d. 2)                                                                                            1\n",
                  "PZA DELLA REPUBBLICA N. 13 (z.d. 2)                                                                                            1\n",
                  "PZA DEL DUOMO N. 25 (z.d. 1)                                                                                                   1\n",
                  "PZA CINQUE GIORNATE N. 6 (z.d. 1)                                                                                              1\n",
                  "PZA BUONARROTI MICHELANGELO N. 31 r.t.a.con 23 alloggi e 24 p.l.; (z.d. 7)                                                     1\n",
                  "PZA BECCARIA CESARE N. 6 subingresso con riduzione came; (z.d. 1)                                                              1\n",
                  "PZA ASPROMONTE num.012/14 ; (z.d. 3)                                                                                           1\n",
                  "PZA ASPROMONTE N. 22 (z.d. 3)                                                                                                  1\n",
                  "PZA ASPROMONTE N. 18 (z.d. 3)                                                                                                  1\n",
                  "PLE TRIPOLI N. 3 (z.d. 6)                                                                                                      1\n",
                  "PLE PRINCIPESSA CLOTILDE N. 10 (z.d. 9)                                                                                        1\n",
                  "PLE LOTTO LORENZO N. 14 (z.d. 8)                                                                                               1\n",
                  "PLE CORVETTO LUIGI EMANUELE N. 5 (z.d. 4)                                                                                      1\n",
                  "LGO RIO DE JANEIRO N. 12 (z.d. 3)                                                                                              1\n",
                  "LGO CARROBBIO num.002 ;                                                                                                        1\n",
                  "LGO AUGUSTO N. 10 (z.d. 1)                                                                                                     1\n",
                  "GLL DEL CORSO N. 3 (z.d. 1)                                                                                                    1\n",
                  "VIA CERVA N. 16 residence cerva; (z.d. 1)                                                                                      1\n",
                  "VIA CESARI ANTONIO N. 19 (z.d. 9)                                                                                              1\n",
                  "VIA CESENA N. 20 (z.d. 8)                                                                                                      1\n",
                  "VIA LEPETIT ROBERTO N. 7 (z.d. 2)                                                                                              1\n",
                  "VIA LEPETIT ROBERTO N. 15 (z.d. 2)                                                                                             1\n",
                  "VIA LENTASIO N. 3 (z.d. 1)                                                                                                     1\n",
                  "VIA LAZZARETTO N. 5 angolo finocchiaro aprile; (z.d. 2)                                                                        1\n",
                  "VIA LAZZARETTO N. 10 (z.d. 3)                                                                                                  1\n",
                  "VIA LARIO N. 40 (z.d. 9)                                                                                                       1\n",
                  "VIA LAMPEDUSA num.011/a ; (z.d. 5)                                                                                             1\n",
                  "VIA LAMPEDUSA N. 11 (z.d. 5)                                                                                                   1\n",
                  "VIA LAMBRATE N. 9 (z.d. 3)                                                                                                     1\n",
                  "VIA JOMMELLI NICCOLO' N. 49 (z.d. 3)                                                                                           1\n",
                  "VIA JACOPO DELLA QUERCIA N. 6 (z.d. 7)                                                                                         1\n",
                  "VIA IPPODROMO N. 8 (z.d. 8)                                                                                                    1\n",
                  "VIA INGEGNOLI FRANCESCO N. 20 (z.d. 3)                                                                                         1\n",
                  "VIA HOEPLI ULRICO N. 6 (z.d. 1)                                                                                                1\n",
                  "VIA HAJECH CAMILLO N. 18 (z.d. 4)                                                                                              1\n",
                  "VIA GROSSI TOMMASO N. 1 licenza rilasciata dallo suap; (z.d. 1)                                                                1\n",
                  "VIA GOLDONI CARLO N. 84 via goldoni 84 2^ piano; (z.d. 3)                                                                      1\n",
                  "VIA GOLDONI CARLO N. 84 3 e 4 piano; (z.d. 6)                                                                                  1\n",
                  "VIA GOLDONI CARLO N. 31 (z.d. 6)                                                                                               1\n",
                  "VIA GOLDONI CARLO N. 31 iniziale; (z.d. 6)                                                                                     1\n",
                  "VIA GIUSTI GIUSEPPE N. 6 (z.d. 1)                                                                                              1\n",
                  "VIA GIULINI GIORGIO N. 6 (z.d. 1)                                                                                              1\n",
                  "VIA GIOIA MELCHIORRE N. 73 (z.d. 2)                                                                                            1\n",
                  "VIA GIOIA MELCHIORRE N. 6 (z.d. 9)                                                                                             1\n",
                  "VIA LEPETIT ROBERTO N. 33 (z.d. 2)                                                                                             1\n",
                  "VIA LEPONTINA N. 8 (z.d. 9)                                                                                                    1\n",
                  "VIA GHIBERTI LORENZO N. 1 (z.d. 7)                                                                                             1\n",
                  "VIA LIPPI FILIPPINO N. 28 (z.d. 3)                                                                                             1\n",
                  "codvia 0000 num.024  ; ()                                                                                                      1\n",
                  "VIA MARCO POLO N. 13 (z.d. 9)                                                                                                  1\n",
                  "VIA MARCO D'AGRATE N. 35 (z.d. 5)                                                                                              1\n",
                  "VIA MARCELLO BENEDETTO N. 83 (z.d. 3)                                                                                          1\n",
                  "VIA MARCELLO BENEDETTO N. 59 (z.d. 3)                                                                                          1\n",
                  "VIA MARCELLO BENEDETTO N. 47 (z.d. 3)                                                                                          1\n",
                  "VIA MANZONI ALESSANDRO N. 31 (z.d. 1)                                                                                          1\n",
                  "VIA MANZONI ALESSANDRO N. 29 (z.d. 1)                                                                                          1\n",
                  "VIA MANIN DANIELE N. 7 (z.d. 1)                                                                                                1\n",
                  "VIA MAC MAHON num.045/a ; (z.d. 8)                                                                                             1\n",
                  "VIA MACCHI MAURO N. 79 (z.d. 2)                                                                                                1\n",
                  "VIA MACCHI MAURO N. 49 (z.d. 2)                                                                                                1\n",
                  "VIA MACCHI MAURO N. 1 (z.d. 2)                                                                                                 1\n",
                  "VIA LULLI GIOVANNI N. 4 (z.d. 3)                                                                                               1\n",
                  "VIA LULLI GIOVANNI N. 22 (z.d. 3)                                                                                              1\n",
                  "VIA LULLI GIOVANNI N. 18 (z.d. 3)                                                                                              1\n",
                  "VIA LULLI GIOVANNI N. 11 (z.d. 3)                                                                                              1\n",
                  "VIA LUDOVICO DI BREME N. 77 (z.d. 8)                                                                                           1\n",
                  "VIA LORENTEGGIO num.278 ;                                                                                                      1\n",
                  "VIA LOMBARDI RICCARDO N. 11 annessa dipendenza 3 stelle; (z.d. 7)                                                              1\n",
                  "VIA LODOVICO IL MORO N. 117 (z.d. 6)                                                                                           1\n",
                  "VIA LIPPI FILIPPINO N. 50 (z.d. 3)                                                                                             1\n",
                  "VIA LIPPI FILIPPINO N. 43 (z.d. 3)                                                                                             1\n",
                  "VIA GIAMBELLINO N. 9 (z.d. 6)                                                                                                  1\n",
                  "VIA GESU' N. 10 (z.d. 1)                                                                                                       1\n",
                  "VIA CIMAROSA DOMENICO N. 19 (z.d. 7)                                                                                           1\n",
                  "VIA DOMENICHINO N. 41 (z.d. 7)                                                                                                 1\n",
                  "VIA DESENZANO N. 12 (z.d. 7)                                                                                                   1\n",
                  "VIA DEL MARE N. 93 (z.d. 5)                                                                                                    1\n",
                  "VIA DELL' ORSO N. 7 (z.d. 1)                                                                                                   1\n",
                  "VIA DELLE FORZE ARMATE N. 8 (z.d. 7)                                                                                           1\n",
                  "VIA DELLA GIUSTIZIA N. 10 (z.d. 2)                                                                                             1\n",
                  "VIA DEI MISSAGLIA N. 14 (z.d. 5)                                                                                               1\n",
                  "VIA DEI FONTANILI N. 26 (z.d. 5)                                                                                               1\n",
                  "VIA DEI BOSSI N. 5 (z.d. 1)                                                                                                    1\n",
                  "VIA DE CRISTOFORIS CARLO N. 6 (z.d. 9)                                                                                         1\n",
                  "VIA DE ALBERTIS SEBASTIANO N. 7 (z.d. 3)                                                                                       1\n",
                  "VIA DANDOLO ENRICO N. 2 (z.d. 1)                                                                                               1\n",
                  "VIA DAL POZZO TOSCANELLI PAOLO N. 4 (z.d. 2)                                                                                   1\n",
                  "VIA CUSTODI PIETRO N. 2 (z.d. 5)                                                                                               1\n",
                  "VIA CUSANI N. 13 (z.d. 1)                                                                                                      1\n",
                  "VIA CORTINA D'AMPEZZO N. 17 (z.d. 5)                                                                                           1\n",
                  "VIA CORRENTI CESARE N. 13 (z.d. 1)                                                                                             1\n",
                  "VIA CORNALIA EMILIO N. 7 (z.d. 9)                                                                                              1\n",
                  "VIA COPERNICO NICOLO' num.018/20 ; (z.d. 2)                                                                                    1\n",
                  "VIA CONCA DEL NAVIGLIO N. 20 (z.d. 1)                                                                                          1\n",
                  "VIA COLONNA VITTORIA N. 48 (z.d. 7)                                                                                            1\n",
                  "VIA COLOMBO GIUSEPPE N. 14 (z.d. 3)                                                                                            1\n",
                  "VIA COLA MONTANO N. 29 (z.d. 9)                                                                                                1\n",
                  "VIA CIMAROSA DOMENICO N. 6 (z.d. 7)                                                                                            1\n",
                  "VIA DI TOCQUEVILLE ALESSIO N. 7 numero civico 7/d; (z.d. 9)                                                                    1\n",
                  "VIA DOMODOSSOLA N. 16 (z.d. 8)                                                                                                 1\n",
                  "VIA GASPAROTTO LEOPOLDO N. 8 (z.d. 2)                                                                                          1\n",
                  "VIA DONATELLO num.010/12 ; (z.d. 3)                                                                                            1\n",
                  "VIA GALVANI LUIGI N. 12 (z.d. 2)                                                                                               1\n",
                  "VIA GALLI RICCARDO N. 8 (z.d. 8)                                                                                               1\n",
                  "VIA GALLINA GIACINTO N. 12 (z.d. 3)                                                                                            1\n",
                  "VIA GALLARATE N. 2 (z.d. 8)                                                                                                    1\n",
                  "VIA GALILEI GALILEO N. 2 (z.d. 2)                                                                                              1\n",
                  "VIA GAGGIA PIETRO N. 3 (z.d. 4)                                                                                                1\n",
                  "VIA GAFFURIO FRANCHINO N. 1 (z.d. 3)                                                                                           1\n",
                  "VIA FUMAGALLI ANGELO CARLO N. 4 (z.d. 6)                                                                                       1\n",
                  "VIA FRASSINETTI ROMEO N. 2 (z.d. 7)                                                                                            1\n",
                  "VIA FORCELLA VINCENZO N. 6 (z.d. 6)                                                                                            1\n",
                  "VIA FLUMENDOSA N. 35 (z.d. 2)                                                                                                  1\n",
                  "VIA F.LLI GABBA N. 7 (z.d. 1)                                                                                                  1\n",
                  "VIA FINOCCHIARO APRILE N. 2 (z.d. 2)                                                                                           1\n",
                  "VIA FINOCCHIARO APRILE N. 11 (z.d. 2)                                                                                          1\n",
                  "VIA FILZI FABIO num.025/a ; (z.d. 2)                                                                                           1\n",
                  "VIA FILZI FABIO N. 43 (z.d. 2)                                                                                                 1\n",
                  "VIA FILZI FABIO N. 3 (z.d. 2)                                                                                                  1\n",
                  "VIA FERRUCCI FRANCESCO N. 10 (z.d. 8)                                                                                          1\n",
                  "VIA FELTRE N. 19 n. civico 19/b (z.d. 3)                                                                                       1\n",
                  "VIA FAUCHE' GIOVANNI BATTISTA N. 15 (z.d. 8)                                                                                   1\n",
                  "VIA FATEBENEFRATELLI N. 21 (z.d. 1)                                                                                            1\n",
                  "VIA FARINI CARLO num.001/a ; (z.d. 8)                                                                                          1\n",
                  "VIA EDOLO N. 18 (z.d. 2)                                                                                                       1\n",
                  "VLE ZARA N. 89 (z.d. 9)                                                                                                        1\n",
                  "Name: count, dtype: int64\n"
                ]
              }
            ]
          }
        },
        "512cddbf11bc47d6b44d256b0703c2c8": {
          "model_module": "@jupyter-widgets/base",
          "model_module_version": "1.2.0",
          "model_name": "LayoutModel",
          "state": {
            "_model_module": "@jupyter-widgets/base",
            "_model_module_version": "1.2.0",
            "_model_name": "LayoutModel",
            "_view_count": null,
            "_view_module": "@jupyter-widgets/base",
            "_view_module_version": "1.2.0",
            "_view_name": "LayoutView",
            "align_content": null,
            "align_items": null,
            "align_self": null,
            "border": null,
            "bottom": null,
            "display": null,
            "flex": null,
            "flex_flow": null,
            "grid_area": null,
            "grid_auto_columns": null,
            "grid_auto_flow": null,
            "grid_auto_rows": null,
            "grid_column": null,
            "grid_gap": null,
            "grid_row": null,
            "grid_template_areas": null,
            "grid_template_columns": null,
            "grid_template_rows": null,
            "height": null,
            "justify_content": null,
            "justify_items": null,
            "left": null,
            "margin": null,
            "max_height": null,
            "max_width": null,
            "min_height": null,
            "min_width": null,
            "object_fit": null,
            "object_position": null,
            "order": null,
            "overflow": null,
            "overflow_x": null,
            "overflow_y": null,
            "padding": null,
            "right": null,
            "top": null,
            "visibility": null,
            "width": null
          }
        },
        "71b74e88855d4726954ce0b4a4c396f4": {
          "model_module": "@jupyter-widgets/base",
          "model_module_version": "1.2.0",
          "model_name": "LayoutModel",
          "state": {
            "_model_module": "@jupyter-widgets/base",
            "_model_module_version": "1.2.0",
            "_model_name": "LayoutModel",
            "_view_count": null,
            "_view_module": "@jupyter-widgets/base",
            "_view_module_version": "1.2.0",
            "_view_name": "LayoutView",
            "align_content": null,
            "align_items": null,
            "align_self": null,
            "border": null,
            "bottom": null,
            "display": null,
            "flex": null,
            "flex_flow": null,
            "grid_area": null,
            "grid_auto_columns": null,
            "grid_auto_flow": null,
            "grid_auto_rows": null,
            "grid_column": null,
            "grid_gap": null,
            "grid_row": null,
            "grid_template_areas": null,
            "grid_template_columns": null,
            "grid_template_rows": null,
            "height": null,
            "justify_content": null,
            "justify_items": null,
            "left": null,
            "margin": null,
            "max_height": null,
            "max_width": null,
            "min_height": null,
            "min_width": null,
            "object_fit": null,
            "object_position": null,
            "order": null,
            "overflow": null,
            "overflow_x": null,
            "overflow_y": null,
            "padding": null,
            "right": null,
            "top": "5px",
            "visibility": null,
            "width": "140px"
          }
        },
        "7490fd131ec54cc7972c80185de69bff": {
          "model_module": "@jupyter-widgets/controls",
          "model_module_version": "1.5.0",
          "model_name": "ButtonStyleModel",
          "state": {
            "_model_module": "@jupyter-widgets/controls",
            "_model_module_version": "1.5.0",
            "_model_name": "ButtonStyleModel",
            "_view_count": null,
            "_view_module": "@jupyter-widgets/base",
            "_view_module_version": "1.2.0",
            "_view_name": "StyleView",
            "button_color": null,
            "font_weight": ""
          }
        },
        "7c9e1fffcdee4e928c44be0fa2f83ba7": {
          "model_module": "@jupyter-widgets/output",
          "model_module_version": "1.0.0",
          "model_name": "OutputModel",
          "state": {
            "_dom_classes": [],
            "_model_module": "@jupyter-widgets/output",
            "_model_module_version": "1.0.0",
            "_model_name": "OutputModel",
            "_view_count": null,
            "_view_module": "@jupyter-widgets/output",
            "_view_module_version": "1.0.0",
            "_view_name": "OutputView",
            "layout": "IPY_MODEL_d0c1e35f30af4035a9bc002e054d9c6f",
            "msg_id": "",
            "outputs": [
              {
                "data": {
                  "application/vnd.google.colaboratory.intrinsic+json": {
                    "summary": "{\n  \"name\": \"HOTELS\",\n  \"rows\": 8,\n  \"fields\": [\n    {\n      \"column\": \"Civico\",\n      \"properties\": {\n        \"dtype\": \"number\",\n        \"std\": 14594.348484361062,\n        \"min\": 1.0,\n        \"max\": 41609.0,\n        \"num_unique_values\": 8,\n        \"samples\": [\n          126.06175771971496,\n          16.0,\n          421.0\n        ],\n        \"semantic_type\": \"\",\n        \"description\": \"\"\n      }\n    },\n    {\n      \"column\": \"Codice via\",\n      \"properties\": {\n        \"dtype\": \"number\",\n        \"std\": 2487.4160076947664,\n        \"min\": 1.0,\n        \"max\": 7505.0,\n        \"num_unique_values\": 8,\n        \"samples\": [\n          3105.9359267734553,\n          2250.0,\n          437.0\n        ],\n        \"semantic_type\": \"\",\n        \"description\": \"\"\n      }\n    },\n    {\n      \"column\": \"ZD\",\n      \"properties\": {\n        \"dtype\": \"number\",\n        \"std\": 153.07739370340826,\n        \"min\": 1.0,\n        \"max\": 437.0,\n        \"num_unique_values\": 8,\n        \"samples\": [\n          4.075514874141876,\n          3.0,\n          437.0\n        ],\n        \"semantic_type\": \"\",\n        \"description\": \"\"\n      }\n    },\n    {\n      \"column\": \"Camere\",\n      \"properties\": {\n        \"dtype\": \"number\",\n        \"std\": 187.46606323048135,\n        \"min\": 7.0,\n        \"max\": 450.0,\n        \"num_unique_values\": 8,\n        \"samples\": [\n          60.00222222222222,\n          32.0,\n          450.0\n        ],\n        \"semantic_type\": \"\",\n        \"description\": \"\"\n      }\n    },\n    {\n      \"column\": \"Piani totali\",\n      \"properties\": {\n        \"dtype\": \"number\",\n        \"std\": 64.38040067979718,\n        \"min\": 1.0,\n        \"max\": 187.0,\n        \"num_unique_values\": 8,\n        \"samples\": [\n          4.614973262032086,\n          4.0,\n          187.0\n        ],\n        \"semantic_type\": \"\",\n        \"description\": \"\"\n      }\n    },\n    {\n      \"column\": \"Posti letto\",\n      \"properties\": {\n        \"dtype\": \"number\",\n        \"std\": 311.1801674961572,\n        \"min\": 7.0,\n        \"max\": 922.0,\n        \"num_unique_values\": 8,\n        \"samples\": [\n          114.1288888888889,\n          60.0,\n          450.0\n        ],\n        \"semantic_type\": \"\",\n        \"description\": \"\"\n      }\n    }\n  ]\n}",
                    "type": "dataframe"
                  },
                  "text/html": "\n  <div id=\"df-941a35e2-5668-4fe6-9bca-b39c4362b7ef\" class=\"colab-df-container\">\n    <div>\n<style scoped>\n    .dataframe tbody tr th:only-of-type {\n        vertical-align: middle;\n    }\n\n    .dataframe tbody tr th {\n        vertical-align: top;\n    }\n\n    .dataframe thead th {\n        text-align: right;\n    }\n</style>\n<table border=\"1\" class=\"dataframe\">\n  <thead>\n    <tr style=\"text-align: center;\">\n      <th></th>\n      <th>Civico</th>\n      <th>Codice via</th>\n      <th>ZD</th>\n      <th>Camere</th>\n      <th>Piani totali</th>\n      <th>Posti letto</th>\n    </tr>\n  </thead>\n  <tbody>\n    <tr>\n      <th>count</th>\n      <td>421.000000</td>\n      <td>437.000000</td>\n      <td>437.000000</td>\n      <td>450.000000</td>\n      <td>187.000000</td>\n      <td>450.000000</td>\n    </tr>\n    <tr>\n      <th>mean</th>\n      <td>126.061758</td>\n      <td>3105.935927</td>\n      <td>4.075515</td>\n      <td>60.002222</td>\n      <td>4.614973</td>\n      <td>114.128889</td>\n    </tr>\n    <tr>\n      <th>std</th>\n      <td>2026.885920</td>\n      <td>2140.700197</td>\n      <td>2.607553</td>\n      <td>70.441133</td>\n      <td>2.482496</td>\n      <td>141.013548</td>\n    </tr>\n    <tr>\n      <th>min</th>\n      <td>1.000000</td>\n      <td>1.000000</td>\n      <td>1.000000</td>\n      <td>7.000000</td>\n      <td>1.000000</td>\n      <td>7.000000</td>\n    </tr>\n    <tr>\n      <th>25%</th>\n      <td>7.000000</td>\n      <td>1510.000000</td>\n      <td>2.000000</td>\n      <td>16.000000</td>\n      <td>3.000000</td>\n      <td>25.000000</td>\n    </tr>\n    <tr>\n      <th>50%</th>\n      <td>16.000000</td>\n      <td>2250.000000</td>\n      <td>3.000000</td>\n      <td>32.000000</td>\n      <td>4.000000</td>\n      <td>60.000000</td>\n    </tr>\n    <tr>\n      <th>75%</th>\n      <td>33.000000</td>\n      <td>5097.000000</td>\n      <td>7.000000</td>\n      <td>72.000000</td>\n      <td>6.000000</td>\n      <td>137.250000</td>\n    </tr>\n    <tr>\n      <th>max</th>\n      <td>41609.000000</td>\n      <td>7505.000000</td>\n      <td>9.000000</td>\n      <td>439.000000</td>\n      <td>17.000000</td>\n      <td>922.000000</td>\n    </tr>\n  </tbody>\n</table>\n</div>\n    <div class=\"colab-df-buttons\">\n\n  <div class=\"colab-df-container\">\n    <button class=\"colab-df-convert\" onclick=\"convertToInteractive('df-941a35e2-5668-4fe6-9bca-b39c4362b7ef')\"\n            title=\"Convert this dataframe to an interactive table.\"\n            style=\"display:none;\">\n\n  <svg xmlns=\"http://www.w3.org/2000/svg\" height=\"24px\" viewBox=\"0 -960 960 960\">\n    <path d=\"M120-120v-720h720v720H120Zm60-500h600v-160H180v160Zm220 220h160v-160H400v160Zm0 220h160v-160H400v160ZM180-400h160v-160H180v160Zm440 0h160v-160H620v160ZM180-180h160v-160H180v160Zm440 0h160v-160H620v160Z\"/>\n  </svg>\n    </button>\n\n  <style>\n    .colab-df-container {\n      display:flex;\n      gap: 12px;\n    }\n\n    .colab-df-convert {\n      background-color: #E8F0FE;\n      border: none;\n      border-radius: 50%;\n      cursor: pointer;\n      display: none;\n      fill: #1967D2;\n      height: 32px;\n      padding: 0 0 0 0;\n      width: 32px;\n    }\n\n    .colab-df-convert:hover {\n      background-color: #E2EBFA;\n      box-shadow: 0px 1px 2px rgba(60, 64, 67, 0.3), 0px 1px 3px 1px rgba(60, 64, 67, 0.15);\n      fill: #174EA6;\n    }\n\n    .colab-df-buttons div {\n      margin-bottom: 4px;\n    }\n\n    [theme=dark] .colab-df-convert {\n      background-color: #3B4455;\n      fill: #D2E3FC;\n    }\n\n    [theme=dark] .colab-df-convert:hover {\n      background-color: #434B5C;\n      box-shadow: 0px 1px 3px 1px rgba(0, 0, 0, 0.15);\n      filter: drop-shadow(0px 1px 2px rgba(0, 0, 0, 0.3));\n      fill: #FFFFFF;\n    }\n  </style>\n\n    <script>\n      const buttonEl =\n        document.querySelector('#df-941a35e2-5668-4fe6-9bca-b39c4362b7ef button.colab-df-convert');\n      buttonEl.style.display =\n        google.colab.kernel.accessAllowed ? 'block' : 'none';\n\n      async function convertToInteractive(key) {\n        const element = document.querySelector('#df-941a35e2-5668-4fe6-9bca-b39c4362b7ef');\n        const dataTable =\n          await google.colab.kernel.invokeFunction('convertToInteractive',\n                                                    [key], {});\n        if (!dataTable) return;\n\n        const docLinkHtml = 'Like what you see? Visit the ' +\n          '<a target=\"_blank\" href=https://colab.research.google.com/notebooks/data_table.ipynb>data table notebook</a>'\n          + ' to learn more about interactive tables.';\n        element.innerHTML = '';\n        dataTable['output_type'] = 'display_data';\n        await google.colab.output.renderOutput(dataTable, element);\n        const docLink = document.createElement('div');\n        docLink.innerHTML = docLinkHtml;\n        element.appendChild(docLink);\n      }\n    </script>\n  </div>\n\n\n<div id=\"df-8cfddd5e-c904-4855-93bd-aec33df5dc4f\">\n  <button class=\"colab-df-quickchart\" onclick=\"quickchart('df-8cfddd5e-c904-4855-93bd-aec33df5dc4f')\"\n            title=\"Suggest charts\"\n            style=\"display:none;\">\n\n<svg xmlns=\"http://www.w3.org/2000/svg\" height=\"24px\"viewBox=\"0 0 24 24\"\n     width=\"24px\">\n    <g>\n        <path d=\"M19 3H5c-1.1 0-2 .9-2 2v14c0 1.1.9 2 2 2h14c1.1 0 2-.9 2-2V5c0-1.1-.9-2-2-2zM9 17H7v-7h2v7zm4 0h-2V7h2v10zm4 0h-2v-4h2v4z\"/>\n    </g>\n</svg>\n  </button>\n\n<style>\n  .colab-df-quickchart {\n      --bg-color: #E8F0FE;\n      --fill-color: #1967D2;\n      --hover-bg-color: #E2EBFA;\n      --hover-fill-color: #174EA6;\n      --disabled-fill-color: #AAA;\n      --disabled-bg-color: #DDD;\n  }\n\n  [theme=dark] .colab-df-quickchart {\n      --bg-color: #3B4455;\n      --fill-color: #D2E3FC;\n      --hover-bg-color: #434B5C;\n      --hover-fill-color: #FFFFFF;\n      --disabled-bg-color: #3B4455;\n      --disabled-fill-color: #666;\n  }\n\n  .colab-df-quickchart {\n    background-color: var(--bg-color);\n    border: none;\n    border-radius: 50%;\n    cursor: pointer;\n    display: none;\n    fill: var(--fill-color);\n    height: 32px;\n    padding: 0;\n    width: 32px;\n  }\n\n  .colab-df-quickchart:hover {\n    background-color: var(--hover-bg-color);\n    box-shadow: 0 1px 2px rgba(60, 64, 67, 0.3), 0 1px 3px 1px rgba(60, 64, 67, 0.15);\n    fill: var(--button-hover-fill-color);\n  }\n\n  .colab-df-quickchart-complete:disabled,\n  .colab-df-quickchart-complete:disabled:hover {\n    background-color: var(--disabled-bg-color);\n    fill: var(--disabled-fill-color);\n    box-shadow: none;\n  }\n\n  .colab-df-spinner {\n    border: 2px solid var(--fill-color);\n    border-color: transparent;\n    border-bottom-color: var(--fill-color);\n    animation:\n      spin 1s steps(1) infinite;\n  }\n\n  @keyframes spin {\n    0% {\n      border-color: transparent;\n      border-bottom-color: var(--fill-color);\n      border-left-color: var(--fill-color);\n    }\n    20% {\n      border-color: transparent;\n      border-left-color: var(--fill-color);\n      border-top-color: var(--fill-color);\n    }\n    30% {\n      border-color: transparent;\n      border-left-color: var(--fill-color);\n      border-top-color: var(--fill-color);\n      border-right-color: var(--fill-color);\n    }\n    40% {\n      border-color: transparent;\n      border-right-color: var(--fill-color);\n      border-top-color: var(--fill-color);\n    }\n    60% {\n      border-color: transparent;\n      border-right-color: var(--fill-color);\n    }\n    80% {\n      border-color: transparent;\n      border-right-color: var(--fill-color);\n      border-bottom-color: var(--fill-color);\n    }\n    90% {\n      border-color: transparent;\n      border-bottom-color: var(--fill-color);\n    }\n  }\n</style>\n\n  <script>\n    async function quickchart(key) {\n      const quickchartButtonEl =\n        document.querySelector('#' + key + ' button');\n      quickchartButtonEl.disabled = true;  // To prevent multiple clicks.\n      quickchartButtonEl.classList.add('colab-df-spinner');\n      try {\n        const charts = await google.colab.kernel.invokeFunction(\n            'suggestCharts', [key], {});\n      } catch (error) {\n        console.error('Error during call to suggestCharts:', error);\n      }\n      quickchartButtonEl.classList.remove('colab-df-spinner');\n      quickchartButtonEl.classList.add('colab-df-quickchart-complete');\n    }\n    (() => {\n      let quickchartButtonEl =\n        document.querySelector('#df-8cfddd5e-c904-4855-93bd-aec33df5dc4f button');\n      quickchartButtonEl.style.display =\n        google.colab.kernel.accessAllowed ? 'block' : 'none';\n    })();\n  </script>\n</div>\n\n    </div>\n  </div>\n",
                  "text/plain": "          Civico     Codice via       ZD        Camere    Piani totali  \\\ncount    421.000000   437.000000  437.000000  450.000000   187.000000    \nmean     126.061758  3105.935927    4.075515   60.002222     4.614973    \nstd     2026.885920  2140.700197    2.607553   70.441133     2.482496    \nmin        1.000000     1.000000    1.000000    7.000000     1.000000    \n25%        7.000000  1510.000000    2.000000   16.000000     3.000000    \n50%       16.000000  2250.000000    3.000000   32.000000     4.000000    \n75%       33.000000  5097.000000    7.000000   72.000000     6.000000    \nmax    41609.000000  7505.000000    9.000000  439.000000    17.000000    \n\n       Posti letto  \ncount  450.000000   \nmean   114.128889   \nstd    141.013548   \nmin      7.000000   \n25%     25.000000   \n50%     60.000000   \n75%    137.250000   \nmax    922.000000   "
                },
                "metadata": {},
                "output_type": "display_data"
              }
            ]
          }
        },
        "8384f79a6ecf45ad9be4ba410e76542c": {
          "model_module": "@jupyter-widgets/base",
          "model_module_version": "1.2.0",
          "model_name": "LayoutModel",
          "state": {
            "_model_module": "@jupyter-widgets/base",
            "_model_module_version": "1.2.0",
            "_model_name": "LayoutModel",
            "_view_count": null,
            "_view_module": "@jupyter-widgets/base",
            "_view_module_version": "1.2.0",
            "_view_name": "LayoutView",
            "align_content": null,
            "align_items": null,
            "align_self": null,
            "border": null,
            "bottom": null,
            "display": null,
            "flex": null,
            "flex_flow": null,
            "grid_area": null,
            "grid_auto_columns": null,
            "grid_auto_flow": null,
            "grid_auto_rows": null,
            "grid_column": null,
            "grid_gap": null,
            "grid_row": null,
            "grid_template_areas": null,
            "grid_template_columns": null,
            "grid_template_rows": null,
            "height": null,
            "justify_content": null,
            "justify_items": null,
            "left": null,
            "margin": null,
            "max_height": null,
            "max_width": null,
            "min_height": null,
            "min_width": null,
            "object_fit": null,
            "object_position": null,
            "order": null,
            "overflow": null,
            "overflow_x": null,
            "overflow_y": null,
            "padding": null,
            "right": null,
            "top": "5px",
            "visibility": null,
            "width": "140px"
          }
        },
        "a8b986941b364adfab02759d8b04f04a": {
          "model_module": "@jupyter-widgets/controls",
          "model_module_version": "1.5.0",
          "model_name": "ButtonModel",
          "state": {
            "_dom_classes": [],
            "_model_module": "@jupyter-widgets/controls",
            "_model_module_version": "1.5.0",
            "_model_name": "ButtonModel",
            "_view_count": null,
            "_view_module": "@jupyter-widgets/controls",
            "_view_module_version": "1.5.0",
            "_view_name": "ButtonView",
            "button_style": "",
            "description": "Toggle Pandas/Lux",
            "disabled": false,
            "icon": "",
            "layout": "IPY_MODEL_71b74e88855d4726954ce0b4a4c396f4",
            "style": "IPY_MODEL_e4b95a7c49ea43cf8799f047dc14e449",
            "tooltip": ""
          }
        },
        "c8feb42685204c02a04563f91031d1a9": {
          "model_module": "@jupyter-widgets/controls",
          "model_module_version": "1.5.0",
          "model_name": "ButtonModel",
          "state": {
            "_dom_classes": [],
            "_model_module": "@jupyter-widgets/controls",
            "_model_module_version": "1.5.0",
            "_model_name": "ButtonModel",
            "_view_count": null,
            "_view_module": "@jupyter-widgets/controls",
            "_view_module_version": "1.5.0",
            "_view_name": "ButtonView",
            "button_style": "",
            "description": "Toggle Pandas/Lux",
            "disabled": false,
            "icon": "",
            "layout": "IPY_MODEL_8384f79a6ecf45ad9be4ba410e76542c",
            "style": "IPY_MODEL_cc04edc8a59c4df084fd782f62791a91",
            "tooltip": ""
          }
        },
        "cc04edc8a59c4df084fd782f62791a91": {
          "model_module": "@jupyter-widgets/controls",
          "model_module_version": "1.5.0",
          "model_name": "ButtonStyleModel",
          "state": {
            "_model_module": "@jupyter-widgets/controls",
            "_model_module_version": "1.5.0",
            "_model_name": "ButtonStyleModel",
            "_view_count": null,
            "_view_module": "@jupyter-widgets/base",
            "_view_module_version": "1.2.0",
            "_view_name": "StyleView",
            "button_color": null,
            "font_weight": ""
          }
        },
        "d0c1e35f30af4035a9bc002e054d9c6f": {
          "model_module": "@jupyter-widgets/base",
          "model_module_version": "1.2.0",
          "model_name": "LayoutModel",
          "state": {
            "_model_module": "@jupyter-widgets/base",
            "_model_module_version": "1.2.0",
            "_model_name": "LayoutModel",
            "_view_count": null,
            "_view_module": "@jupyter-widgets/base",
            "_view_module_version": "1.2.0",
            "_view_name": "LayoutView",
            "align_content": null,
            "align_items": null,
            "align_self": null,
            "border": null,
            "bottom": null,
            "display": null,
            "flex": null,
            "flex_flow": null,
            "grid_area": null,
            "grid_auto_columns": null,
            "grid_auto_flow": null,
            "grid_auto_rows": null,
            "grid_column": null,
            "grid_gap": null,
            "grid_row": null,
            "grid_template_areas": null,
            "grid_template_columns": null,
            "grid_template_rows": null,
            "height": null,
            "justify_content": null,
            "justify_items": null,
            "left": null,
            "margin": null,
            "max_height": null,
            "max_width": null,
            "min_height": null,
            "min_width": null,
            "object_fit": null,
            "object_position": null,
            "order": null,
            "overflow": null,
            "overflow_x": null,
            "overflow_y": null,
            "padding": null,
            "right": null,
            "top": null,
            "visibility": null,
            "width": null
          }
        },
        "e07f23a12fcd478abb2f9a1582eb9ed9": {
          "model_module": "@jupyter-widgets/base",
          "model_module_version": "1.2.0",
          "model_name": "LayoutModel",
          "state": {
            "_model_module": "@jupyter-widgets/base",
            "_model_module_version": "1.2.0",
            "_model_name": "LayoutModel",
            "_view_count": null,
            "_view_module": "@jupyter-widgets/base",
            "_view_module_version": "1.2.0",
            "_view_name": "LayoutView",
            "align_content": null,
            "align_items": null,
            "align_self": null,
            "border": null,
            "bottom": null,
            "display": null,
            "flex": null,
            "flex_flow": null,
            "grid_area": null,
            "grid_auto_columns": null,
            "grid_auto_flow": null,
            "grid_auto_rows": null,
            "grid_column": null,
            "grid_gap": null,
            "grid_row": null,
            "grid_template_areas": null,
            "grid_template_columns": null,
            "grid_template_rows": null,
            "height": null,
            "justify_content": null,
            "justify_items": null,
            "left": null,
            "margin": null,
            "max_height": null,
            "max_width": null,
            "min_height": null,
            "min_width": null,
            "object_fit": null,
            "object_position": null,
            "order": null,
            "overflow": null,
            "overflow_x": null,
            "overflow_y": null,
            "padding": null,
            "right": null,
            "top": "5px",
            "visibility": null,
            "width": "140px"
          }
        },
        "e4b95a7c49ea43cf8799f047dc14e449": {
          "model_module": "@jupyter-widgets/controls",
          "model_module_version": "1.5.0",
          "model_name": "ButtonStyleModel",
          "state": {
            "_model_module": "@jupyter-widgets/controls",
            "_model_module_version": "1.5.0",
            "_model_name": "ButtonStyleModel",
            "_view_count": null,
            "_view_module": "@jupyter-widgets/base",
            "_view_module_version": "1.2.0",
            "_view_name": "StyleView",
            "button_color": null,
            "font_weight": ""
          }
        }
      }
    }
  },
  "nbformat": 4,
  "nbformat_minor": 0
}
